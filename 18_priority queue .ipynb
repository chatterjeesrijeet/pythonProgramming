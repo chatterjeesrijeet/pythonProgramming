{
 "cells": [
  {
   "cell_type": "markdown",
   "metadata": {},
   "source": [
    "### Priority Queue Implementation :"
   ]
  },
  {
   "cell_type": "markdown",
   "metadata": {},
   "source": [
    "##### suppose we are implementing min heap "
   ]
  },
  {
   "cell_type": "code",
   "execution_count": 1,
   "metadata": {},
   "outputs": [],
   "source": [
    "class pqnode:\n",
    "    \n",
    "    def __init__(self,val,p):\n",
    "        self.val = val\n",
    "        self.p = p"
   ]
  },
  {
   "cell_type": "code",
   "execution_count": 63,
   "metadata": {},
   "outputs": [],
   "source": [
    "class PriorityQueue:\n",
    "    \n",
    "    def __init__(self):\n",
    "        self.pq = []\n",
    "        \n",
    "    def getSize(self):\n",
    "        return len(self.pq)\n",
    "    \n",
    "    def isEmpty(self):\n",
    "        return self.getSize()==0\n",
    "    \n",
    "    def __heapUp(self):\n",
    "        \n",
    "        if self.isEmpty() is True:\n",
    "            return \n",
    "        \n",
    "        concernedIndex = self.getSize()-1\n",
    "        parentIndex = (concernedIndex - 1 ) // 2\n",
    "        \n",
    "        while concernedIndex > 0 :\n",
    "            \n",
    "            if self.pq[concernedIndex].p < self.pq[parentIndex].p:\n",
    "                self.pq[concernedIndex],self.pq[parentIndex] = self.pq[parentIndex],self.pq[concernedIndex]\n",
    "                concernedIndex = parentIndex\n",
    "                parentIndex = (concernedIndex - 1 ) // 2\n",
    "                \n",
    "            else:\n",
    "                break\n",
    "    \n",
    "    def insert(self,val,p):\n",
    "        newNode = pqnode(val,p)\n",
    "        self.pq.append(newNode)\n",
    "        self.__heapUp()\n",
    "        \n",
    "        \n",
    "    def __heapDown(self):\n",
    "        \n",
    "        if self.getSize() <= 1 :\n",
    "            return\n",
    "        \n",
    "        concernedNodeIndex = 0\n",
    "        leftnodeIndex = concernedNodeIndex * 2 + 1\n",
    "        rightnodeIndex = concernedNodeIndex*2 + 2\n",
    "        \n",
    "        lastIndex = self.getSize()-1\n",
    "        \n",
    "        while leftnodeIndex <= lastIndex:\n",
    "            \n",
    "            minNodeIndex = concernedNodeIndex\n",
    "            \n",
    "            if self.pq[leftnodeIndex].p < self.pq[concernedNodeIndex].p:\n",
    "                minNodeIndex = leftnodeIndex\n",
    "                \n",
    "                if rightnodeIndex <= lastIndex and self.pq[rightnodeIndex].p < self.pq[minNodeIndex].p:\n",
    "                    minNodeIndex = rightnodeIndex\n",
    "                    \n",
    "            if minNodeIndex == concernedNodeIndex:\n",
    "                break\n",
    "            \n",
    "            self.pq[concernedNodeIndex],self.pq[minNodeIndex] = self.pq[minNodeIndex],self.pq[concernedNodeIndex]\n",
    "\n",
    "                \n",
    "            concernedNodeIndex = minNodeIndex\n",
    "            leftnodeIndex = concernedNodeIndex * 2 + 1\n",
    "            rightnodeIndex = concernedNodeIndex*2 + 2\n",
    "            \n",
    "        \n",
    "    def remove(self):\n",
    "        \n",
    "        if self.getSize() <= 0:\n",
    "            return None\n",
    "        \n",
    "        removedItem = self.pq[0]\n",
    "        lastNode = self.pq[self.getSize()-1]\n",
    "        \n",
    "        self.pq[0] = lastNode\n",
    "        self.pq.pop()\n",
    "        self.__heapDown()\n",
    "        \n",
    "        return removedItem\n",
    "        \n",
    "    def __str__(self):\n",
    "        \n",
    "        mylist = []\n",
    "        \n",
    "        for ele in self.pq:\n",
    "            mylist.append((ele.val,ele.p))\n",
    "            \n",
    "        return str(mylist)"
   ]
  },
  {
   "cell_type": "code",
   "execution_count": 64,
   "metadata": {},
   "outputs": [],
   "source": [
    "pq = PriorityQueue()"
   ]
  },
  {
   "cell_type": "code",
   "execution_count": 65,
   "metadata": {},
   "outputs": [
    {
     "name": "stdout",
     "output_type": "stream",
     "text": [
      "0\n",
      "True\n",
      "[]\n"
     ]
    }
   ],
   "source": [
    "print(pq.getSize())\n",
    "print(pq.isEmpty())\n",
    "print(pq)"
   ]
  },
  {
   "cell_type": "code",
   "execution_count": 66,
   "metadata": {},
   "outputs": [
    {
     "name": "stdout",
     "output_type": "stream",
     "text": [
      "10\n",
      "False\n",
      "[('d', 3), ('j', 9), ('c', 30), ('b', 20), ('a', 10), ('f', 80), ('g', 90), ('h', 40), ('i', 70), ('e', 50)]\n"
     ]
    }
   ],
   "source": [
    "pq.insert('a',10)\n",
    "pq.insert('b',20)\n",
    "pq.insert('c',30)\n",
    "pq.insert('d',3)\n",
    "pq.insert('e',50)\n",
    "pq.insert('f',80)\n",
    "pq.insert('g',90)\n",
    "pq.insert('h',40)\n",
    "pq.insert('i',70)\n",
    "pq.insert('j',9)\n",
    "\n",
    "print(pq.getSize())\n",
    "print(pq.isEmpty())\n",
    "print(pq)"
   ]
  },
  {
   "cell_type": "code",
   "execution_count": 67,
   "metadata": {},
   "outputs": [
    {
     "name": "stdout",
     "output_type": "stream",
     "text": [
      "9\n",
      "False\n",
      "[('j', 9), ('a', 10), ('c', 30), ('b', 20), ('e', 50), ('f', 80), ('g', 90), ('h', 40), ('i', 70)]\n"
     ]
    }
   ],
   "source": [
    "pq.remove()\n",
    "\n",
    "print(pq.getSize())\n",
    "print(pq.isEmpty())\n",
    "print(pq)"
   ]
  },
  {
   "cell_type": "code",
   "execution_count": 68,
   "metadata": {},
   "outputs": [
    {
     "name": "stdout",
     "output_type": "stream",
     "text": [
      "8\n",
      "False\n",
      "[('a', 10), ('b', 20), ('c', 30), ('h', 40), ('e', 50), ('f', 80), ('g', 90), ('i', 70)]\n"
     ]
    }
   ],
   "source": [
    "pq.remove()\n",
    "\n",
    "print(pq.getSize())\n",
    "print(pq.isEmpty())\n",
    "print(pq)"
   ]
  },
  {
   "cell_type": "code",
   "execution_count": 69,
   "metadata": {},
   "outputs": [
    {
     "name": "stdout",
     "output_type": "stream",
     "text": [
      "0\n",
      "True\n",
      "[]\n"
     ]
    }
   ],
   "source": [
    "pq = PriorityQueue()\n",
    "print(pq.getSize())\n",
    "print(pq.isEmpty())\n",
    "print(pq)"
   ]
  },
  {
   "cell_type": "code",
   "execution_count": 71,
   "metadata": {},
   "outputs": [
    {
     "name": "stdout",
     "output_type": "stream",
     "text": [
      "d\n",
      "c\n",
      "a\n",
      "b\n"
     ]
    }
   ],
   "source": [
    "pq.insert('a',10)\n",
    "pq.insert('c',5)\n",
    "pq.insert('b',19)\n",
    "pq.insert('d',4)\n",
    "\n",
    "for i in range(4):\n",
    "    print(pq.remove().val)"
   ]
  },
  {
   "cell_type": "markdown",
   "metadata": {},
   "source": [
    "### Heap Sort "
   ]
  },
  {
   "cell_type": "raw",
   "metadata": {},
   "source": [
    "Lets now use the concept of heaps to sort an array ....\n",
    "\n",
    "what we will do is :\n",
    "     1. create an heap using n elements of an array i.e. n insertions O(nlogn)\n",
    "     2. remove n elements one by one and add it into a seprate array O(nlogn)"
   ]
  },
  {
   "cell_type": "raw",
   "metadata": {},
   "source": [
    "We will also modify the heap logic by removing the (value,priority) node structure to value only."
   ]
  },
  {
   "cell_type": "code",
   "execution_count": 75,
   "metadata": {},
   "outputs": [],
   "source": [
    "class PriorityQueue:\n",
    "    \n",
    "    def __init__(self):\n",
    "        self.pq = []\n",
    "        \n",
    "    def getSize(self):\n",
    "        return len(self.pq)\n",
    "    \n",
    "    def isEmpty(self):\n",
    "        return self.getSize()==0\n",
    "    \n",
    "    def __heapUp(self):\n",
    "        \n",
    "        if self.isEmpty() is True:\n",
    "            return \n",
    "        \n",
    "        concernedIndex = self.getSize()-1\n",
    "        parentIndex = (concernedIndex - 1 ) // 2\n",
    "        \n",
    "        while concernedIndex > 0 :\n",
    "            \n",
    "            if self.pq[concernedIndex] < self.pq[parentIndex]:\n",
    "                self.pq[concernedIndex],self.pq[parentIndex] = self.pq[parentIndex],self.pq[concernedIndex]\n",
    "                concernedIndex = parentIndex\n",
    "                parentIndex = (concernedIndex - 1 ) // 2\n",
    "                \n",
    "            else:\n",
    "                break\n",
    "    \n",
    "    def insert(self,val):\n",
    "        self.pq.append(val)\n",
    "        self.__heapUp()\n",
    "        \n",
    "        \n",
    "    def __heapDown(self):\n",
    "        \n",
    "        if self.getSize() <= 1 :\n",
    "            return\n",
    "        \n",
    "        concernedNodeIndex = 0\n",
    "        leftnodeIndex = concernedNodeIndex * 2 + 1\n",
    "        rightnodeIndex = concernedNodeIndex*2 + 2\n",
    "        \n",
    "        lastIndex = self.getSize()-1\n",
    "        \n",
    "        while leftnodeIndex <= lastIndex:\n",
    "            \n",
    "            minNodeIndex = concernedNodeIndex\n",
    "            \n",
    "            if self.pq[leftnodeIndex] < self.pq[minNodeIndex]:\n",
    "                minNodeIndex = leftnodeIndex\n",
    "                \n",
    "            if rightnodeIndex <= lastIndex and self.pq[rightnodeIndex] < self.pq[minNodeIndex]:\n",
    "                minNodeIndex = rightnodeIndex\n",
    "                    \n",
    "            if minNodeIndex == concernedNodeIndex:\n",
    "                break\n",
    "            \n",
    "            self.pq[concernedNodeIndex],self.pq[minNodeIndex] = self.pq[minNodeIndex],self.pq[concernedNodeIndex]\n",
    "\n",
    "                \n",
    "            concernedNodeIndex = minNodeIndex\n",
    "            leftnodeIndex = concernedNodeIndex * 2 + 1\n",
    "            rightnodeIndex = concernedNodeIndex*2 + 2\n",
    "            \n",
    "        \n",
    "    def remove(self):\n",
    "        \n",
    "        if self.getSize() <= 0:\n",
    "            return None\n",
    "        \n",
    "        removedItem = self.pq[0]\n",
    "        lastNode = self.pq[self.getSize()-1]\n",
    "        \n",
    "        self.pq[0] = lastNode\n",
    "        self.pq.pop()\n",
    "        self.__heapDown()\n",
    "        \n",
    "        return removedItem\n",
    "        \n",
    "    def __str__(self):\n",
    "        \n",
    "        mylist = []\n",
    "        \n",
    "        for ele in self.pq:\n",
    "            mylist.append(ele)\n",
    "            \n",
    "        return str(mylist)"
   ]
  },
  {
   "cell_type": "code",
   "execution_count": 76,
   "metadata": {},
   "outputs": [
    {
     "name": "stdout",
     "output_type": "stream",
     "text": [
      "0\n",
      "True\n",
      "[]\n"
     ]
    }
   ],
   "source": [
    "pq = PriorityQueue()\n",
    "print(pq.getSize())\n",
    "print(pq.isEmpty())\n",
    "print(pq)"
   ]
  },
  {
   "cell_type": "code",
   "execution_count": 78,
   "metadata": {},
   "outputs": [
    {
     "name": "stdout",
     "output_type": "stream",
     "text": [
      "4\n",
      "5\n",
      "10\n",
      "19\n"
     ]
    }
   ],
   "source": [
    "pq.insert(10)\n",
    "pq.insert(5)\n",
    "pq.insert(19)\n",
    "pq.insert(4)\n",
    "\n",
    "for i in range(4):\n",
    "    print(pq.remove())"
   ]
  },
  {
   "cell_type": "code",
   "execution_count": null,
   "metadata": {},
   "outputs": [],
   "source": [
    "So basically heap with only value is properly implemented ..."
   ]
  },
  {
   "cell_type": "code",
   "execution_count": 81,
   "metadata": {},
   "outputs": [],
   "source": [
    "def heapSort(arr):\n",
    "    \n",
    "    pq = PriorityQueue()\n",
    "    \n",
    "    for values in arr:\n",
    "        pq.insert(values)\n",
    "    \n",
    "    for i in range((pq.getSize())):\n",
    "        arr[i] = pq.remove()\n",
    "        \n",
    "    return arr"
   ]
  },
  {
   "cell_type": "code",
   "execution_count": 88,
   "metadata": {},
   "outputs": [
    {
     "name": "stdout",
     "output_type": "stream",
     "text": [
      "[1, 1, 2, 3, 11, 22, 23]\n"
     ]
    }
   ],
   "source": [
    "print(heapSort([1,2,1,3,22,11,23]))"
   ]
  },
  {
   "cell_type": "raw",
   "metadata": {},
   "source": [
    "Lets try to implement inplace heap sort :\n",
    "    \n",
    "    >> This would require us to define the Priority Concept with an array \n",
    "    with starting index and end Index .\n",
    "    \n",
    "    >> Using Starting index and end index we can create a hypothetical boundry \n",
    "    on the input array only \n",
    "    \n",
    "    >> Lets first consider that we have those boundry based Priority Queues \n",
    "    already defined. And code for the calling functions !!!\n",
    "    "
   ]
  },
  {
   "cell_type": "code",
   "execution_count": 168,
   "metadata": {},
   "outputs": [],
   "source": [
    "def heapSortinplace(arr):\n",
    "    \n",
    "    for i in range(len(arr)):\n",
    "        '''\n",
    "        >> its like you are inserting the end_index value \n",
    "        >> As an output the arr will be in priority queue format from si to ei'''\n",
    "        arr = heapInsert(arr,si=0,ei=i)  \n",
    "        \n",
    "    ''' \n",
    "    now lets do the remove :\n",
    "    >>> remove the top element n(array size -1) times \n",
    "    >>> moment we remove we put it at the end index \n",
    "            for i = 0 , removed_ele_index = len(arr)-1-i the position\n",
    "            for i = 1 , removed_ele_index = len(arr)-1-i the position\n",
    "    >>> we will do heapDown from i = 0 to len(arr)-1-i-1\n",
    "            hypothetical head start index = 0 , end index = len(arr)-1-i-1\n",
    "            \n",
    "    '''\n",
    "    for i in range(len(arr)):\n",
    "        arr = heapRemove(arr,si = 0 , ei = (len(arr)-1-i))\n",
    "        \n",
    "    print(arr)\n",
    "    \n",
    "    return\n",
    "    "
   ]
  },
  {
   "cell_type": "code",
   "execution_count": 117,
   "metadata": {},
   "outputs": [],
   "source": [
    "def heapInsert(arr,si, ei):\n",
    "    \n",
    "    if si==ei:\n",
    "        return arr\n",
    "    \n",
    "    conIndex = ei\n",
    "    pi = (ei-1)//2\n",
    "    \n",
    "    while conIndex > 0 :\n",
    "        if arr[conIndex] < arr[pi]:\n",
    "            arr[conIndex],arr[pi] = arr[pi],arr[conIndex]\n",
    "            # updated concerned index and parent index for the concerned index \n",
    "            conIndex = pi\n",
    "            pi = (conIndex - 1)//2\n",
    "        else:\n",
    "            break\n",
    "    return arr"
   ]
  },
  {
   "cell_type": "code",
   "execution_count": 169,
   "metadata": {},
   "outputs": [
    {
     "name": "stdout",
     "output_type": "stream",
     "text": [
      " index 0 to 0 Min-Heap : [4, 11, 13, 9, 2, 17]\n",
      " index 0 to 1 Min-Heap : [4, 11, 13, 9, 2, 17]\n",
      " index 0 to 2 Min-Heap : [4, 11, 13, 9, 2, 17]\n",
      " index 0 to 3 Min-Heap : [4, 9, 13, 11, 2, 17]\n",
      " index 0 to 4 Min-Heap : [2, 4, 13, 11, 9, 17]\n",
      " index 0 to 5 Min-Heap : [2, 4, 13, 11, 9, 17]\n"
     ]
    }
   ],
   "source": [
    "arr = [4,11,13,9,2,17]\n",
    "for i in range(len(arr)):\n",
    "    arr = heapInsert(arr,si = 0,ei = i)\n",
    "    print(f\" index 0 to {i} Min-Heap : {arr}\")"
   ]
  },
  {
   "cell_type": "code",
   "execution_count": 170,
   "metadata": {},
   "outputs": [],
   "source": [
    "def heapRemove(arr,si,ei):\n",
    "    \n",
    "    #switch start and end index elements \n",
    "    arr[si],arr[ei] = arr[ei],arr[si]\n",
    "    \n",
    "    ei = ei-1  # as ei will have the popped item\n",
    "    # now i play within these si and ei \n",
    "    \n",
    "    if si == ei:\n",
    "        return arr\n",
    "\n",
    "    concernedindex = si \n",
    "    leftChildIndex = (2*concernedindex + 1)\n",
    "    rightChildIndex = (2*concernedindex + 2)\n",
    "    \n",
    "    while leftChildIndex <= ei:\n",
    "        \n",
    "        minIndex = concernedindex\n",
    "        \n",
    "        if arr[leftChildIndex] < arr[minIndex]:\n",
    "            minIndex = leftChildIndex\n",
    "            \n",
    "        if rightChildIndex <= ei:\n",
    "            if arr[rightChildIndex] < arr[minIndex]:\n",
    "                minIndex = rightChildIndex\n",
    "                \n",
    "        if minIndex==concernedindex:\n",
    "            break\n",
    "            \n",
    "        arr[minIndex],arr[concernedindex] = arr[concernedindex],arr[minIndex]\n",
    "        \n",
    "        concernedindex = minIndex\n",
    "        leftChildIndex = (2*concernedindex + 1)\n",
    "        rightChildIndex = (2*concernedindex + 2)\n",
    "        \n",
    "    return arr"
   ]
  },
  {
   "cell_type": "code",
   "execution_count": 171,
   "metadata": {},
   "outputs": [
    {
     "name": "stdout",
     "output_type": "stream",
     "text": [
      " Min-Heap with 1 min ele at last : [4, 9, 13, 11, 17, 2]\n",
      " Min-Heap with 2 min ele at last : [9, 11, 13, 17, 4, 2]\n",
      " Min-Heap with 3 min ele at last : [11, 17, 13, 9, 4, 2]\n",
      " Min-Heap with 4 min ele at last : [13, 17, 11, 9, 4, 2]\n",
      " Min-Heap with 5 min ele at last : [17, 13, 11, 9, 4, 2]\n"
     ]
    }
   ],
   "source": [
    "arr1 = [2, 4, 13, 11, 9, 17]\n",
    "for i in range(len(arr1)-1):\n",
    "        arr1 = heapRemove(arr1,si = 0 , ei = (len(arr1)-1-i))\n",
    "        print(f\" Min-Heap with {i+1} min ele at last : {arr1}\")"
   ]
  },
  {
   "cell_type": "code",
   "execution_count": 172,
   "metadata": {},
   "outputs": [
    {
     "name": "stdout",
     "output_type": "stream",
     "text": [
      "[17, 13, 11, 9, 4, 2]\n",
      "[44, 11, 9, 8, 1, 0]\n",
      "[27, 22, 19, 13, 11, 4]\n",
      "[11, 4]\n",
      "[4]\n",
      "[]\n"
     ]
    }
   ],
   "source": [
    "## now lets call the complete function together:\n",
    "\n",
    "arr1 = [4,11,13,9,2,17]\n",
    "heapSortinplace(arr1)\n",
    "\n",
    "arr2 = [44,11,9,8,1,0]\n",
    "heapSortinplace(arr2)\n",
    "\n",
    "arr3 = [4,11,13,19,22,27]\n",
    "heapSortinplace(arr3)\n",
    "\n",
    "arr4 = [4,11]\n",
    "heapSortinplace(arr4)\n",
    "\n",
    "arr5 = [4]\n",
    "heapSortinplace(arr5)\n",
    "\n",
    "arr6 = []\n",
    "heapSortinplace(arr6)"
   ]
  },
  {
   "cell_type": "markdown",
   "metadata": {},
   "source": [
    "### when you use build heap with O(n)"
   ]
  },
  {
   "cell_type": "code",
   "execution_count": 174,
   "metadata": {},
   "outputs": [],
   "source": [
    "def heapify(arr,si,ei):\n",
    "    \n",
    "    concernedindex = si \n",
    "    leftChildIndex = (2*concernedindex + 1)\n",
    "    rightChildIndex = (2*concernedindex + 2)\n",
    "    \n",
    "    while leftChildIndex <= ei:\n",
    "        \n",
    "        minIndex = concernedindex\n",
    "        \n",
    "        if arr[leftChildIndex] < arr[minIndex]:\n",
    "            minIndex = leftChildIndex\n",
    "            \n",
    "        if rightChildIndex <= ei:\n",
    "            if arr[rightChildIndex] < arr[minIndex]:\n",
    "                minIndex = rightChildIndex\n",
    "                \n",
    "        if minIndex==concernedindex:\n",
    "            break\n",
    "            \n",
    "        arr[minIndex],arr[concernedindex] = arr[concernedindex],arr[minIndex]\n",
    "        \n",
    "        concernedindex = minIndex\n",
    "        leftChildIndex = (2*concernedindex + 1)\n",
    "        rightChildIndex = (2*concernedindex + 2)\n",
    "        \n",
    "    return arr"
   ]
  },
  {
   "cell_type": "code",
   "execution_count": 182,
   "metadata": {},
   "outputs": [],
   "source": [
    "def OptimalheapSortinplace(arr):\n",
    "    \n",
    "    '''\n",
    "    Lets build using heaify :\n",
    "       >>> call heapify at the last non-leaf node to the first node (root node)\n",
    "            i.e. from i = (n//2 -1 ) to i= 0\n",
    "       >>> for all of them si = i and ei = len(arr)-1\n",
    "    '''\n",
    "    n = len(arr)\n",
    "    for i in range(n//2 -1 ,-1,-1):\n",
    "        arr = heapify(arr,si=i,ei=n-1)\n",
    "                \n",
    "    ''' \n",
    "    now lets do the remove :\n",
    "    >>> remove the top element n(array size -1) times \n",
    "    >>> moment we remove we put it at the end index \n",
    "            for i = 0 , removed_ele_index = len(arr)-1-i the position\n",
    "            for i = 1 , removed_ele_index = len(arr)-1-i the position\n",
    "    >>> we will do heapDown from i = 0 to len(arr)-1-i-1\n",
    "            hypothetical head start index = 0 , end index = len(arr)-1-i-1\n",
    "            \n",
    "    '''\n",
    "    for i in range(len(arr)):\n",
    "        si,ei  = 0,(len(arr)-1-i)\n",
    "        arr[si],arr[ei] = arr[ei],arr[si]\n",
    "        ei = ei-1\n",
    "        arr = heapify(arr,si,ei)\n",
    "    print(arr)\n",
    "    \n",
    "    return"
   ]
  },
  {
   "cell_type": "code",
   "execution_count": 183,
   "metadata": {},
   "outputs": [
    {
     "name": "stdout",
     "output_type": "stream",
     "text": [
      "[17, 13, 11, 9, 4, 2]\n",
      "[44, 11, 9, 8, 1, 0]\n",
      "[27, 22, 19, 13, 11, 4]\n",
      "[11, 4]\n",
      "[4]\n",
      "[]\n"
     ]
    }
   ],
   "source": [
    "arr1 = [4,11,13,9,2,17]\n",
    "OptimalheapSortinplace(arr1)\n",
    "\n",
    "arr2 = [44,11,9,8,1,0]\n",
    "OptimalheapSortinplace(arr2)\n",
    "\n",
    "arr3 = [4,11,13,19,22,27]\n",
    "OptimalheapSortinplace(arr3)\n",
    "\n",
    "arr4 = [4,11]\n",
    "OptimalheapSortinplace(arr4)\n",
    "\n",
    "arr5 = [4]\n",
    "OptimalheapSortinplace(arr5)\n",
    "\n",
    "arr6 = []\n",
    "OptimalheapSortinplace(arr6)"
   ]
  },
  {
   "cell_type": "markdown",
   "metadata": {},
   "source": [
    "# Inbuild Heaps "
   ]
  },
  {
   "cell_type": "markdown",
   "metadata": {},
   "source": [
    "### Min Heap "
   ]
  },
  {
   "cell_type": "markdown",
   "metadata": {},
   "source": [
    "     1) heapq.heapify(li)\n",
    "     2) heapq.heappush(li,3)\n",
    "     3) heapq.heappop(li) ---------> returns the element it removed \n",
    "     4) heapq.heapreplace(li,6) ---->returns the element it removed"
   ]
  },
  {
   "cell_type": "code",
   "execution_count": 5,
   "metadata": {},
   "outputs": [],
   "source": [
    "import heapq"
   ]
  },
  {
   "cell_type": "code",
   "execution_count": 6,
   "metadata": {},
   "outputs": [],
   "source": [
    "li = [1,5,4,22,11,2]"
   ]
  },
  {
   "cell_type": "code",
   "execution_count": 7,
   "metadata": {},
   "outputs": [],
   "source": [
    "heapq.heapify(li)"
   ]
  },
  {
   "cell_type": "code",
   "execution_count": 8,
   "metadata": {},
   "outputs": [
    {
     "data": {
      "text/plain": [
       "[1, 5, 2, 22, 11, 4]"
      ]
     },
     "execution_count": 8,
     "metadata": {},
     "output_type": "execute_result"
    }
   ],
   "source": [
    "li"
   ]
  },
  {
   "cell_type": "code",
   "execution_count": 9,
   "metadata": {},
   "outputs": [],
   "source": [
    "heapq.heappush(li,3)"
   ]
  },
  {
   "cell_type": "code",
   "execution_count": 10,
   "metadata": {},
   "outputs": [
    {
     "data": {
      "text/plain": [
       "[1, 5, 2, 22, 11, 4, 3]"
      ]
     },
     "execution_count": 10,
     "metadata": {},
     "output_type": "execute_result"
    }
   ],
   "source": [
    "li"
   ]
  },
  {
   "cell_type": "code",
   "execution_count": 11,
   "metadata": {},
   "outputs": [
    {
     "data": {
      "text/plain": [
       "1"
      ]
     },
     "execution_count": 11,
     "metadata": {},
     "output_type": "execute_result"
    }
   ],
   "source": [
    "heapq.heappop(li)"
   ]
  },
  {
   "cell_type": "code",
   "execution_count": 12,
   "metadata": {},
   "outputs": [
    {
     "data": {
      "text/plain": [
       "[2, 5, 3, 22, 11, 4]"
      ]
     },
     "execution_count": 12,
     "metadata": {},
     "output_type": "execute_result"
    }
   ],
   "source": [
    "li"
   ]
  },
  {
   "cell_type": "code",
   "execution_count": 13,
   "metadata": {},
   "outputs": [
    {
     "data": {
      "text/plain": [
       "2"
      ]
     },
     "execution_count": 13,
     "metadata": {},
     "output_type": "execute_result"
    }
   ],
   "source": [
    "heapq.heapreplace(li,6)"
   ]
  },
  {
   "cell_type": "code",
   "execution_count": 14,
   "metadata": {},
   "outputs": [
    {
     "data": {
      "text/plain": [
       "[3, 5, 4, 22, 11, 6]"
      ]
     },
     "execution_count": 14,
     "metadata": {},
     "output_type": "execute_result"
    }
   ],
   "source": [
    "li"
   ]
  },
  {
   "cell_type": "markdown",
   "metadata": {},
   "source": [
    "### Max heap"
   ]
  },
  {
   "cell_type": "code",
   "execution_count": 16,
   "metadata": {},
   "outputs": [],
   "source": [
    "import heapq"
   ]
  },
  {
   "cell_type": "code",
   "execution_count": 17,
   "metadata": {},
   "outputs": [
    {
     "data": {
      "text/plain": [
       "[9, 8, 4, 7, 5, 1, 3]"
      ]
     },
     "execution_count": 17,
     "metadata": {},
     "output_type": "execute_result"
    }
   ],
   "source": [
    "li = [1,5,4,7,8,9,3]\n",
    "heapq._heapify_max(li)\n",
    "li"
   ]
  },
  {
   "cell_type": "code",
   "execution_count": 19,
   "metadata": {},
   "outputs": [
    {
     "name": "stdout",
     "output_type": "stream",
     "text": [
      "9\n"
     ]
    }
   ],
   "source": [
    "print(heapq._heappop_max(li))"
   ]
  },
  {
   "cell_type": "code",
   "execution_count": 20,
   "metadata": {},
   "outputs": [
    {
     "name": "stdout",
     "output_type": "stream",
     "text": [
      "[7, 5, 4, 3, 0, 1]\n"
     ]
    }
   ],
   "source": [
    "heapq._heapreplace_max(li,0)\n",
    "print(li)"
   ]
  },
  {
   "cell_type": "code",
   "execution_count": 21,
   "metadata": {},
   "outputs": [
    {
     "name": "stdout",
     "output_type": "stream",
     "text": [
      "[7, 5, 6, 3, 0, 1, 4]\n"
     ]
    }
   ],
   "source": [
    "li.append(6)\n",
    "heapq._siftdown_max(li,0,len(li)-1)\n",
    "print(li)"
   ]
  },
  {
   "cell_type": "code",
   "execution_count": null,
   "metadata": {},
   "outputs": [],
   "source": [
    "## K smallest elements in the array "
   ]
  },
  {
   "cell_type": "code",
   "execution_count": null,
   "metadata": {},
   "outputs": [],
   "source": []
  },
  {
   "cell_type": "code",
   "execution_count": 23,
   "metadata": {},
   "outputs": [],
   "source": [
    "def ksmallest(arr,k):\n",
    "    \n",
    "    selected = arr[:k]\n",
    "    heapq._heapify_max(selected)\n",
    "    \n",
    "    n = len(arr)\n",
    "    for i in range(k,n):\n",
    "        if selected[0] > arr[i]:\n",
    "            heapq._heapreplace_max(selected,arr[i])\n",
    "            \n",
    "    return selected\n",
    "            "
   ]
  },
  {
   "cell_type": "code",
   "execution_count": 26,
   "metadata": {},
   "outputs": [
    {
     "name": "stdout",
     "output_type": "stream",
     "text": [
      "[7, 6, 1, 2, 3]\n"
     ]
    }
   ],
   "source": [
    "import heapq\n",
    "arr = [10,6,7,2,3,8,9,11,1]\n",
    "smallestK = ksmallest(arr,5)\n",
    "print(smallestK)"
   ]
  },
  {
   "cell_type": "code",
   "execution_count": null,
   "metadata": {},
   "outputs": [],
   "source": []
  }
 ],
 "metadata": {
  "kernelspec": {
   "display_name": "Python 3",
   "language": "python",
   "name": "python3"
  },
  "language_info": {
   "codemirror_mode": {
    "name": "ipython",
    "version": 3
   },
   "file_extension": ".py",
   "mimetype": "text/x-python",
   "name": "python",
   "nbconvert_exporter": "python",
   "pygments_lexer": "ipython3",
   "version": "3.8.6"
  }
 },
 "nbformat": 4,
 "nbformat_minor": 4
}
