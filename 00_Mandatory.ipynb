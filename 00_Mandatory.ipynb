{
 "cells": [
  {
   "cell_type": "markdown",
   "metadata": {},
   "source": [
    "### 1. Reversing a number : "
   ]
  },
  {
   "cell_type": "code",
   "execution_count": 1,
   "metadata": {},
   "outputs": [],
   "source": [
    "def reversedNumber(n):\n",
    "    \n",
    "    reversed_num = 0 \n",
    "    \n",
    "    while n > 0 :\n",
    "        \n",
    "        rem = n % 10\n",
    "        \n",
    "        reversed_num = reversed_num*10 + rem\n",
    "        \n",
    "        n = n // 10\n",
    "        \n",
    "    return reversed_num"
   ]
  },
  {
   "cell_type": "code",
   "execution_count": 3,
   "metadata": {},
   "outputs": [
    {
     "name": "stdout",
     "output_type": "stream",
     "text": [
      "6\n"
     ]
    }
   ],
   "source": [
    "print(reversedNumber(6))"
   ]
  },
  {
   "cell_type": "code",
   "execution_count": 2,
   "metadata": {},
   "outputs": [
    {
     "name": "stdout",
     "output_type": "stream",
     "text": [
      "6521\n"
     ]
    }
   ],
   "source": [
    "print(reversedNumber(1256))"
   ]
  },
  {
   "cell_type": "markdown",
   "metadata": {},
   "source": [
    "### 2. ASCII value finding "
   ]
  },
  {
   "cell_type": "code",
   "execution_count": 2,
   "metadata": {},
   "outputs": [
    {
     "data": {
      "text/plain": [
       "'E'"
      ]
     },
     "execution_count": 2,
     "metadata": {},
     "output_type": "execute_result"
    }
   ],
   "source": [
    "chr(ord('A') + 4)"
   ]
  },
  {
   "cell_type": "markdown",
   "metadata": {},
   "source": [
    "### 3. Taking input from user"
   ]
  },
  {
   "cell_type": "markdown",
   "metadata": {},
   "source": [
    "         1. Line Separated Input \n",
    "         2. Space Separated Input "
   ]
  },
  {
   "cell_type": "markdown",
   "metadata": {},
   "source": [
    "#### 1D array as input "
   ]
  },
  {
   "cell_type": "code",
   "execution_count": null,
   "metadata": {},
   "outputs": [],
   "source": [
    "X = input()\n",
    "print(X)\n",
    "x , n = map(int,X.split())\n",
    "print(type(x))\n",
    "print(n)"
   ]
  },
  {
   "cell_type": "code",
   "execution_count": 8,
   "metadata": {},
   "outputs": [
    {
     "name": "stdout",
     "output_type": "stream",
     "text": [
      "5\n",
      "2 6 1 7 4 9\n",
      "[2, 6, 1, 7, 4, 9]\n"
     ]
    }
   ],
   "source": [
    "#take an entire array as input \n",
    "n = int(input())\n",
    "arr = list(int(i) for i in input().strip().split(' '))\n",
    "print(arr)"
   ]
  },
  {
   "cell_type": "markdown",
   "metadata": {},
   "source": [
    "#### 2D array as input "
   ]
  },
  {
   "cell_type": "raw",
   "metadata": {},
   "source": [
    "User Input Format 1 :       3 4\n",
    "                            1 2 3 4\n",
    "                            5 6 7 8\n",
    "                            9 10 11 12"
   ]
  },
  {
   "cell_type": "code",
   "execution_count": 4,
   "metadata": {},
   "outputs": [
    {
     "name": "stdout",
     "output_type": "stream",
     "text": [
      "3 4\n",
      "1 2 3 4\n",
      "5 6 7 8\n",
      "9 10 11 12\n",
      "[[1, 2, 3, 4], [5, 6, 7, 8], [9, 10, 11, 12]]\n"
     ]
    }
   ],
   "source": [
    "st = input().strip().split()\n",
    "n,m = int(st[0]), int(st[1])\n",
    "\n",
    "L = [ [int(x) for x in input().strip().split()] for i in range(n) ]\n",
    "\n",
    "print(L)"
   ]
  },
  {
   "cell_type": "raw",
   "metadata": {},
   "source": [
    "User Input Format 2 :          3 4\n",
    "                               1 2 3 4 5 6 7 8 9 10 11 12"
   ]
  },
  {
   "cell_type": "code",
   "execution_count": 5,
   "metadata": {},
   "outputs": [
    {
     "name": "stdout",
     "output_type": "stream",
     "text": [
      "3 4\n",
      "1 2 3 4 5 6 7 8 9 10 11 12\n",
      "[[1, 2, 3, 4], [5, 6, 7, 8], [9, 10, 11, 12]]\n"
     ]
    }
   ],
   "source": [
    "st = input().strip().split()\n",
    "n,m = int(st[0]), int(st[1])\n",
    "\n",
    "b = [int(x) for x in input().strip().split()]\n",
    "\n",
    "L = [ [int(b[m*i+j]) for j in range(m)] for i in range(n) ]\n",
    "\n",
    "print(L)"
   ]
  },
  {
   "cell_type": "code",
   "execution_count": null,
   "metadata": {},
   "outputs": [],
   "source": [
    "User Input Format 3 :          3 4 1 2 3 4 5 6 7 8 9 10 11 12"
   ]
  },
  {
   "cell_type": "code",
   "execution_count": 7,
   "metadata": {},
   "outputs": [
    {
     "name": "stdout",
     "output_type": "stream",
     "text": [
      "3 4 1 2 3 4 5 6 7 8 9 10 11 12\n",
      "[[1, 2, 3, 4], [5, 6, 7, 8], [9, 10, 11, 12]]\n"
     ]
    }
   ],
   "source": [
    "st = input().strip().split()\n",
    "n,m = int(st[0]), int(st[1])\n",
    "\n",
    "b = st[2:]\n",
    "\n",
    "L = [ [int(b[m*i+j]) for j in range(m)] for i in range(n) ]\n",
    "\n",
    "print(L)"
   ]
  },
  {
   "cell_type": "markdown",
   "metadata": {},
   "source": [
    "### 4. Generating Bit masks of length n "
   ]
  },
  {
   "cell_type": "raw",
   "metadata": {},
   "source": [
    "For n == 2:\n",
    "o/p :\n",
    "    00\n",
    "    01\n",
    "    10\n",
    "    11"
   ]
  },
  {
   "cell_type": "markdown",
   "metadata": {},
   "source": [
    "    Challenge is if you do as below :"
   ]
  },
  {
   "cell_type": "code",
   "execution_count": 10,
   "metadata": {},
   "outputs": [
    {
     "name": "stdout",
     "output_type": "stream",
     "text": [
      "0b0 ---> 0\n",
      "0b1 ---> 1\n",
      "0b10 ---> 10\n",
      "0b11 ---> 11\n"
     ]
    }
   ],
   "source": [
    "n = 2\n",
    "for i in range(2**n):\n",
    "    print(bin(i),'--->',bin(i)[2:])"
   ]
  },
  {
   "cell_type": "markdown",
   "metadata": {},
   "source": [
    "    No of digits in the representation changes ... so solution is :\n",
    "           \n",
    "     1. 'OR' the numbers with a binary number which will have a 1(n+1)th position followed with all 0s ie. 1 << n\n",
    "     2. Then convert it to binary and then \n",
    "     3. take the required numbers "
   ]
  },
  {
   "cell_type": "code",
   "execution_count": 9,
   "metadata": {},
   "outputs": [
    {
     "name": "stdout",
     "output_type": "stream",
     "text": [
      "0b100 ---> 00\n",
      "0b101 ---> 01\n",
      "0b110 ---> 10\n",
      "0b111 ---> 11\n"
     ]
    }
   ],
   "source": [
    "n = 2\n",
    "bit_mask = 1 << n\n",
    "for i in range(2**n):\n",
    "    print(bin(i|bit_mask), '--->' , bin(i|bit_mask)[3:])"
   ]
  },
  {
   "cell_type": "code",
   "execution_count": 11,
   "metadata": {},
   "outputs": [
    {
     "name": "stdout",
     "output_type": "stream",
     "text": [
      "0b1000 ---> 000\n",
      "0b1001 ---> 001\n",
      "0b1010 ---> 010\n",
      "0b1011 ---> 011\n",
      "0b1100 ---> 100\n",
      "0b1101 ---> 101\n",
      "0b1110 ---> 110\n",
      "0b1111 ---> 111\n"
     ]
    }
   ],
   "source": [
    "n = 3 \n",
    "bit_mask = 1 << n\n",
    "for i in range(2**n):\n",
    "    print(bin(i|bit_mask), '--->' , bin(i|bit_mask)[3:])"
   ]
  },
  {
   "cell_type": "markdown",
   "metadata": {},
   "source": [
    "        Another option is : keep it simple stupid and shift iteration limits:"
   ]
  },
  {
   "cell_type": "code",
   "execution_count": 15,
   "metadata": {},
   "outputs": [
    {
     "name": "stdout",
     "output_type": "stream",
     "text": [
      "00\n",
      "01\n",
      "10\n",
      "11\n"
     ]
    }
   ],
   "source": [
    "n = 2\n",
    "for i in range(2**n, 2**(n + 1)):\n",
    "    # generate bitmask, from 0..00 to 1..11\n",
    "    print(bin(i)[3:])"
   ]
  },
  {
   "cell_type": "code",
   "execution_count": null,
   "metadata": {},
   "outputs": [],
   "source": []
  },
  {
   "cell_type": "code",
   "execution_count": null,
   "metadata": {},
   "outputs": [],
   "source": []
  },
  {
   "cell_type": "markdown",
   "metadata": {},
   "source": [
    "### 5. Memory location of variables in python "
   ]
  },
  {
   "cell_type": "code",
   "execution_count": 12,
   "metadata": {},
   "outputs": [
    {
     "name": "stdout",
     "output_type": "stream",
     "text": [
      "140510088115072\n",
      "140510088090112\n"
     ]
    }
   ],
   "source": [
    "arr = [1,2,3,4]\n",
    "brr = [1,2,3,4]\n",
    "print(id(arr))\n",
    "print(id(brr))"
   ]
  },
  {
   "cell_type": "code",
   "execution_count": 20,
   "metadata": {},
   "outputs": [
    {
     "name": "stdout",
     "output_type": "stream",
     "text": [
      "140510088601072\n",
      "140510088601072\n",
      "140510088639472\n",
      "140510088642160\n"
     ]
    }
   ],
   "source": [
    "arr = 'SrijeetChatterjee'\n",
    "brr = 'SrijeetChatterjee'\n",
    "print(id(arr))\n",
    "print(id(brr))\n",
    "#space in string then they will have diff addresses \n",
    "arr = 'IIT Madras'\n",
    "brr = 'IIT Madras'\n",
    "print(id(arr))\n",
    "print(id(brr))"
   ]
  },
  {
   "cell_type": "code",
   "execution_count": 3,
   "metadata": {},
   "outputs": [
    {
     "name": "stdout",
     "output_type": "stream",
     "text": [
      "[1, 4, 5]\n"
     ]
    }
   ],
   "source": [
    "print(arr)"
   ]
  },
  {
   "cell_type": "code",
   "execution_count": 11,
   "metadata": {},
   "outputs": [
    {
     "data": {
      "text/plain": [
       "[5, 4, 3, 2, 1]"
      ]
     },
     "execution_count": 11,
     "metadata": {},
     "output_type": "execute_result"
    }
   ],
   "source": [
    "list(range(5,0,-1))"
   ]
  },
  {
   "cell_type": "code",
   "execution_count": 17,
   "metadata": {},
   "outputs": [
    {
     "name": "stdout",
     "output_type": "stream",
     "text": [
      "4\n",
      "1\n",
      "23\n",
      "4567\n",
      "89123456\n"
     ]
    }
   ],
   "source": [
    "n = int(input())\n",
    "\n",
    "row_num = 1\n",
    "glo_num = 1\n",
    "\n",
    "while row_num <= n :\n",
    "    no_of_cols = 2**(row_num-1)\n",
    "    \n",
    "    col_num = 1\n",
    "    \n",
    "    while col_num <= no_of_cols:\n",
    "        \n",
    "        print(glo_num , end = '')\n",
    "        glo_num = glo_num + 1\n",
    "        if glo_num == 10:\n",
    "            glo_num = 1\n",
    "        col_num += 1\n",
    "\n",
    "    row_num += 1\n",
    "    print()"
   ]
  },
  {
   "cell_type": "code",
   "execution_count": 27,
   "metadata": {},
   "outputs": [
    {
     "name": "stdout",
     "output_type": "stream",
     "text": [
      "4\n",
      "1\n",
      "2\n",
      "3\n",
      "1\n"
     ]
    },
    {
     "data": {
      "text/plain": [
       "False"
      ]
     },
     "execution_count": 27,
     "metadata": {},
     "output_type": "execute_result"
    }
   ],
   "source": [
    "n = int(input())\n",
    "\n",
    "input_list = []\n",
    "\n",
    "for i in range(n):\n",
    "    x = int(input())\n",
    "    input_list.append(x)\n",
    "\n",
    "def check_sorted(input_list):\n",
    "    if len(input_list) <= 1:\n",
    "        return True\n",
    "    return (input_list[0] <= input_list[1]) and (check_sorted(input_list[1:]))\n",
    "\n",
    "check_sorted(input_list)"
   ]
  },
  {
   "cell_type": "code",
   "execution_count": 35,
   "metadata": {},
   "outputs": [
    {
     "name": "stdout",
     "output_type": "stream",
     "text": [
      "3\n",
      "1\n",
      "2\n",
      "0\n"
     ]
    },
    {
     "data": {
      "text/plain": [
       "False"
      ]
     },
     "execution_count": 35,
     "metadata": {},
     "output_type": "execute_result"
    }
   ],
   "source": [
    "n = int(input())\n",
    "\n",
    "input_list = []\n",
    "\n",
    "for i in range(n):\n",
    "    x = int(input())\n",
    "    input_list.append(x)\n",
    "\n",
    "def check_sorted_better(input_list,si):\n",
    "    if si == len(input_list)-1 or si == len(input_list):\n",
    "        return True\n",
    "    \n",
    "    return (input_list[si] <= input_list[si+1]) and (check_sorted_better(input_list,si+1))\n",
    "\n",
    "check_sorted_better(input_list,0)"
   ]
  },
  {
   "cell_type": "code",
   "execution_count": 30,
   "metadata": {},
   "outputs": [
    {
     "name": "stdout",
     "output_type": "stream",
     "text": [
      "False\n"
     ]
    }
   ],
   "source": [
    "print(-7 < -8)"
   ]
  },
  {
   "cell_type": "code",
   "execution_count": 31,
   "metadata": {},
   "outputs": [
    {
     "name": "stdout",
     "output_type": "stream",
     "text": [
      "True\n"
     ]
    }
   ],
   "source": [
    "print(-7 < 8)"
   ]
  },
  {
   "cell_type": "code",
   "execution_count": 21,
   "metadata": {},
   "outputs": [
    {
     "name": "stdout",
     "output_type": "stream",
     "text": [
      "1\n",
      "1\n",
      "13\n"
     ]
    }
   ],
   "source": [
    "#you can access variable outside loop \n",
    "a = 1 \n",
    "b = 1 \n",
    "print(a)\n",
    "print(b)\n",
    "for i in range(5):\n",
    "    temp = a + b \n",
    "    a = b \n",
    "    b = temp \n",
    "print(temp)"
   ]
  },
  {
   "cell_type": "code",
   "execution_count": 24,
   "metadata": {},
   "outputs": [
    {
     "data": {
      "text/plain": [
       "10"
      ]
     },
     "execution_count": 24,
     "metadata": {},
     "output_type": "execute_result"
    }
   ],
   "source": [
    "int(10.7)"
   ]
  },
  {
   "cell_type": "code",
   "execution_count": 1,
   "metadata": {},
   "outputs": [
    {
     "ename": "ValueError",
     "evalue": "invalid literal for int() with base 10: '10.7'",
     "output_type": "error",
     "traceback": [
      "\u001b[0;31m---------------------------------------------------------------------------\u001b[0m",
      "\u001b[0;31mValueError\u001b[0m                                Traceback (most recent call last)",
      "\u001b[0;32m<ipython-input-1-551ddc510991>\u001b[0m in \u001b[0;36m<module>\u001b[0;34m\u001b[0m\n\u001b[0;32m----> 1\u001b[0;31m \u001b[0mint\u001b[0m\u001b[0;34m(\u001b[0m\u001b[0;34m'10.7'\u001b[0m\u001b[0;34m)\u001b[0m\u001b[0;34m\u001b[0m\u001b[0;34m\u001b[0m\u001b[0m\n\u001b[0m",
      "\u001b[0;31mValueError\u001b[0m: invalid literal for int() with base 10: '10.7'"
     ]
    }
   ],
   "source": [
    "int('10.7')"
   ]
  },
  {
   "cell_type": "code",
   "execution_count": 35,
   "metadata": {},
   "outputs": [
    {
     "name": "stdout",
     "output_type": "stream",
     "text": [
      "False\n",
      "True\n",
      "True\n"
     ]
    }
   ],
   "source": [
    "#string comaprison follows lexicographical order \n",
    "print(\"datam\" >= \"datan\")\n",
    "print(\"data\" >= \"data\")\n",
    "print(\"ab\" < \"cayuyopp\")"
   ]
  },
  {
   "cell_type": "code",
   "execution_count": 3,
   "metadata": {},
   "outputs": [
    {
     "ename": "TypeError",
     "evalue": "unsupported operand type(s) for -: 'str' and 'str'",
     "output_type": "error",
     "traceback": [
      "\u001b[0;31m---------------------------------------------------------------------------\u001b[0m",
      "\u001b[0;31mTypeError\u001b[0m                                 Traceback (most recent call last)",
      "\u001b[0;32m<ipython-input-3-e0cf1138dd85>\u001b[0m in \u001b[0;36m<module>\u001b[0;34m\u001b[0m\n\u001b[0;32m----> 1\u001b[0;31m \u001b[0;34m\"a\"\u001b[0m\u001b[0;34m-\u001b[0m\u001b[0;34m\"b\"\u001b[0m\u001b[0;34m\u001b[0m\u001b[0;34m\u001b[0m\u001b[0m\n\u001b[0m",
      "\u001b[0;31mTypeError\u001b[0m: unsupported operand type(s) for -: 'str' and 'str'"
     ]
    }
   ],
   "source": [
    "\"a\"-\"b\""
   ]
  },
  {
   "cell_type": "markdown",
   "metadata": {},
   "source": [
    "### Precedence of Logical Operators "
   ]
  },
  {
   "cell_type": "code",
   "execution_count": 42,
   "metadata": {},
   "outputs": [
    {
     "name": "stdout",
     "output_type": "stream",
     "text": [
      "True\n",
      "True\n",
      "False\n"
     ]
    }
   ],
   "source": [
    "#order of precedence : brackets --> Not --> and ---> or\n",
    "print(True or True and False)\n",
    "print(True and False or True)\n",
    "print(True and False or True and (not 10 and False))"
   ]
  },
  {
   "cell_type": "code",
   "execution_count": 6,
   "metadata": {},
   "outputs": [
    {
     "name": "stdout",
     "output_type": "stream",
     "text": [
      "7143571\n"
     ]
    }
   ],
   "source": [
    "a = 0 \n",
    "for j in range(1,10000,7):\n",
    "    a = a + j \n",
    "print(a)"
   ]
  },
  {
   "cell_type": "code",
   "execution_count": null,
   "metadata": {},
   "outputs": [],
   "source": []
  },
  {
   "cell_type": "markdown",
   "metadata": {},
   "source": [
    "### Cloning or Copying a list : \n",
    "    \n",
    "     1. https://www.geeksforgeeks.org/python-cloning-copying-list/\n",
    "     2. https://www.geeksforgeeks.org/copy-python-deep-copy-shallow-copy/"
   ]
  },
  {
   "cell_type": "code",
   "execution_count": 16,
   "metadata": {},
   "outputs": [
    {
     "name": "stdout",
     "output_type": "stream",
     "text": [
      "140330153067520\n",
      "140330153067520\n",
      "\n",
      "\n",
      "140330153067328\n",
      "140330153067840\n",
      "\n",
      "\n",
      "140330153068096\n",
      "140330153069312\n"
     ]
    }
   ],
   "source": [
    "l1 = [1,2,3]\n",
    "l2 = l1 \n",
    "print(id(l1))\n",
    "print(id(l2))\n",
    "\n",
    "print('\\n')\n",
    "\n",
    "l3 = [3,4,5]\n",
    "l4 = l3[:]\n",
    "print(id(l3))\n",
    "print(id(l4))\n",
    "\n",
    "print('\\n')\n",
    "\n",
    "l5 = [3,4,5]\n",
    "l6 = list(l5)\n",
    "print(id(l5))\n",
    "print(id(l6))"
   ]
  },
  {
   "cell_type": "raw",
   "metadata": {},
   "source": [
    "                        Things are ok if its simple element sfor for composite elements you have to ensure \n",
    "                        that every level you are coping like that only "
   ]
  },
  {
   "cell_type": "code",
   "execution_count": 34,
   "metadata": {},
   "outputs": [
    {
     "name": "stdout",
     "output_type": "stream",
     "text": [
      "140250362336000 140250362198784\n",
      "L1 : [12, 3, 56, 24, 'srijeet'] \n",
      "L2 : [12, 3, 56, 24, 'srijeet'] \n",
      "140250362336000 140250362198784\n",
      "L1 : [12, 3, 56, 24, 'srijeet'] \n",
      "L2 : [23, 3, 56, 24, 'srijeet'] \n"
     ]
    }
   ],
   "source": [
    "import copy\n",
    "L1 = [12,3,56,24,'srijeet']\n",
    "L2 = copy.copy(L1)\n",
    "\n",
    "print(id(L1),id(L2))\n",
    "print(f\"L1 : {L1} \")\n",
    "print(f\"L2 : {L2} \")\n",
    "\n",
    "L2[0] = 23\n",
    "\n",
    "print(id(L1),id(L2))\n",
    "print(f\"L1 : {L1} \")\n",
    "print(f\"L2 : {L2} \")"
   ]
  },
  {
   "cell_type": "code",
   "execution_count": 33,
   "metadata": {},
   "outputs": [
    {
     "name": "stdout",
     "output_type": "stream",
     "text": [
      "\n",
      "Using [:] approach :  [[11, 13, -99], 27, 71]\n",
      "\n",
      "Using list() method :  [[11, 13, -99], 27, 71]\n",
      "\n",
      "Using  extend() method :  [[11, 13, -99], 27, 71]\n",
      "\n",
      "Using List Comprehension [[11, 13, -99], 27, 71]\n",
      "\n",
      "Using copy() method :  [[11, 13, -99], 27, 71]\n",
      "\n",
      "Using shallow copy :  [[11, 13, -99], 27, 71]\n",
      "\n",
      "--------------------------------------------------------------\n",
      "\n",
      "\n",
      "Using deepcopy :  [[11, 13], 27, 71]\n"
     ]
    }
   ],
   "source": [
    "'''1. using [:] '''\n",
    "\n",
    "L1 = [[11,13],27,71]\n",
    "L2 = L1[:]\n",
    "L2[0].append(-99)\n",
    "print(\"\\nUsing [:] approach : \",L1)\n",
    "\n",
    "'''2. Using list() method''' \n",
    "\n",
    "L1 = [[11,13],27,71]\n",
    "L2 = list(L1)\n",
    "L2[0].append(-99)\n",
    "print(\"\\nUsing list() method : \",L1)\n",
    "\n",
    "'''3. Using  extend() method'''\n",
    "\n",
    "L1 = [[11,13],27,71]\n",
    "L2 = []\n",
    "L2.extend(L1)\n",
    "L2[0].append(-99)\n",
    "print(\"\\nUsing  extend() method : \", L1)\n",
    "\n",
    "'''4. Using List Comprehension'''\n",
    "\n",
    "L1 = [[11,13],27,71]\n",
    "L2 = [x for x in L1]\n",
    "L2.extend(L1)\n",
    "L2[0].append(-99)\n",
    "print(\"\\nUsing List Comprehension\",L1)\n",
    "\n",
    "\n",
    "'''5. Using copy() method '''\n",
    "\n",
    "L1 = [[11,13],27,71]\n",
    "L2 = L1.copy()\n",
    "L2[0].append(-99)\n",
    "print(\"\\nUsing copy() method : \",L1)\n",
    "\n",
    "'''6. Using shallow copy '''\n",
    "import copy\n",
    "L1 = [[11,13],27,71]\n",
    "L2 = copy.copy(L1)\n",
    "L2[0].append(-99)\n",
    "print(\"\\nUsing shallow copy : \",L1)\n",
    "\n",
    "'''7. using deepcopy'''\n",
    "import copy\n",
    "L1 = [[11,13],27,71]\n",
    "L2 = copy.deepcopy(L1)\n",
    "L2[0].append(-99)\n",
    "print(\"\\n--------------------------------------------------------------\")\n",
    "print(\"\\n\\nUsing deepcopy : \",L1)"
   ]
  },
  {
   "cell_type": "raw",
   "metadata": {},
   "source": [
    "Deep Copy is equivalent to the below code : You have to copy each item one by one and that way the composite items are also copied and not just their ref"
   ]
  },
  {
   "cell_type": "code",
   "execution_count": 17,
   "metadata": {},
   "outputs": [
    {
     "name": "stdout",
     "output_type": "stream",
     "text": [
      "address of L1[0] : 140330153081984\n",
      "address of L1[0][0] : 4376177664\n",
      "\n",
      "\n",
      "address of L2[0] : 140330152779712\n",
      "address of L2[0][0] : 4376177664\n",
      "\n",
      "\n",
      "L1 :  [[11, 13], [27], [71]]\n",
      "L2 :  [[11, 13, -99], [27], [71]]\n"
     ]
    }
   ],
   "source": [
    "L1 = [[11,13],[27],[71]]\n",
    "n = len(L1)\n",
    "L2 = []\n",
    "\n",
    "print(f\"address of L1[0] : {id(L1[0])}\")\n",
    "print(f\"address of L1[0][0] : {id(L1[0][0])}\")\n",
    "\n",
    "for i in range(n):\n",
    "    L2.append(list(L1[i]))\n",
    "\n",
    "print('\\n')\n",
    "print(f\"address of L2[0] : {id(L2[0])}\")\n",
    "print(f\"address of L2[0][0] : {id(L2[0][0])}\")\n",
    "\n",
    "L2[0].append(-99)\n",
    "\n",
    "print('\\n')\n",
    "print(\"L1 : \",L1)\n",
    "print(\"L2 : \", L2)"
   ]
  },
  {
   "cell_type": "markdown",
   "metadata": {},
   "source": [
    "### Deep Copy vs Shallow Copy\n",
    "         --- copy.deepcopy(List1)\n",
    "         --- copy.copy(List1)"
   ]
  },
  {
   "cell_type": "raw",
   "metadata": {},
   "source": [
    "The difference between shallow and deep copying is only relevant for compound objects (objects that contain other objects, like lists or class instances):"
   ]
  },
  {
   "cell_type": "code",
   "execution_count": 18,
   "metadata": {},
   "outputs": [
    {
     "name": "stdout",
     "output_type": "stream",
     "text": [
      "\n",
      "------------------------------ This is for NON COMPUND OBJECTS --------------------------------\n",
      "\n",
      "\n",
      "------ Before update in L2[1] ------\n",
      "\n",
      "Address of L1[0] : 4376177632\n",
      "Address of L2[0] : 4376177632\n",
      "\n",
      "------ After update in L2[1]------\n",
      "\n",
      "Address of L1[0] : 4376177632\n",
      "Address of L2[0] : 140330152712688\n",
      "\n",
      " Conclusion : See after update in L2[1], which is non compunf element, now L1[1] and L2[1] references to two different locations,\n",
      "                       This means that the changes in L2 WILL NOT be REFLECTED in L1 !!! \n",
      "          \n",
      "\n",
      "\n",
      "------------------------------ Now for COMPOUND OBJECTS --------------------------------\n",
      "\n",
      "\n",
      "------ Before update in L2[0][0]------\n",
      "\n",
      "Address of L1[0]  : 140330153067584\n",
      "Address of L2[0]  : 140330153067584\n",
      "  Address of L1[0][0]  : 4376177344\n",
      "  Address of L2[0][0]  : 4376177344\n",
      "\n",
      "------ After update in L2[0][0]------\n",
      "\n",
      "Address of L1[0] : 140330153067584\n",
      "Address of L2[0] : 140330153067584\n",
      "  Address of L1[0][0] : 140330152713200\n",
      "  Address of L2[0][0] : 140330152713200\n",
      "\n",
      " Conclusion : After update in L2 now L1[0] and L2[0] references to the same locations,\n",
      "          This means that the changes in L2 WILL BE REFLECTED in L1 !!! \n",
      "          \n"
     ]
    }
   ],
   "source": [
    "print(\"\\n------------------------------ This is for NON COMPUND OBJECTS --------------------------------\\n\\n\")\n",
    "L1 = [[1,2],10,20,'srijeet']\n",
    "L2 = L1[:]\n",
    "\n",
    "print(\"------ Before update in L2[1] ------\\n\")\n",
    "print(f\"Address of L1[0] : {id(L1[1])}\")\n",
    "print(f\"Address of L2[0] : {id(L2[1])}\\n\")\n",
    "\n",
    "L2[1] = 999\n",
    "\n",
    "print(\"------ After update in L2[1]------\\n\")\n",
    "print(f\"Address of L1[0] : {id(L1[1])}\")\n",
    "print(f\"Address of L2[0] : {id(L2[1])}\\n\")\n",
    "\n",
    "print(''' Conclusion : See after update in L2[1], which is non compunf element, now L1[1] and L2[1] references to two different locations,\n",
    "                       This means that the changes in L2 WILL NOT be REFLECTED in L1 !!! \n",
    "          ''')\n",
    "\n",
    "print(\"\\n\\n------------------------------ Now for COMPOUND OBJECTS --------------------------------\\n\\n\")\n",
    "\n",
    "print(\"------ Before update in L2[0][0]------\\n\")\n",
    "print(f\"Address of L1[0]  : {id(L1[0])}\")\n",
    "print(f\"Address of L2[0]  : {id(L2[0])}\")\n",
    "\n",
    "print(f\"  Address of L1[0][0]  : {id(L1[0][0])}\")\n",
    "print(f\"  Address of L2[0][0]  : {id(L2[0][0])}\\n\")\n",
    "\n",
    "L2[0][0] = 9999\n",
    "\n",
    "print(\"------ After update in L2[0][0]------\\n\")\n",
    "print(f\"Address of L1[0] : {id(L1[0])}\")\n",
    "print(f\"Address of L2[0] : {id(L2[0])}\")\n",
    "\n",
    "print(f\"  Address of L1[0][0] : {id(L1[0][0])}\")\n",
    "print(f\"  Address of L2[0][0] : {id(L2[0][0])}\\n\")\n",
    "\n",
    "print(''' Conclusion : After update in L2 now L1[0] and L2[0] references to the same locations,\n",
    "          This means that the changes in L2 WILL BE REFLECTED in L1 !!! \n",
    "          ''')"
   ]
  },
  {
   "attachments": {
    "Screenshot%202021-04-24%20at%2012.41.18%20PM.png": {
     "image/png": "[encoded data removed]"
    }
   },
   "cell_type": "markdown",
   "metadata": {},
   "source": [
    "<!-- ![Screenshot%202021-04-24%20at%2012.41.18%20PM.png](attachment:Screenshot%202021-04-24%20at%2012.41.18%20PM.png)\n",
    " -->\n",
    "<div>\n",
    "<img src=\"attachment:Screenshot%202021-04-24%20at%2012.41.18%20PM.png\" width=\"400\"/>\n",
    "</div>"
   ]
  },
  {
   "attachments": {
    "Screenshot%202021-04-24%20at%2012.41.42%20PM.png": {
     "image/png": "[encoded data removed]"
    }
   },
   "cell_type": "markdown",
   "metadata": {},
   "source": [
    "<!-- ![Screenshot%202021-04-24%20at%2012.41.42%20PM.png](attachment:Screenshot%202021-04-24%20at%2012.41.42%20PM.png) -->\n",
    "\n",
    "<div>\n",
    "<img src = \"attachment:Screenshot%202021-04-24%20at%2012.41.42%20PM.png\" width=\"400\"/>\n",
    "</div>"
   ]
  },
  {
   "cell_type": "markdown",
   "metadata": {},
   "source": [
    "<!-- ![Screenshot%202021-04-24%20at%2012.41.42%20PM.png](attachment:Screenshot%202021-04-24%20at%2012.41.42%20PM.png) -->\n",
    "<div>\n",
    "<img src = \"attachment:Screenshot%202021-04-24%20at%2012.41.42%20PM.png\" width=\"350\"/>\n",
    "</div>"
   ]
  },
  {
   "cell_type": "markdown",
   "metadata": {},
   "source": [
    "# Part 1/3 : Creating variables in the run time :"
   ]
  },
  {
   "cell_type": "markdown",
   "metadata": {},
   "source": [
    "            Method 1 : Use globals()"
   ]
  },
  {
   "cell_type": "code",
   "execution_count": 5,
   "metadata": {},
   "outputs": [],
   "source": [
    "months = ['jan','feb','mar']\n",
    "\n",
    "for month in months :\n",
    "    globals()['var_'+ month] = 'https://www.sritest.com/'+month+'.xlsx'\n",
    "#     globals()['var_'+ month]  = 'haha_'+month"
   ]
  },
  {
   "cell_type": "code",
   "execution_count": 6,
   "metadata": {},
   "outputs": [
    {
     "data": {
      "text/plain": [
       "'https://www.sritest.com/jan.xlsx'"
      ]
     },
     "execution_count": 6,
     "metadata": {},
     "output_type": "execute_result"
    }
   ],
   "source": [
    "var_jan"
   ]
  },
  {
   "cell_type": "code",
   "execution_count": 3,
   "metadata": {},
   "outputs": [
    {
     "data": {
      "text/plain": [
       "'haha_feb'"
      ]
     },
     "execution_count": 3,
     "metadata": {},
     "output_type": "execute_result"
    }
   ],
   "source": [
    "var_feb"
   ]
  },
  {
   "cell_type": "markdown",
   "metadata": {},
   "source": [
    "          Method 2 : You can use dictionary as well"
   ]
  },
  {
   "cell_type": "code",
   "execution_count": 8,
   "metadata": {},
   "outputs": [],
   "source": [
    "d = {}\n",
    "for x in range(1, 10):\n",
    "    d[\"string{0}\".format(x)] = \"Hello\""
   ]
  },
  {
   "cell_type": "code",
   "execution_count": 10,
   "metadata": {},
   "outputs": [
    {
     "data": {
      "text/plain": [
       "'Hello'"
      ]
     },
     "execution_count": 10,
     "metadata": {},
     "output_type": "execute_result"
    }
   ],
   "source": [
    "d['string1']"
   ]
  },
  {
   "cell_type": "markdown",
   "metadata": {},
   "source": [
    "         Method 3  : You can use exec() as well "
   ]
  },
  {
   "cell_type": "code",
   "execution_count": 16,
   "metadata": {},
   "outputs": [
    {
     "name": "stdout",
     "output_type": "stream",
     "text": [
      "0\n"
     ]
    }
   ],
   "source": [
    "for k in range(5):\n",
    "    exec(f'cat_{k} = k*2')\n",
    "\n",
    "    print(cat_0)"
   ]
  },
  {
   "cell_type": "markdown",
   "metadata": {},
   "source": [
    "         Method 4 : No need to use anything ..just do it differently "
   ]
  },
  {
   "cell_type": "raw",
   "metadata": {},
   "source": [
    "It's simply pointless to create variable variable names. Why?\n",
    "\n",
    "         1. They are unnecessary: You can store everything in lists, dictionarys and so on\n",
    "         2. They are hard to create: You have to use exec or globals()\n",
    "         3. You can't use them: How do you write code that uses these variables? You have to use exec/globals() again\n",
    "\n",
    "Using a list is much easier:"
   ]
  },
  {
   "cell_type": "code",
   "execution_count": 15,
   "metadata": {},
   "outputs": [
    {
     "name": "stdout",
     "output_type": "stream",
     "text": [
      "Hello String 0\n",
      "Hello String 1\n",
      "Hello String 2\n",
      "Hello String 3\n",
      "Hello String 4\n",
      "Hello String 5\n",
      "Hello String 6\n",
      "Hello String 7\n",
      "Hello String 8\n",
      "S\n"
     ]
    }
   ],
   "source": [
    "strings = [\"Hello String %d\" % x for x in range(9)]\n",
    "\n",
    "for string in strings:\n",
    "    print (string)\n",
    "\n",
    "print (string[6])"
   ]
  },
  {
   "cell_type": "markdown",
   "metadata": {},
   "source": [
    "# Part 2/3 : Refer variables in teh run time :"
   ]
  },
  {
   "cell_type": "code",
   "execution_count": 3,
   "metadata": {},
   "outputs": [],
   "source": [
    "import pandas as pd"
   ]
  },
  {
   "cell_type": "code",
   "execution_count": 4,
   "metadata": {},
   "outputs": [
    {
     "name": "stdout",
     "output_type": "stream",
     "text": [
      "140682449310288\n"
     ]
    }
   ],
   "source": [
    "df1 = pd.DataFrame({'id' : [1,2,3],\n",
    "                     'name' : ['srijeet','chandu','yanas']\n",
    "                   })\n",
    "df2 = pd.DataFrame({'id' : [21,22,23],\n",
    "                     'name' : ['srijeet2','chandu2','yanas2']\n",
    "                   })\n",
    "\n",
    "print(id(df1))"
   ]
  },
  {
   "cell_type": "code",
   "execution_count": 5,
   "metadata": {},
   "outputs": [
    {
     "name": "stdout",
     "output_type": "stream",
     "text": [
      "1\n",
      "df1\n"
     ]
    }
   ],
   "source": [
    "number  = input()\n",
    "print('df'+number)"
   ]
  },
  {
   "cell_type": "code",
   "execution_count": 7,
   "metadata": {},
   "outputs": [],
   "source": [
    "myDict = { 'df1' : df1 , 'df2' : df2}"
   ]
  },
  {
   "cell_type": "code",
   "execution_count": 8,
   "metadata": {},
   "outputs": [
    {
     "name": "stdout",
     "output_type": "stream",
     "text": [
      "1\n",
      "   id     name\n",
      "0   1  srijeet\n",
      "1   2   chandu\n",
      "2   3    yanas\n"
     ]
    }
   ],
   "source": [
    "number  = input()\n",
    "print(myDict['df'+number])"
   ]
  },
  {
   "cell_type": "code",
   "execution_count": 9,
   "metadata": {},
   "outputs": [],
   "source": [
    "months = ['1','2','3']\n",
    "\n",
    "for month in months :\n",
    "    globals()['df'+ month] = 'https://www.sritest.com/'+month+'.xlsx'\n",
    "#     globals()['var_'+ month]  = 'haha_'+month"
   ]
  },
  {
   "cell_type": "code",
   "execution_count": 10,
   "metadata": {},
   "outputs": [],
   "source": [
    "myDict = { 'df1' : df1 , 'df2' : df2 , 'df3':df3}"
   ]
  },
  {
   "cell_type": "code",
   "execution_count": 11,
   "metadata": {},
   "outputs": [
    {
     "name": "stdout",
     "output_type": "stream",
     "text": [
      "3\n",
      "https://www.sritest.com/3.xlsx\n"
     ]
    }
   ],
   "source": [
    "number  = input()\n",
    "print(myDict['df'+number])"
   ]
  },
  {
   "cell_type": "code",
   "execution_count": null,
   "metadata": {},
   "outputs": [],
   "source": []
  },
  {
   "cell_type": "markdown",
   "metadata": {},
   "source": [
    "# Part 3/3 : Creating and referring a variable in the run time in Python "
   ]
  },
  {
   "cell_type": "code",
   "execution_count": 14,
   "metadata": {},
   "outputs": [],
   "source": [
    "months = ['1','2','3']\n",
    "myDict = {}\n",
    "\n",
    "for month in months :\n",
    "    myDict['df'+ month] = 'https://www.sritest.com/'+month+'.xlsx'"
   ]
  },
  {
   "cell_type": "code",
   "execution_count": 15,
   "metadata": {},
   "outputs": [
    {
     "name": "stdout",
     "output_type": "stream",
     "text": [
      "2\n",
      "https://www.sritest.com/2.xlsx\n"
     ]
    }
   ],
   "source": [
    "number  = input()\n",
    "print(myDict['df'+number])"
   ]
  },
  {
   "cell_type": "markdown",
   "metadata": {},
   "source": [
    "# Set creation "
   ]
  },
  {
   "cell_type": "code",
   "execution_count": 2,
   "metadata": {},
   "outputs": [
    {
     "ename": "TypeError",
     "evalue": "set expected at most 1 argument, got 3",
     "output_type": "error",
     "traceback": [
      "\u001b[0;31m---------------------------------------------------------------------------\u001b[0m",
      "\u001b[0;31mTypeError\u001b[0m                                 Traceback (most recent call last)",
      "\u001b[0;32m<ipython-input-2-8384dfe25200>\u001b[0m in \u001b[0;36m<module>\u001b[0;34m\u001b[0m\n\u001b[0;32m----> 1\u001b[0;31m \u001b[0ms\u001b[0m \u001b[0;34m=\u001b[0m \u001b[0mset\u001b[0m\u001b[0;34m(\u001b[0m\u001b[0;36m1\u001b[0m\u001b[0;34m,\u001b[0m\u001b[0;36m2\u001b[0m\u001b[0;34m,\u001b[0m\u001b[0;36m3\u001b[0m\u001b[0;34m)\u001b[0m\u001b[0;34m\u001b[0m\u001b[0;34m\u001b[0m\u001b[0m\n\u001b[0m\u001b[1;32m      2\u001b[0m \u001b[0mprint\u001b[0m\u001b[0;34m(\u001b[0m\u001b[0ms\u001b[0m\u001b[0;34m)\u001b[0m\u001b[0;34m\u001b[0m\u001b[0;34m\u001b[0m\u001b[0m\n",
      "\u001b[0;31mTypeError\u001b[0m: set expected at most 1 argument, got 3"
     ]
    }
   ],
   "source": [
    "s = set(1,2,3)\n",
    "print(s)"
   ]
  },
  {
   "cell_type": "code",
   "execution_count": 4,
   "metadata": {},
   "outputs": [
    {
     "name": "stdout",
     "output_type": "stream",
     "text": [
      "{1, 2, 3}\n"
     ]
    }
   ],
   "source": [
    "s = set((1,2,3))\n",
    "print(s)"
   ]
  },
  {
   "cell_type": "code",
   "execution_count": null,
   "metadata": {},
   "outputs": [],
   "source": []
  },
  {
   "cell_type": "code",
   "execution_count": null,
   "metadata": {},
   "outputs": [],
   "source": []
  },
  {
   "cell_type": "code",
   "execution_count": null,
   "metadata": {},
   "outputs": [],
   "source": []
  },
  {
   "cell_type": "code",
   "execution_count": null,
   "metadata": {},
   "outputs": [],
   "source": []
  },
  {
   "cell_type": "code",
   "execution_count": null,
   "metadata": {},
   "outputs": [],
   "source": []
  },
  {
   "cell_type": "code",
   "execution_count": null,
   "metadata": {},
   "outputs": [],
   "source": []
  },
  {
   "cell_type": "code",
   "execution_count": null,
   "metadata": {},
   "outputs": [],
   "source": []
  },
  {
   "cell_type": "code",
   "execution_count": null,
   "metadata": {},
   "outputs": [],
   "source": []
  },
  {
   "cell_type": "code",
   "execution_count": null,
   "metadata": {},
   "outputs": [],
   "source": []
  },
  {
   "cell_type": "code",
   "execution_count": null,
   "metadata": {},
   "outputs": [],
   "source": []
  },
  {
   "cell_type": "code",
   "execution_count": null,
   "metadata": {},
   "outputs": [],
   "source": []
  },
  {
   "cell_type": "markdown",
   "metadata": {},
   "source": [
    "That is the basics of string formatting!"
   ]
  }
 ],
 "metadata": {
  "kernelspec": {
   "display_name": "Python 3",
   "language": "python",
   "name": "python3"
  },
  "language_info": {
   "codemirror_mode": {
    "name": "ipython",
    "version": 3
   },
   "file_extension": ".py",
   "mimetype": "text/x-python",
   "name": "python",
   "nbconvert_exporter": "python",
   "pygments_lexer": "ipython3",
   "version": "3.8.6"
  }
 },
 "nbformat": 4,
 "nbformat_minor": 1
}
