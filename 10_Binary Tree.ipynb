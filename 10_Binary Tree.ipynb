{
 "cells": [
  {
   "cell_type": "code",
   "execution_count": 1,
   "metadata": {},
   "outputs": [],
   "source": [
    "class binarytreenode(object):\n",
    "    \n",
    "    def __init__(self,data):\n",
    "        self.data = data\n",
    "        self.lchild = None\n",
    "        self.rchild = None"
   ]
  },
  {
   "cell_type": "code",
   "execution_count": 2,
   "metadata": {},
   "outputs": [],
   "source": [
    "node1 = binarytreenode(1)\n",
    "node2 = binarytreenode(2)\n",
    "node3 = binarytreenode(3)\n",
    "node4 = binarytreenode(4)\n",
    "node5 = binarytreenode(5)\n",
    "node6 = binarytreenode(6)\n",
    "\n",
    "node1.lchild = node2\n",
    "node1.rchild = node3\n",
    "\n",
    "node2.rchild = node4\n",
    "node3.lchild = node5"
   ]
  },
  {
   "cell_type": "code",
   "execution_count": 3,
   "metadata": {},
   "outputs": [],
   "source": [
    "# now we wanted to print the tree\n",
    "\n",
    "def print_btree(root):\n",
    "    \n",
    "    if root == None:\n",
    "        return\n",
    "    \n",
    "    print(root.data, end = ':')\n",
    "    \n",
    "    if root.lchild != None:\n",
    "        print(\"L:\",root.lchild.data,end = ',')\n",
    "    if root.rchild != None:\n",
    "        print(\"R:\",root.rchild.data)\n",
    "    \n",
    "    print()\n",
    "    print_btree(root.lchild)\n",
    "    print_btree(root.rchild)"
   ]
  },
  {
   "cell_type": "code",
   "execution_count": 4,
   "metadata": {},
   "outputs": [
    {
     "name": "stdout",
     "output_type": "stream",
     "text": [
      "1:L: 2,R: 3\n",
      "\n",
      "2:R: 4\n",
      "\n",
      "4:\n",
      "3:L: 5,\n",
      "5:\n"
     ]
    }
   ],
   "source": [
    "print_btree(node1)"
   ]
  },
  {
   "cell_type": "code",
   "execution_count": 5,
   "metadata": {},
   "outputs": [],
   "source": [
    "# now to take input from user :\n",
    "\n",
    "def user_input():\n",
    "\n",
    "    node_data = int(input())\n",
    "\n",
    "    while node_data != -1 :\n",
    "        newNode = binarytreenode(node_data)\n",
    "        newNode.lchild = user_input()\n",
    "        newNode.rchild = user_input()\n",
    "        \n",
    "        return newNode\n",
    "    \n",
    "    return None"
   ]
  },
  {
   "cell_type": "code",
   "execution_count": 6,
   "metadata": {},
   "outputs": [
    {
     "name": "stdout",
     "output_type": "stream",
     "text": [
      "1\n",
      "2\n",
      "-1\n",
      "-1\n",
      "-1\n"
     ]
    }
   ],
   "source": [
    "root = user_input()"
   ]
  },
  {
   "cell_type": "code",
   "execution_count": 7,
   "metadata": {},
   "outputs": [
    {
     "name": "stdout",
     "output_type": "stream",
     "text": [
      "1:L: 2,\n",
      "2:\n"
     ]
    }
   ],
   "source": [
    "print_btree(root)"
   ]
  },
  {
   "cell_type": "markdown",
   "metadata": {},
   "source": [
    "###  Phase 1 : "
   ]
  },
  {
   "cell_type": "raw",
   "metadata": {},
   "source": [
    "     So finally code for :\n",
    "     \n",
    "                  1. Taking input from user for the tree & build the tree \n",
    "                  2. print the tree "
   ]
  },
  {
   "cell_type": "code",
   "execution_count": 1,
   "metadata": {},
   "outputs": [],
   "source": [
    "class binarytreenode(object):\n",
    "    \n",
    "    def __init__(self,data):\n",
    "        self.data = data\n",
    "        self.lchild = None\n",
    "        self.rchild = None\n",
    "        \n",
    "def print_btree(root):\n",
    "    \n",
    "    if root == None:\n",
    "        return\n",
    "    \n",
    "    print(root.data, end = ':')\n",
    "    \n",
    "    if root.lchild != None:\n",
    "        print(\"L:\",root.lchild.data,end = ',')\n",
    "    if root.rchild != None:\n",
    "        print(\"R:\",root.rchild.data)\n",
    "    print()\n",
    "    \n",
    "    print_btree(root.lchild)\n",
    "    print_btree(root.rchild)\n",
    "    \n",
    "def user_input():\n",
    "\n",
    "    node_data = int(input())\n",
    "\n",
    "    while node_data != -1 :\n",
    "        newNode = binarytreenode(node_data)\n",
    "        newNode.lchild = user_input()\n",
    "        newNode.rchild = user_input()\n",
    "        \n",
    "        return newNode\n",
    "    \n",
    "    return None"
   ]
  },
  {
   "cell_type": "code",
   "execution_count": 2,
   "metadata": {},
   "outputs": [
    {
     "name": "stdout",
     "output_type": "stream",
     "text": [
      "1\n",
      "2\n",
      "-1\n",
      "4\n",
      "-1\n",
      "-1\n",
      "3\n",
      "5\n",
      "-1\n",
      "-1\n",
      "-1\n",
      "\n",
      "The tree entered is :  \n",
      "\n",
      "1:L: 2,R: 3\n",
      "\n",
      "2:R: 4\n",
      "\n",
      "4:\n",
      "3:L: 5,\n",
      "5:\n"
     ]
    }
   ],
   "source": [
    "root = user_input()\n",
    "print(\"\\nThe tree entered is :  \\n\")\n",
    "print_btree(root)"
   ]
  },
  {
   "cell_type": "markdown",
   "metadata": {},
   "source": [
    "### Phase 2 : Smaller Problems with Binary Trees:"
   ]
  },
  {
   "cell_type": "code",
   "execution_count": 7,
   "metadata": {},
   "outputs": [
    {
     "name": "stdout",
     "output_type": "stream",
     "text": [
      "1:L: 2,R: 3\n",
      "\n",
      "2:R: 4\n",
      "\n",
      "4:\n",
      "3:L: 5,\n",
      "5:\n"
     ]
    }
   ],
   "source": [
    "print_btree(root)"
   ]
  },
  {
   "cell_type": "code",
   "execution_count": 15,
   "metadata": {},
   "outputs": [],
   "source": [
    "def inorder_traversal(root):\n",
    "    \n",
    "    if root == None:\n",
    "        return \n",
    "    \n",
    "    inorder_traversal(root.lchild)\n",
    "    print(root.data)\n",
    "    inorder_traversal(root.rchild)\n",
    "    \n",
    "    return"
   ]
  },
  {
   "cell_type": "code",
   "execution_count": 16,
   "metadata": {},
   "outputs": [
    {
     "name": "stdout",
     "output_type": "stream",
     "text": [
      "2\n",
      "4\n",
      "1\n",
      "5\n",
      "3\n"
     ]
    }
   ],
   "source": [
    "inorder_traversal(root)"
   ]
  },
  {
   "cell_type": "code",
   "execution_count": 17,
   "metadata": {},
   "outputs": [],
   "source": [
    "def preorder_traversal(root):\n",
    "    \n",
    "    if root == None:\n",
    "        return \n",
    "    \n",
    "    print(root.data)\n",
    "    preorder_traversal(root.lchild)\n",
    "    preorder_traversal(root.rchild)\n",
    "    \n",
    "    return"
   ]
  },
  {
   "cell_type": "code",
   "execution_count": 18,
   "metadata": {},
   "outputs": [
    {
     "name": "stdout",
     "output_type": "stream",
     "text": [
      "1\n",
      "2\n",
      "4\n",
      "3\n",
      "5\n"
     ]
    }
   ],
   "source": [
    "preorder_traversal(root)"
   ]
  },
  {
   "cell_type": "code",
   "execution_count": 23,
   "metadata": {},
   "outputs": [],
   "source": [
    "def postorder_traversal(root):\n",
    "    \n",
    "    if root == None:\n",
    "        return\n",
    "    \n",
    "    postorder_traversal(root.lchild)\n",
    "    postorder_traversal(root.rchild)\n",
    "    print(root.data)\n",
    "    \n",
    "    return"
   ]
  },
  {
   "cell_type": "code",
   "execution_count": 22,
   "metadata": {},
   "outputs": [
    {
     "name": "stdout",
     "output_type": "stream",
     "text": [
      "4\n",
      "2\n",
      "5\n",
      "3\n",
      "1\n"
     ]
    }
   ],
   "source": [
    "postorder_traversal(root)"
   ]
  },
  {
   "cell_type": "markdown",
   "metadata": {},
   "source": [
    "### Number of Nodes :"
   ]
  },
  {
   "cell_type": "code",
   "execution_count": 27,
   "metadata": {},
   "outputs": [],
   "source": [
    "def noNodes(root):\n",
    "    \n",
    "    if root == None:\n",
    "        return 0\n",
    "    \n",
    "    return (1 + noNodes(root.lchild) + noNodes(root.rchild))"
   ]
  },
  {
   "cell_type": "code",
   "execution_count": 28,
   "metadata": {},
   "outputs": [
    {
     "name": "stdout",
     "output_type": "stream",
     "text": [
      "5\n"
     ]
    }
   ],
   "source": [
    "print(noNodes(root))"
   ]
  },
  {
   "cell_type": "code",
   "execution_count": 36,
   "metadata": {},
   "outputs": [
    {
     "name": "stdout",
     "output_type": "stream",
     "text": [
      "1\n",
      "2\n",
      "-1\n",
      "4\n",
      "-1\n",
      "-1\n",
      "13\n",
      "5\n",
      "-1\n",
      "-1\n",
      "-1\n",
      "\n",
      "The tree entered is :  \n",
      "\n",
      "1:L: 2,R: 13\n",
      "\n",
      "2:R: 4\n",
      "\n",
      "4:\n",
      "13:L: 5,\n",
      "5:\n",
      "\n",
      "No of Nodes in the Tree :  5\n"
     ]
    }
   ],
   "source": [
    "root = user_input()\n",
    "print(\"\\nThe tree entered is :  \\n\")\n",
    "print_btree(root)\n",
    "print(\"\\nNo of Nodes in the Tree : \",noNodes(root))"
   ]
  },
  {
   "cell_type": "markdown",
   "metadata": {},
   "source": [
    "### Largest data :"
   ]
  },
  {
   "cell_type": "code",
   "execution_count": 37,
   "metadata": {},
   "outputs": [],
   "source": [
    "def largestData(root):\n",
    "    \n",
    "    if root == None:\n",
    "        return -1\n",
    "    \n",
    "    return max(root.data, largestData(root.lchild), largestData(root.rchild))"
   ]
  },
  {
   "cell_type": "code",
   "execution_count": 38,
   "metadata": {},
   "outputs": [
    {
     "name": "stdout",
     "output_type": "stream",
     "text": [
      "13\n"
     ]
    }
   ],
   "source": [
    "print(largestData(root))"
   ]
  },
  {
   "cell_type": "markdown",
   "metadata": {},
   "source": [
    "### Number of Leaf Nodes :"
   ]
  },
  {
   "cell_type": "code",
   "execution_count": 40,
   "metadata": {},
   "outputs": [],
   "source": [
    "def noLeafNodes(root):\n",
    "    \n",
    "    if root == None:\n",
    "        return 0\n",
    "    \n",
    "    currentCount = 0 \n",
    "    \n",
    "    if root.lchild == None and root.rchild == None:\n",
    "        currentCount  = 1\n",
    "    \n",
    "    return currentCount + noLeafNodes(root.lchild) + noLeafNodes(root.rchild)"
   ]
  },
  {
   "cell_type": "code",
   "execution_count": 41,
   "metadata": {},
   "outputs": [
    {
     "name": "stdout",
     "output_type": "stream",
     "text": [
      "2\n"
     ]
    }
   ],
   "source": [
    "print(noLeafNodes(root))"
   ]
  },
  {
   "cell_type": "markdown",
   "metadata": {},
   "source": [
    "### Print Nodes at depth K :"
   ]
  },
  {
   "cell_type": "code",
   "execution_count": 49,
   "metadata": {},
   "outputs": [],
   "source": [
    "def printKNodes(root,k):\n",
    "    \n",
    "    if root == None or k < 0:\n",
    "        return \n",
    "    \n",
    "    if k==0:\n",
    "        print(root.data,end = ' ')\n",
    "    else:\n",
    "        printKNodes(root.lchild,k-1)\n",
    "        printKNodes(root.rchild,k-1)\n",
    "    return\n",
    "        "
   ]
  },
  {
   "cell_type": "code",
   "execution_count": 50,
   "metadata": {},
   "outputs": [
    {
     "name": "stdout",
     "output_type": "stream",
     "text": [
      "3 "
     ]
    }
   ],
   "source": [
    "root = user_input()\n",
    "print(\"\\nThe tree entered is :  \\n\")\n",
    "print_btree(root)\n",
    "level = int(input(\"Enter the Level for which you want to print the nodes : \"))\n",
    "print('\\n')\n",
    "printKNodes(root,level)"
   ]
  },
  {
   "cell_type": "markdown",
   "metadata": {},
   "source": [
    "### Height of the tree :"
   ]
  },
  {
   "cell_type": "code",
   "execution_count": 47,
   "metadata": {},
   "outputs": [],
   "source": [
    "def treeHeight(root):\n",
    "    \n",
    "    if root == None:\n",
    "        return 0\n",
    "    \n",
    "    heightOfLeftSubtree = treeHeight(root.lchild)\n",
    "    heightOfRightSubtree = treeHeight(root.rchild)\n",
    "    \n",
    "    tempHeight  = max(heightOfLeftSubtree, heightOfRightSubtree)\n",
    "    \n",
    "    return 1+tempHeight"
   ]
  },
  {
   "cell_type": "code",
   "execution_count": 48,
   "metadata": {},
   "outputs": [
    {
     "data": {
      "text/plain": [
       "4"
      ]
     },
     "execution_count": 48,
     "metadata": {},
     "output_type": "execute_result"
    }
   ],
   "source": [
    "treeHeight(root)"
   ]
  },
  {
   "cell_type": "markdown",
   "metadata": {},
   "source": [
    "# Part 02 ---- Modifying teh tree as well  "
   ]
  },
  {
   "cell_type": "code",
   "execution_count": 31,
   "metadata": {},
   "outputs": [],
   "source": [
    "class binarytreenode(object):\n",
    "    \n",
    "    def __init__(self,data):\n",
    "        self.data = data\n",
    "        self.lchild = None\n",
    "        self.rchild = None\n",
    "        \n",
    "def print_btree(root):\n",
    "    \n",
    "    if root == None:\n",
    "        return\n",
    "    \n",
    "    print(root.data, end = ':')\n",
    "    \n",
    "    if root.lchild != None:\n",
    "        print(\"L:\",root.lchild.data,end = ',')\n",
    "    if root.rchild != None:\n",
    "        print(\"R:\",root.rchild.data)\n",
    "    print()\n",
    "    \n",
    "    print_btree(root.lchild)\n",
    "    print_btree(root.rchild)\n",
    "    \n",
    "def user_input():\n",
    "\n",
    "    node_data = int(input())\n",
    "\n",
    "    while node_data != -1 :\n",
    "        newNode = binarytreenode(node_data)\n",
    "        newNode.lchild = user_input()\n",
    "        newNode.rchild = user_input()\n",
    "        \n",
    "        return newNode\n",
    "    \n",
    "    return None"
   ]
  },
  {
   "cell_type": "code",
   "execution_count": 32,
   "metadata": {},
   "outputs": [
    {
     "name": "stdout",
     "output_type": "stream",
     "text": [
      "-1\n"
     ]
    }
   ],
   "source": [
    "root = user_input()"
   ]
  },
  {
   "attachments": {
    "1200px-Binary_tree.svg.png": {
     "image/png": "[encoded data removed]"
    }
   },
   "cell_type": "markdown",
   "metadata": {},
   "source": [
    "<div>\n",
    "<img src=\"attachment:1200px-Binary_tree.svg.png\" width=\"300\"/>\n",
    "</div>"
   ]
  },
  {
   "cell_type": "code",
   "execution_count": 33,
   "metadata": {},
   "outputs": [],
   "source": [
    "def mytree():\n",
    "    node1 = binarytreenode(2)\n",
    "    node2 = binarytreenode(7)\n",
    "    node3 = binarytreenode(5)\n",
    "    node4 = binarytreenode(2)\n",
    "    node5 = binarytreenode(6)\n",
    "    node6 = binarytreenode(9)\n",
    "    node7 = binarytreenode(5)\n",
    "    node8 = binarytreenode(11)\n",
    "    node9 = binarytreenode(4)\n",
    "\n",
    "    node1.lchild = node2\n",
    "    node1.rchild = node3\n",
    "\n",
    "    node2.lchild = node4\n",
    "    node2.rchild = node5\n",
    "\n",
    "    node3.rchild = node6\n",
    "\n",
    "    node5.lchild = node7\n",
    "    node5.rchild = node8\n",
    "\n",
    "    node6.lchild = node9\n",
    "\n",
    "    return node1"
   ]
  },
  {
   "cell_type": "code",
   "execution_count": 34,
   "metadata": {},
   "outputs": [
    {
     "name": "stdout",
     "output_type": "stream",
     "text": [
      "2:L: 7,R: 5\n",
      "\n",
      "7:L: 2,R: 6\n",
      "\n",
      "2:\n",
      "6:L: 5,R: 11\n",
      "\n",
      "5:\n",
      "11:\n",
      "5:R: 9\n",
      "\n",
      "9:L: 4,\n",
      "4:\n"
     ]
    }
   ],
   "source": [
    "root = mytree()\n",
    "print_btree(root)"
   ]
  },
  {
   "cell_type": "code",
   "execution_count": 40,
   "metadata": {},
   "outputs": [],
   "source": [
    "def removeleaf(root):\n",
    "    \n",
    "    if root==None or (root.lchild == None and root.rchild==None) :\n",
    "        return None\n",
    "    \n",
    "    root.lchild = removeleaf(root.lchild)\n",
    "    root.rchild = removeleaf(root.rchild)\n",
    "    \n",
    "    return root"
   ]
  },
  {
   "cell_type": "code",
   "execution_count": 41,
   "metadata": {},
   "outputs": [
    {
     "name": "stdout",
     "output_type": "stream",
     "text": [
      "2:L: 7,R: 5\n",
      "\n",
      "7:R: 6\n",
      "\n",
      "6:\n",
      "5:R: 9\n",
      "\n",
      "9:\n"
     ]
    }
   ],
   "source": [
    "root = mytree()\n",
    "myroot = removeleaf(root)\n",
    "print_btree(myroot)"
   ]
  },
  {
   "cell_type": "code",
   "execution_count": 39,
   "metadata": {},
   "outputs": [
    {
     "name": "stdout",
     "output_type": "stream",
     "text": [
      "6\n",
      "5\n",
      "-1\n",
      "-1\n",
      "-1\n",
      "6:\n"
     ]
    }
   ],
   "source": [
    "root = user_input()\n",
    "myroot = removeleaf(root)\n",
    "print_btree(myroot)"
   ]
  },
  {
   "cell_type": "markdown",
   "metadata": {},
   "source": [
    "## checking whether tree is balanced or not ?"
   ]
  },
  {
   "cell_type": "raw",
   "metadata": {},
   "source": [
    "a tree is said to be balanced if for each and every node :\n",
    "    1. difference between the height of left subtree and right subtree is not more than 1."
   ]
  },
  {
   "cell_type": "code",
   "execution_count": 43,
   "metadata": {},
   "outputs": [],
   "source": [
    "def height(root):\n",
    "    \n",
    "    if root == None:\n",
    "        return 0\n",
    "    \n",
    "    return 1+height(root.lchild)+height(root.rchild)"
   ]
  },
  {
   "cell_type": "code",
   "execution_count": 44,
   "metadata": {},
   "outputs": [],
   "source": [
    "def isBalanced(root):\n",
    "    \n",
    "    if root == None:\n",
    "        return True\n",
    "    \n",
    "    \n",
    "    leftheight = height(root.lchild)\n",
    "    rightheight = height(root.rchild)\n",
    "    \n",
    "    if leftheight - rightheight > 1 or rightheight-leftheight > 1 :\n",
    "        return False\n",
    "    \n",
    "    leftsubtreebalanced = isBalanced(root.lchild)\n",
    "    rightsubtreebalanced = isBalanced(root.rchild)\n",
    "    \n",
    "    final_balance = leftsubtreebalanced and rightsubtreebalanced\n",
    "    \n",
    "    return final_balance"
   ]
  },
  {
   "cell_type": "code",
   "execution_count": 45,
   "metadata": {},
   "outputs": [
    {
     "data": {
      "text/plain": [
       "True"
      ]
     },
     "execution_count": 45,
     "metadata": {},
     "output_type": "execute_result"
    }
   ],
   "source": [
    "isBalanced(root)"
   ]
  },
  {
   "cell_type": "code",
   "execution_count": 48,
   "metadata": {},
   "outputs": [
    {
     "name": "stdout",
     "output_type": "stream",
     "text": [
      "3\n",
      "2\n",
      "1\n",
      "4\n",
      "8\n",
      "-1\n",
      "-1\n",
      "-1\n",
      "-1\n",
      "8\n",
      "-1\n",
      "-1\n",
      "2\n",
      "7\n",
      "-1\n",
      "-1\n",
      "-1\n"
     ]
    },
    {
     "data": {
      "text/plain": [
       "False"
      ]
     },
     "execution_count": 48,
     "metadata": {},
     "output_type": "execute_result"
    }
   ],
   "source": [
    "root = user_input()\n",
    "isBalanced(root)"
   ]
  },
  {
   "cell_type": "code",
   "execution_count": 55,
   "metadata": {},
   "outputs": [
    {
     "name": "stdout",
     "output_type": "stream",
     "text": [
      "3:L: 2,R: 2\n",
      "\n",
      "2:L: 1,R: 8\n",
      "\n",
      "1:L: 4,\n",
      "4:L: 8,\n",
      "8:\n",
      "8:\n",
      "2:L: 7,\n",
      "7:\n"
     ]
    }
   ],
   "source": [
    "print_btree(root)"
   ]
  },
  {
   "cell_type": "raw",
   "metadata": {},
   "source": [
    "The above logic is working fine but teh only issue is its taking a lot of time :\n",
    "    1. you go to a node (T(n))\n",
    "         call of height of the left subtree  O(n)\n",
    "         call for the height of thr right subtree o(n)\n",
    "         check k\n",
    "         call the same check on right sub tree (T(n/2))\n",
    "         call the same check on the right sub tree (T(n/2))\n",
    "        \n",
    "But of teh below left/right subtree we already received their \n",
    "height which they might have received from their childs so why to call them again ???"
   ]
  },
  {
   "cell_type": "code",
   "execution_count": 60,
   "metadata": {},
   "outputs": [],
   "source": [
    "def isBalancedModified(root):\n",
    "    \n",
    "    if root == None :\n",
    "        return 0,True\n",
    "    \n",
    "    lheight,lbalanced = isBalancedModified(root.lchild)\n",
    "    rheight,rbalanced = isBalancedModified(root.rchild)\n",
    "    \n",
    "    \n",
    "    balanced_check = (lbalanced and rbalanced)\n",
    "    \n",
    "    if balanced_check:\n",
    "        myheight = 1 + max(lheight,rheight)\n",
    "        \n",
    "        if lheight - rheight > 1 or rheight-lheight > 1 :\n",
    "            iambalanced = False\n",
    "        else:\n",
    "            iambalanced = True\n",
    "    else:\n",
    "        iambalanced = False\n",
    "        myheight = -1\n",
    "    \n",
    "    return myheight,iambalanced"
   ]
  },
  {
   "cell_type": "code",
   "execution_count": 70,
   "metadata": {},
   "outputs": [
    {
     "name": "stdout",
     "output_type": "stream",
     "text": [
      "2:L: 1,R: 3\n",
      "\n",
      "1:\n",
      "3:\n"
     ]
    }
   ],
   "source": [
    "print_btree(root)"
   ]
  },
  {
   "cell_type": "code",
   "execution_count": 63,
   "metadata": {},
   "outputs": [
    {
     "data": {
      "text/plain": [
       "(3, False)"
      ]
     },
     "execution_count": 63,
     "metadata": {},
     "output_type": "execute_result"
    }
   ],
   "source": [
    "isBalancedModified(root)"
   ]
  },
  {
   "cell_type": "code",
   "execution_count": 64,
   "metadata": {},
   "outputs": [
    {
     "name": "stdout",
     "output_type": "stream",
     "text": [
      "2\n",
      "1\n",
      "-1\n",
      "-1\n",
      "3\n",
      "-1\n",
      "-1\n"
     ]
    }
   ],
   "source": [
    "root = user_input()"
   ]
  },
  {
   "cell_type": "code",
   "execution_count": 65,
   "metadata": {},
   "outputs": [
    {
     "data": {
      "text/plain": [
       "(2, True)"
      ]
     },
     "execution_count": 65,
     "metadata": {},
     "output_type": "execute_result"
    }
   ],
   "source": [
    "isBalancedModified(root)"
   ]
  },
  {
   "cell_type": "markdown",
   "metadata": {},
   "source": [
    "## Finding Diameter of a Binary Tree "
   ]
  },
  {
   "cell_type": "code",
   "execution_count": 72,
   "metadata": {},
   "outputs": [],
   "source": [
    "def binTreediameter(root):\n",
    "\n",
    "    if root == None:\n",
    "        return 0,0\n",
    "\n",
    "\n",
    "    ldia, lheight = binTreediameter(root.lchild)\n",
    "    rdia, rheight = binTreediameter(root.rchild)\n",
    "\n",
    "    myheight = 1 + max(lheight,rheight)\n",
    "    mydia = max(ldia,rdia,(lheight+rheight))\n",
    "\n",
    "    return mydia,myheight\n",
    "        \n",
    "def diameter(root):\n",
    "    mydia,myheight = binTreediameter(root)\n",
    "    return mydia"
   ]
  },
  {
   "cell_type": "code",
   "execution_count": 73,
   "metadata": {},
   "outputs": [
    {
     "data": {
      "text/plain": [
       "2"
      ]
     },
     "execution_count": 73,
     "metadata": {},
     "output_type": "execute_result"
    }
   ],
   "source": [
    "diameter(root)"
   ]
  },
  {
   "cell_type": "markdown",
   "metadata": {},
   "source": [
    "## Taking user input level order "
   ]
  },
  {
   "cell_type": "code",
   "execution_count": 75,
   "metadata": {},
   "outputs": [],
   "source": [
    "class binarytreenode:\n",
    "    \n",
    "    def __init__(self,val):\n",
    "        self.data = val\n",
    "        self.lchild = None\n",
    "        self.rchild = None"
   ]
  },
  {
   "cell_type": "code",
   "execution_count": 76,
   "metadata": {},
   "outputs": [],
   "source": [
    "import queue"
   ]
  },
  {
   "cell_type": "code",
   "execution_count": null,
   "metadata": {},
   "outputs": [],
   "source": []
  },
  {
   "cell_type": "code",
   "execution_count": 93,
   "metadata": {},
   "outputs": [],
   "source": [
    "import queue\n",
    "\n",
    "def lvlwisetreeinput():\n",
    "    \n",
    "    q = queue.Queue()\n",
    "    n = int(input())\n",
    "    \n",
    "    if n != -1:\n",
    "        rootNode = binarytreenode(n)\n",
    "        q.put(rootNode)\n",
    "\n",
    "        while q.empty() != True:\n",
    "\n",
    "            poppedNode = q.get()\n",
    "        \n",
    "            print(f\"enter the left child of {poppedNode.data} : \")\n",
    "            x = int(input())\n",
    "            if x != -1:\n",
    "                node = binarytreenode(x)\n",
    "                q.put(node)\n",
    "                poppedNode.lchild = node\n",
    "            else:\n",
    "                poppedNode.lchild = None\n",
    "\n",
    "            print(f\"enter the right child of {poppedNode.data} : \")\n",
    "            x = int(input())\n",
    "            if x != -1:\n",
    "                node = binarytreenode(x)\n",
    "                poppedNode.rchild = node\n",
    "                q.put(node)\n",
    "            else:\n",
    "                poppedNode.rchild = None\n",
    "                \n",
    "        return rootNode\n",
    "    \n",
    "    else:\n",
    "        return None\n",
    "            "
   ]
  },
  {
   "cell_type": "code",
   "execution_count": 94,
   "metadata": {},
   "outputs": [
    {
     "name": "stdout",
     "output_type": "stream",
     "text": [
      "1\n",
      "enter the left child of 1 : \n",
      "2\n",
      "enter the right child of 1 : \n",
      "3\n",
      "enter the left child of 2 : \n",
      "4\n",
      "enter the right child of 2 : \n",
      "5\n",
      "enter the left child of 3 : \n",
      "6\n",
      "enter the right child of 3 : \n",
      "7\n",
      "enter the left child of 4 : \n",
      "8\n",
      "enter the right child of 4 : \n",
      "-1\n",
      "enter the left child of 5 : \n",
      "-1\n",
      "enter the right child of 5 : \n",
      "-1\n",
      "enter the left child of 6 : \n",
      "-1\n",
      "enter the right child of 6 : \n",
      "-1\n",
      "enter the left child of 7 : \n",
      "-1\n",
      "enter the right child of 7 : \n",
      "-1\n",
      "enter the left child of 8 : \n",
      "9\n",
      "enter the right child of 8 : \n",
      "-1\n",
      "enter the left child of 9 : \n",
      "-1\n",
      "enter the right child of 9 : \n",
      "-1\n",
      "1 :  L : 2 R : 3\n",
      "2 :  L : 4 R : 5\n",
      "4 :  L : 8 \n",
      "8 :  L : 9 \n",
      "9 :  \n",
      "5 :  \n",
      "3 :  L : 6 R : 7\n",
      "6 :  \n",
      "7 :  \n"
     ]
    }
   ],
   "source": [
    "root = lvlwisetreeinput()\n",
    "printTree(root)"
   ]
  },
  {
   "cell_type": "code",
   "execution_count": 91,
   "metadata": {},
   "outputs": [],
   "source": [
    "def printTree(root):\n",
    "    \n",
    "    if root == None:\n",
    "        return \n",
    "    \n",
    "    print(f\"{root.data} : \",end = ' ')\n",
    "    \n",
    "    if root.lchild != None:\n",
    "        print(\"L :\",root.lchild.data,end = ' ')\n",
    "    if root.rchild != None:\n",
    "        print(\"R :\", root.rchild.data,end = '')\n",
    "    \n",
    "    print()\n",
    "    printTree(root.lchild)\n",
    "    printTree(root.rchild)"
   ]
  },
  {
   "cell_type": "code",
   "execution_count": 92,
   "metadata": {},
   "outputs": [
    {
     "name": "stdout",
     "output_type": "stream",
     "text": [
      "2 :  L : 1 R : 3\n",
      "1 :  \n",
      "3 :  \n"
     ]
    }
   ],
   "source": [
    "printTree(root)"
   ]
  },
  {
   "cell_type": "markdown",
   "metadata": {},
   "source": [
    "### Prining Binaray Tree level wise :"
   ]
  },
  {
   "cell_type": "code",
   "execution_count": 98,
   "metadata": {},
   "outputs": [],
   "source": [
    "class binaryTreeNode:\n",
    "    \n",
    "    def __init__(self,data):\n",
    "        self.data = data\n",
    "        self.left = None\n",
    "        self.right = None"
   ]
  },
  {
   "cell_type": "code",
   "execution_count": 99,
   "metadata": {},
   "outputs": [],
   "source": [
    "import queue\n",
    "\n",
    "def levelwisetreeinput():\n",
    "    \n",
    "    x = int(input(\"Please enter the root node's value : \"))\n",
    "    \n",
    "    if x== -1:\n",
    "        return None\n",
    "    \n",
    "    root = binaryTreeNode(x)\n",
    "    q = queue.Queue()\n",
    "    q.put(root)\n",
    "    \n",
    "    while q.empty()!= True :\n",
    "        \n",
    "        poppedNode = q.get()\n",
    "        \n",
    "        #take the left child :\n",
    "        x = int(input(f\"Enter the value for the left child of {poppedNode.data} : \"))\n",
    "        if x!= -1:\n",
    "            newNode = binaryTreeNode(x)\n",
    "            poppedNode.left = newNode\n",
    "            q.put(newNode)\n",
    "            \n",
    "        #Take the right child of poppedNode :\n",
    "        x = int(input(f\"Enter the value for the Right child of {poppedNode.data} : \"))\n",
    "        if x!= -1:\n",
    "            newNode = binaryTreeNode(x)\n",
    "            poppedNode.right = newNode\n",
    "            q.put(newNode)\n",
    "            \n",
    "    return root"
   ]
  },
  {
   "cell_type": "code",
   "execution_count": 100,
   "metadata": {},
   "outputs": [],
   "source": [
    "def printbtreelevelwise(root):\n",
    "    \n",
    "    if root == None:\n",
    "        return None\n",
    "    \n",
    "    q = queue.Queue()\n",
    "    q.put(root)\n",
    "    \n",
    "    while q.empty() != True :\n",
    "        \n",
    "        poppedNode = q.get()\n",
    "        \n",
    "        #take the left child node\n",
    "        lchild = poppedNode.left\n",
    "        if lchild != None:\n",
    "            q.put(lchild)\n",
    "            \n",
    "        #take the right child node\n",
    "        rchild = poppedNode.right\n",
    "        if rchild != None:\n",
    "            q.put(rchild)\n",
    "        \n",
    "        #Now print the nodes' value its left child value and right child value \n",
    "        print(f\"{poppedNode.data} : \", end = ' ')\n",
    "        if lchild != None:\n",
    "            print(f\"L:{lchild.data}\",end = ' ')\n",
    "        if rchild != None:\n",
    "            print(f\"R:{rchild.data}\")\n",
    "        else:\n",
    "            print()   "
   ]
  },
  {
   "cell_type": "code",
   "execution_count": 101,
   "metadata": {},
   "outputs": [
    {
     "name": "stdout",
     "output_type": "stream",
     "text": [
      "Please enter the root node's value : 3\n",
      "Enter the value for the left child of 3 : 1\n",
      "Enter the value for the Right child of 3 : 2\n",
      "Enter the value for the left child of 1 : 3\n",
      "Enter the value for the Right child of 1 : -1\n",
      "Enter the value for the left child of 2 : -1\n",
      "Enter the value for the Right child of 2 : -1\n",
      "Enter the value for the left child of 3 : -1\n",
      "Enter the value for the Right child of 3 : -1\n",
      "3 :  L:1 R:2\n",
      "1 :  L:3 \n",
      "2 :  \n",
      "3 :  \n"
     ]
    }
   ],
   "source": [
    "root = levelwisetreeinput()\n",
    "printbtreelevelwise(root)"
   ]
  },
  {
   "cell_type": "markdown",
   "metadata": {},
   "source": [
    "### building the tree from inorder and preorder "
   ]
  },
  {
   "cell_type": "code",
   "execution_count": null,
   "metadata": {},
   "outputs": [],
   "source": []
  },
  {
   "cell_type": "code",
   "execution_count": null,
   "metadata": {},
   "outputs": [],
   "source": []
  },
  {
   "cell_type": "code",
   "execution_count": null,
   "metadata": {},
   "outputs": [],
   "source": []
  },
  {
   "cell_type": "code",
   "execution_count": null,
   "metadata": {},
   "outputs": [],
   "source": []
  },
  {
   "cell_type": "markdown",
   "metadata": {},
   "source": [
    "### Finding the element and returning the path from item to root "
   ]
  },
  {
   "cell_type": "code",
   "execution_count": null,
   "metadata": {},
   "outputs": [],
   "source": [
    "root = levelwisetreeinput()"
   ]
  },
  {
   "cell_type": "code",
   "execution_count": 114,
   "metadata": {},
   "outputs": [],
   "source": [
    "def findX(root,x):\n",
    "    \n",
    "    if root==None:\n",
    "        return None\n",
    "    \n",
    "    if root.data == x:\n",
    "        path = []\n",
    "        path.append(x)\n",
    "        return path\n",
    "        \n",
    "    pathleft = findX(root.left,x)\n",
    "#     pathright = findX(root.right,x)\n",
    "    \n",
    "    if pathleft != None:\n",
    "        pathleft.append(root.data)\n",
    "        return pathleft\n",
    "    \n",
    "    pathright = findX(root.right,x)\n",
    "    \n",
    "    if pathright != None:\n",
    "        pathright.append(root.data)\n",
    "        return pathright\n",
    "    \n",
    "    return None"
   ]
  },
  {
   "cell_type": "code",
   "execution_count": 115,
   "metadata": {},
   "outputs": [
    {
     "name": "stdout",
     "output_type": "stream",
     "text": [
      "\n",
      "------the tree----------------\n",
      "\n",
      "14 :  L:9 R:21\n",
      "9 :  L:4 R:11\n",
      "21 :  L:18 R:71\n",
      "4 :  R:7\n",
      "11 :  L:10 \n",
      "18 :  \n",
      "71 :  L:28 \n",
      "7 :  \n",
      "10 :  \n",
      "28 :  R:40\n",
      "40 :  \n",
      "\n",
      "------ the path of the node you are looking for ----------------\n",
      "\n",
      "[40, 28, 71, 21, 14]\n",
      "\n",
      "------ the path of the node you are looking for ----------------\n",
      "\n",
      "None\n",
      "\n",
      "------ the path of the node you are looking for ----------------\n",
      "\n",
      "[10, 11, 9, 14]\n"
     ]
    }
   ],
   "source": [
    "# root = levelwisetreeinput()\n",
    "print(\"\\n------the tree----------------\\n\")\n",
    "printbtreelevelwise(root)\n",
    "print(\"\\n------ the path of the node you are looking for ----------------\\n\")\n",
    "print(findX(root,40))\n",
    "print(\"\\n------ the path of the node you are looking for ----------------\\n\")\n",
    "print(findX(root,800))\n",
    "print(\"\\n------ the path of the node you are looking for ----------------\\n\")\n",
    "print(findX(root,10))"
   ]
  },
  {
   "cell_type": "code",
   "execution_count": 116,
   "metadata": {},
   "outputs": [
    {
     "name": "stdout",
     "output_type": "stream",
     "text": [
      "Please enter the root node's value : 6\n",
      "Enter the value for the left child of 6 : -1\n",
      "Enter the value for the Right child of 6 : 3\n",
      "Enter the value for the left child of 3 : -1\n",
      "Enter the value for the Right child of 3 : -1\n",
      "\n",
      "------the tree----------------\n",
      "\n",
      "6 :  R:3\n",
      "3 :  \n",
      "\n",
      "------ the path of the node you are looking for ----------------\n",
      "\n",
      "None\n",
      "\n",
      "------ the path of the node you are looking for ----------------\n",
      "\n",
      "[6]\n",
      "\n",
      "------ the path of the node you are looking for ----------------\n",
      "\n",
      "[3, 6]\n"
     ]
    }
   ],
   "source": [
    "root2 = levelwisetreeinput()\n",
    "\n",
    "print(\"\\n------the tree----------------\\n\")\n",
    "printbtreelevelwise(root2)\n",
    "print(\"\\n------ the path of the node you are looking for ----------------\\n\")\n",
    "print(findX(root2,0))\n",
    "print(\"\\n------ the path of the node you are looking for ----------------\\n\")\n",
    "print(findX(root2,6))\n",
    "print(\"\\n------ the path of the node you are looking for ----------------\\n\")\n",
    "print(findX(root2,3))"
   ]
  },
  {
   "cell_type": "code",
   "execution_count": null,
   "metadata": {},
   "outputs": [],
   "source": []
  },
  {
   "cell_type": "markdown",
   "metadata": {},
   "source": [
    "### Riverting a binary Tree :"
   ]
  },
  {
   "cell_type": "code",
   "execution_count": 117,
   "metadata": {},
   "outputs": [
    {
     "name": "stdout",
     "output_type": "stream",
     "text": [
      "Please enter the root node's value : 1\n",
      "Enter the value for the left child of 1 : 2\n",
      "Enter the value for the Right child of 1 : 3\n",
      "Enter the value for the left child of 2 : 4\n",
      "Enter the value for the Right child of 2 : 5\n",
      "Enter the value for the left child of 3 : 6\n",
      "Enter the value for the Right child of 3 : 7\n",
      "Enter the value for the left child of 4 : 8\n",
      "Enter the value for the Right child of 4 : 9\n",
      "Enter the value for the left child of 5 : -1\n",
      "Enter the value for the Right child of 5 : -1\n",
      "Enter the value for the left child of 6 : -1\n",
      "Enter the value for the Right child of 6 : -1\n",
      "Enter the value for the left child of 7 : -1\n",
      "Enter the value for the Right child of 7 : -1\n",
      "Enter the value for the left child of 8 : -1\n",
      "Enter the value for the Right child of 8 : -1\n",
      "Enter the value for the left child of 9 : -1\n",
      "Enter the value for the Right child of 9 : -1\n",
      "\n",
      "------the tree----------------\n",
      "\n",
      "1 :  L:2 R:3\n",
      "2 :  L:4 R:5\n",
      "3 :  L:6 R:7\n",
      "4 :  L:8 R:9\n",
      "5 :  \n",
      "6 :  \n",
      "7 :  \n",
      "8 :  \n",
      "9 :  \n"
     ]
    }
   ],
   "source": [
    "root2 = levelwisetreeinput()\n",
    "\n",
    "print(\"\\n------the tree----------------\\n\")\n",
    "printbtreelevelwise(root2)"
   ]
  },
  {
   "cell_type": "code",
   "execution_count": 122,
   "metadata": {},
   "outputs": [],
   "source": [
    "def gargirevert(root):\n",
    "    \n",
    "    if root == None:\n",
    "        return None\n",
    "    \n",
    "    newleft = gargirevert(root.left)\n",
    "    newright = gargirevert(root.right)\n",
    "    \n",
    "    root.right = newleft\n",
    "    root.left = newright\n",
    "    \n",
    "    return root"
   ]
  },
  {
   "cell_type": "code",
   "execution_count": 123,
   "metadata": {},
   "outputs": [
    {
     "name": "stdout",
     "output_type": "stream",
     "text": [
      "\n",
      "------the tree----------------\n",
      "\n",
      "1 :  L:3 R:2\n",
      "3 :  L:7 R:6\n",
      "2 :  L:5 R:4\n",
      "7 :  \n",
      "6 :  \n",
      "5 :  \n",
      "4 :  L:9 R:8\n",
      "9 :  \n",
      "8 :  \n",
      "\n",
      "------ tree after reverted ----------------\n",
      "\n",
      "1 :  L:2 R:3\n",
      "2 :  L:4 R:5\n",
      "3 :  L:6 R:7\n",
      "4 :  L:8 R:9\n",
      "5 :  \n",
      "6 :  \n",
      "7 :  \n",
      "8 :  \n",
      "9 :  \n"
     ]
    }
   ],
   "source": [
    "print(\"\\n------the tree----------------\\n\")\n",
    "printbtreelevelwise(root2)\n",
    "print(\"\\n------ tree after reverted ----------------\\n\")\n",
    "printbtreelevelwise(revert(root2))"
   ]
  },
  {
   "cell_type": "code",
   "execution_count": null,
   "metadata": {},
   "outputs": [],
   "source": []
  },
  {
   "cell_type": "code",
   "execution_count": null,
   "metadata": {},
   "outputs": [],
   "source": []
  }
 ],
 "metadata": {
  "kernelspec": {
   "display_name": "Python 3",
   "language": "python",
   "name": "python3"
  },
  "language_info": {
   "codemirror_mode": {
    "name": "ipython",
    "version": 3
   },
   "file_extension": ".py",
   "mimetype": "text/x-python",
   "name": "python",
   "nbconvert_exporter": "python",
   "pygments_lexer": "ipython3",
   "version": "3.8.6"
  }
 },
 "nbformat": 4,
 "nbformat_minor": 4
}
