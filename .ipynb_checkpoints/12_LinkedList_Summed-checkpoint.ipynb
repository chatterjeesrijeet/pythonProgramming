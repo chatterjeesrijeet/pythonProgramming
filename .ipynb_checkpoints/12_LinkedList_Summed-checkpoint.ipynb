{
 "cells": [
  {
   "cell_type": "markdown",
   "metadata": {},
   "source": [
    "### Design A singly Linked List Class "
   ]
  },
  {
   "cell_type": "code",
   "execution_count": 1,
   "metadata": {},
   "outputs": [],
   "source": [
    "class llNode:\n",
    "    def __init__(self,val):\n",
    "        self.val = val\n",
    "        self.next = None"
   ]
  },
  {
   "cell_type": "code",
   "execution_count": 101,
   "metadata": {},
   "outputs": [],
   "source": [
    "class MyLinkedList:\n",
    "\n",
    "    def __init__(self):\n",
    "        \"\"\"\n",
    "        Initialize your data structure here.\n",
    "        \"\"\"\n",
    "        self.head = None\n",
    "    \n",
    "    def get(self, index: int) -> int:\n",
    "        \"\"\"\n",
    "        Get the value of the index-th node in the linked list. If the index is invalid, return -1.\n",
    "        \"\"\"\n",
    "        \n",
    "        i = 0 \n",
    "        curr = self.head\n",
    "        \n",
    "        while curr != None:\n",
    "            if i==index:\n",
    "                return curr.val\n",
    "            curr = curr.next\n",
    "            i += 1\n",
    "        return -1\n",
    "        \n",
    "\n",
    "    def addAtHead(self, val: int) -> None:\n",
    "        \"\"\"\n",
    "        Add a node of value val before the first element of the linked list. After the insertion, the new node will be the first node of the linked list.\n",
    "        \"\"\"\n",
    "        tempNode = llNode(val)\n",
    "        \n",
    "        if self.head != None:\n",
    "            tempNode.next = self.head\n",
    "        self.head = tempNode\n",
    "        \n",
    "\n",
    "    def addAtTail(self, val: int) -> None:\n",
    "        \"\"\"\n",
    "        Append a node of value val to the last element of the linked list.\n",
    "        \"\"\"\n",
    "        tempNode = llNode(val)\n",
    "        \n",
    "        curr = self.head\n",
    "        if curr == None:\n",
    "            self.head = tempNode\n",
    "        else:\n",
    "            while curr.next != None:\n",
    "                curr = curr.next\n",
    "            curr.next = tempNode\n",
    "    \n",
    "    def addAtIndex(self, index: int, val: int) -> None:\n",
    "        \"\"\"\n",
    "        Add a node of value val before the index-th node in the linked list. If index equals to the length of linked list, the node will be appended to the end of linked list. If index is greater than the length, the node will not be inserted.\n",
    "        \"\"\"\n",
    "        curr = self.head\n",
    "        prev = None\n",
    "        \n",
    "        i = 0 \n",
    "        \n",
    "        while curr != None:\n",
    "            if index == i :\n",
    "                tempNode = llNode(val)\n",
    "                tempNode.next = curr\n",
    "                if prev != None:\n",
    "                    prev.next = tempNode\n",
    "                else:\n",
    "                    self.head = tempNode\n",
    "            prev = curr\n",
    "            curr = curr.next\n",
    "            \n",
    "            i += 1\n",
    "        \n",
    "        if i == 0:\n",
    "            self.addAtHead(val)\n",
    "        if i == index:\n",
    "            self.addAtTail(val)\n",
    "            \n",
    "    def deleteAtIndex(self, index: int) -> None:\n",
    "        \n",
    "        \"\"\"\n",
    "        Delete the index-th node in the linked list, if the index is valid.\n",
    "        \"\"\"\n",
    "        i = 0 \n",
    "        curr = self.head \n",
    "        prev = None\n",
    "        \n",
    "        while curr != None:\n",
    "            if i == index:\n",
    "                if prev != None:\n",
    "                    prev.next = curr.next\n",
    "                else:\n",
    "                    self.head = curr.next\n",
    "            prev = curr\n",
    "            curr = curr.next\n",
    "            i += 1\n",
    "            \n",
    "    def printll(self):\n",
    "        temp = self.head \n",
    "        while temp != None:\n",
    "            print(temp.val,end = '-->')\n",
    "            temp = temp.next"
   ]
  },
  {
   "cell_type": "code",
   "execution_count": 86,
   "metadata": {},
   "outputs": [],
   "source": [
    "obj = MyLinkedList()\n",
    "obj.printll()"
   ]
  },
  {
   "cell_type": "code",
   "execution_count": 87,
   "metadata": {},
   "outputs": [
    {
     "name": "stdout",
     "output_type": "stream",
     "text": [
      "1-->"
     ]
    }
   ],
   "source": [
    "obj.addAtHead(1)\n",
    "obj.printll()"
   ]
  },
  {
   "cell_type": "code",
   "execution_count": 88,
   "metadata": {},
   "outputs": [
    {
     "name": "stdout",
     "output_type": "stream",
     "text": [
      "1-->3-->"
     ]
    }
   ],
   "source": [
    "obj.addAtTail(3)\n",
    "obj.printll()"
   ]
  },
  {
   "cell_type": "code",
   "execution_count": 89,
   "metadata": {},
   "outputs": [
    {
     "name": "stdout",
     "output_type": "stream",
     "text": [
      "1-->2-->3-->"
     ]
    }
   ],
   "source": [
    "obj.addAtIndex(1,2)\n",
    "obj.printll()"
   ]
  },
  {
   "cell_type": "code",
   "execution_count": 90,
   "metadata": {},
   "outputs": [
    {
     "data": {
      "text/plain": [
       "2"
      ]
     },
     "execution_count": 90,
     "metadata": {},
     "output_type": "execute_result"
    }
   ],
   "source": [
    "obj.get(1)"
   ]
  },
  {
   "cell_type": "code",
   "execution_count": 77,
   "metadata": {},
   "outputs": [],
   "source": [
    "obj.deleteAtIndex(1)"
   ]
  },
  {
   "cell_type": "code",
   "execution_count": 78,
   "metadata": {},
   "outputs": [
    {
     "name": "stdout",
     "output_type": "stream",
     "text": [
      "1-->2-->3-->"
     ]
    }
   ],
   "source": [
    "obj.printll()"
   ]
  },
  {
   "cell_type": "code",
   "execution_count": null,
   "metadata": {},
   "outputs": [],
   "source": []
  },
  {
   "cell_type": "code",
   "execution_count": 91,
   "metadata": {},
   "outputs": [],
   "source": [
    "obj = MyLinkedList()\n",
    "obj.printll()"
   ]
  },
  {
   "cell_type": "code",
   "execution_count": 92,
   "metadata": {},
   "outputs": [],
   "source": [
    "obj.addAtHead(7)\n",
    "obj.addAtHead(2)\n",
    "obj.addAtHead(1)"
   ]
  },
  {
   "cell_type": "code",
   "execution_count": 93,
   "metadata": {},
   "outputs": [
    {
     "name": "stdout",
     "output_type": "stream",
     "text": [
      "1-->2-->7-->"
     ]
    }
   ],
   "source": [
    "obj.printll()"
   ]
  },
  {
   "cell_type": "code",
   "execution_count": 94,
   "metadata": {},
   "outputs": [
    {
     "name": "stdout",
     "output_type": "stream",
     "text": [
      "1-->2-->7-->0-->"
     ]
    }
   ],
   "source": [
    "obj.addAtIndex(3,0)\n",
    "obj.printll()"
   ]
  },
  {
   "cell_type": "code",
   "execution_count": 95,
   "metadata": {},
   "outputs": [
    {
     "name": "stdout",
     "output_type": "stream",
     "text": [
      "1-->2-->0-->"
     ]
    }
   ],
   "source": [
    "obj.deleteAtIndex(2)\n",
    "obj.printll()"
   ]
  },
  {
   "cell_type": "code",
   "execution_count": 97,
   "metadata": {},
   "outputs": [
    {
     "name": "stdout",
     "output_type": "stream",
     "text": [
      "6-->1-->2-->0-->4-->"
     ]
    }
   ],
   "source": [
    "obj.addAtHead(6)\n",
    "obj.printll()\n",
    "obj.addAtTail(4)\n",
    "obj.printll()"
   ]
  },
  {
   "cell_type": "code",
   "execution_count": 98,
   "metadata": {},
   "outputs": [
    {
     "data": {
      "text/plain": [
       "4"
      ]
     },
     "execution_count": 98,
     "metadata": {},
     "output_type": "execute_result"
    }
   ],
   "source": [
    "obj.get(4)"
   ]
  },
  {
   "cell_type": "code",
   "execution_count": 99,
   "metadata": {},
   "outputs": [
    {
     "name": "stdout",
     "output_type": "stream",
     "text": [
      "4-->6-->1-->2-->0-->4-->"
     ]
    }
   ],
   "source": [
    "obj.addAtHead(4)\n",
    "obj.printll()"
   ]
  },
  {
   "cell_type": "code",
   "execution_count": null,
   "metadata": {},
   "outputs": [],
   "source": [
    "obj.addAtIndex(5,4)\n",
    "obj.printll()"
   ]
  },
  {
   "cell_type": "code",
   "execution_count": 100,
   "metadata": {},
   "outputs": [
    {
     "name": "stdout",
     "output_type": "stream",
     "text": [
      "6-->4-->6-->1-->2-->0-->4-->"
     ]
    }
   ],
   "source": [
    "obj.addAtHead(6)\n",
    "obj.printll()"
   ]
  },
  {
   "cell_type": "code",
   "execution_count": null,
   "metadata": {},
   "outputs": [],
   "source": []
  },
  {
   "cell_type": "markdown",
   "metadata": {},
   "source": [
    "### reversing a linkedList "
   ]
  },
  {
   "cell_type": "code",
   "execution_count": null,
   "metadata": {},
   "outputs": [],
   "source": [
    "def revLL(head):\n",
    "    \n",
    "    if head == None:\n",
    "        return head\n",
    "    prev = None\n",
    "    curr = head\n",
    "    fut = head.next\n",
    "    \n",
    "    while curr != None:\n",
    "        curr.next = prev\n",
    "        prev = curr\n",
    "        curr = fut\n",
    "        if curr != None:\n",
    "            fut = curr.next\n",
    "        \n",
    "        "
   ]
  },
  {
   "cell_type": "code",
   "execution_count": null,
   "metadata": {},
   "outputs": [],
   "source": []
  },
  {
   "cell_type": "code",
   "execution_count": null,
   "metadata": {},
   "outputs": [],
   "source": []
  },
  {
   "cell_type": "code",
   "execution_count": null,
   "metadata": {},
   "outputs": [],
   "source": []
  }
 ],
 "metadata": {
  "kernelspec": {
   "display_name": "Python 3",
   "language": "python",
   "name": "python3"
  },
  "language_info": {
   "codemirror_mode": {
    "name": "ipython",
    "version": 3
   },
   "file_extension": ".py",
   "mimetype": "text/x-python",
   "name": "python",
   "nbconvert_exporter": "python",
   "pygments_lexer": "ipython3",
   "version": "3.8.6"
  }
 },
 "nbformat": 4,
 "nbformat_minor": 4
}
