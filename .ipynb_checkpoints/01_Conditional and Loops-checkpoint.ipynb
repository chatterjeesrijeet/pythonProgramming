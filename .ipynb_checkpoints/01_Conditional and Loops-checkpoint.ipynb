{
 "cells": [
  {
   "cell_type": "markdown",
   "metadata": {},
   "source": [
    "### break , continue  &. deadly else with While/For Loop"
   ]
  },
  {
   "cell_type": "markdown",
   "metadata": {},
   "source": [
    "    Note : \n",
    "    1. else with while/for loop gets executed ONLY  when it has reached there without hitting the break condition "
   ]
  },
  {
   "cell_type": "code",
   "execution_count": 4,
   "metadata": {},
   "outputs": [],
   "source": [
    "'''Code for finding the number as Prime or not '''\n",
    "\n",
    "def primeCheck(n):\n",
    "    flag = True\n",
    "    for i in range(2,n,1):\n",
    "        if n%i == 0:\n",
    "            flag = False\n",
    "\n",
    "    if flag:\n",
    "        print('Prime')\n",
    "    else:\n",
    "        print('Not Prime')"
   ]
  },
  {
   "cell_type": "code",
   "execution_count": 6,
   "metadata": {},
   "outputs": [
    {
     "name": "stdout",
     "output_type": "stream",
     "text": [
      "19\n",
      "Prime\n"
     ]
    }
   ],
   "source": [
    "n = int(input())\n",
    "primeCheck(n)"
   ]
  },
  {
   "cell_type": "code",
   "execution_count": 30,
   "metadata": {},
   "outputs": [],
   "source": [
    "'''Now lets modify it by using  \"BREAK \" we need not continue checking in case it gets completely divisible '''\n",
    "\n",
    "def primeCheckBreak(n):\n",
    "    \n",
    "    flag = True\n",
    "    for i in range(2,n,1):\n",
    "        if n%i == 0:\n",
    "            flag = False\n",
    "            break\n",
    "\n",
    "    if flag:\n",
    "        print('Prime')\n",
    "    else:\n",
    "        print('Not Prime')"
   ]
  },
  {
   "cell_type": "code",
   "execution_count": 31,
   "metadata": {},
   "outputs": [
    {
     "name": "stdout",
     "output_type": "stream",
     "text": [
      "122\n",
      "Not Prime\n"
     ]
    }
   ],
   "source": [
    "n = int(input())\n",
    "primeCheckBreak(n)"
   ]
  },
  {
   "cell_type": "code",
   "execution_count": 33,
   "metadata": {},
   "outputs": [
    {
     "name": "stdout",
     "output_type": "stream",
     "text": [
      "123456\n",
      "Not Prime\n",
      " WITHOUT Break : 0.014\n",
      "Not Prime\n",
      " With Break : 0.000\n"
     ]
    }
   ],
   "source": [
    "\"Lets comapre the time ealier function was taking more ...\"\n",
    "\n",
    "import time \n",
    "\n",
    "n = int(input())\n",
    "\n",
    "t1 = time.time()\n",
    "primeCheck(n)\n",
    "t2 = time.time()\n",
    "print(f\" WITHOUT Break : {(t2-t1):0.3f}\", )\n",
    "\n",
    "t3 = time.time()\n",
    "primeCheckBreak(n)\n",
    "t4 = time.time()\n",
    "print(f\" With Break : {(t4-t3):0.3f}\", )"
   ]
  },
  {
   "cell_type": "markdown",
   "metadata": {},
   "source": [
    "### Deadly combination of while or for with else "
   ]
  },
  {
   "cell_type": "code",
   "execution_count": 1,
   "metadata": {},
   "outputs": [],
   "source": [
    "def primeCheckBreakElse(n):\n",
    "    for i in range(2,n,1):\n",
    "        if n%i == 0:\n",
    "            break\n",
    "    else:\n",
    "        print('Prime')"
   ]
  },
  {
   "cell_type": "code",
   "execution_count": 2,
   "metadata": {},
   "outputs": [
    {
     "name": "stdout",
     "output_type": "stream",
     "text": [
      "6\n"
     ]
    }
   ],
   "source": [
    "n = int(input())\n",
    "primeCheckBreakElse(n)"
   ]
  },
  {
   "cell_type": "markdown",
   "metadata": {},
   "source": [
    "##### NOTE :  \n",
    "         else with while/for loop gets executed ONLY  when it has reached there without hitting the break condition !!!"
   ]
  },
  {
   "cell_type": "markdown",
   "metadata": {},
   "source": [
    "### Reversing a number"
   ]
  },
  {
   "cell_type": "code",
   "execution_count": 15,
   "metadata": {},
   "outputs": [],
   "source": [
    "def reversedNumber(n):\n",
    "    \n",
    "    reversed_num = 0 \n",
    "    \n",
    "    while n > 0 :\n",
    "        \n",
    "        rem = n % 10\n",
    "        \n",
    "        reversed_num = reversed_num*10 + rem\n",
    "        \n",
    "        n = n // 10\n",
    "        \n",
    "    return reversed_num"
   ]
  },
  {
   "cell_type": "code",
   "execution_count": 16,
   "metadata": {},
   "outputs": [
    {
     "name": "stdout",
     "output_type": "stream",
     "text": [
      "1231\n",
      "1321\n"
     ]
    }
   ],
   "source": [
    "n = int(input())\n",
    "print(reversedNumber(n))"
   ]
  },
  {
   "cell_type": "markdown",
   "metadata": {},
   "source": [
    "#### Finding the sum of even and odd digits of a number "
   ]
  },
  {
   "cell_type": "code",
   "execution_count": 18,
   "metadata": {},
   "outputs": [],
   "source": [
    "def evenOddSum(n):\n",
    "    even_sum = 0 \n",
    "    odd_sum = 0 \n",
    "    \n",
    "    while n > 0 :\n",
    "        num = n % 10\n",
    "        if num%2 == 0 :\n",
    "            even_sum += num \n",
    "        else:\n",
    "            odd_sum += num\n",
    "        \n",
    "        n //= 10\n",
    "    return even_sum,odd_sum "
   ]
  },
  {
   "cell_type": "code",
   "execution_count": 19,
   "metadata": {},
   "outputs": [
    {
     "name": "stdout",
     "output_type": "stream",
     "text": [
      "12345\n",
      "(6, 9)\n"
     ]
    }
   ],
   "source": [
    "n = int(input())\n",
    "print(evenOddSum(n))"
   ]
  },
  {
   "cell_type": "code",
   "execution_count": null,
   "metadata": {},
   "outputs": [],
   "source": [
    "1234"
   ]
  },
  {
   "cell_type": "code",
   "execution_count": null,
   "metadata": {},
   "outputs": [],
   "source": []
  },
  {
   "cell_type": "code",
   "execution_count": null,
   "metadata": {},
   "outputs": [],
   "source": []
  }
 ],
 "metadata": {
  "kernelspec": {
   "display_name": "Python 3",
   "language": "python",
   "name": "python3"
  },
  "language_info": {
   "codemirror_mode": {
    "name": "ipython",
    "version": 3
   },
   "file_extension": ".py",
   "mimetype": "text/x-python",
   "name": "python",
   "nbconvert_exporter": "python",
   "pygments_lexer": "ipython3",
   "version": "3.8.6"
  }
 },
 "nbformat": 4,
 "nbformat_minor": 1
}
