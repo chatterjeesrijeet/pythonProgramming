{
 "cells": [
  {
   "cell_type": "markdown",
   "metadata": {},
   "source": [
    "### Linear Search :\n",
    "                      Returns the first occurance index if present or -1 if not present "
   ]
  },
  {
   "cell_type": "code",
   "execution_count": 1,
   "metadata": {},
   "outputs": [],
   "source": [
    "def linSearch(l,ele):\n",
    "    for i in range(len(l)):\n",
    "        if l[i] == ele:\n",
    "            return i\n",
    "    else:\n",
    "        return -1"
   ]
  },
  {
   "cell_type": "code",
   "execution_count": null,
   "metadata": {},
   "outputs": [],
   "source": [
    "n = int(input(\"Please Enter the number of Elements in the array : \"))\n",
    "L = [int(i) for i in input('Array element Vals : ').strip().split()]\n",
    "ele = int(input(\"Please enter the element to search : \"))\n",
    "index = linSearch(L,ele)\n",
    "\n",
    "if index == -1 :\n",
    "    print(\"\\nThe element you are searching is not present in the List\")\n",
    "else:\n",
    "    print(f\"\\nThe element is present at index : {index} in the array you have passed.\")"
   ]
  },
  {
   "cell_type": "markdown",
   "metadata": {},
   "source": [
    "### Binary Search : \n",
    "                    1. array must be sorted "
   ]
  },
  {
   "cell_type": "raw",
   "metadata": {},
   "source": [
    "                                          Recursively Coded"
   ]
  },
  {
   "cell_type": "code",
   "execution_count": 1,
   "metadata": {},
   "outputs": [],
   "source": [
    "def binSearch(l,ele,si,ei):\n",
    "    \n",
    "    print(id(ele))\n",
    "    print(id(l))\n",
    "    \n",
    "    if si > ei:\n",
    "        return -1\n",
    "    \n",
    "    mid = (si+ei)//2\n",
    "    \n",
    "    if l[mid] == ele:\n",
    "        return mid\n",
    "    elif ele > l[mid]:\n",
    "        return binSearch(l,ele,mid+1,ei)\n",
    "    else:\n",
    "        return binSearch(l,ele,si,mid-1)  "
   ]
  },
  {
   "cell_type": "code",
   "execution_count": 2,
   "metadata": {},
   "outputs": [
    {
     "name": "stdout",
     "output_type": "stream",
     "text": [
      "Please Enter the number of Elements in the array : 8\n",
      "Array element Vals : 1 3 4 4 5 7 9 9 9 11 13\n",
      "Please enter the element to search : 4\n",
      "4545723168\n",
      "140599980187328\n",
      "4545723168\n",
      "140599980187328\n"
     ]
    }
   ],
   "source": [
    "n = int(input(\"Please Enter the number of Elements in the array : \"))\n",
    "L = [int(i) for i in input('Array element Vals : ').strip().split()]\n",
    "ele = int(input(\"Please enter the element to search : \"))\n",
    "\n",
    "index = binSearch(L,ele,0,len(L)-1)"
   ]
  },
  {
   "cell_type": "code",
   "execution_count": 3,
   "metadata": {},
   "outputs": [
    {
     "name": "stdout",
     "output_type": "stream",
     "text": [
      "\n",
      "The element is present at index : 2 in the array you have passed.\n"
     ]
    }
   ],
   "source": [
    "if index == -1 :\n",
    "    print(\"\\nThe element you are searching is not present in the List\")\n",
    "else:\n",
    "    print(f\"\\nThe element is present at index : {index} in the array you have passed.\")"
   ]
  },
  {
   "cell_type": "raw",
   "metadata": {},
   "source": [
    "                                          Iteratively Coded"
   ]
  },
  {
   "cell_type": "code",
   "execution_count": 19,
   "metadata": {},
   "outputs": [],
   "source": [
    "def binSearchIter(l,ele):\n",
    "    \n",
    "    si,ei = 0,len(l)-1\n",
    "    \n",
    "    while si<= ei:\n",
    "        mid = (si+ei)//2\n",
    "        if l[mid]==ele:\n",
    "            return mid\n",
    "        elif ele > l[mid]:\n",
    "            si = mid+1\n",
    "        else:\n",
    "            ei = mid -1\n",
    "    else:\n",
    "        return -1\n",
    "            "
   ]
  },
  {
   "cell_type": "code",
   "execution_count": 20,
   "metadata": {},
   "outputs": [
    {
     "name": "stdout",
     "output_type": "stream",
     "text": [
      "Please Enter the number of Elements in the array : 2\n",
      "Array element Vals : 12 16 17 18 23 28 39 47 55 68 75 83 91 123\n",
      "Please enter the element to search : 75\n"
     ]
    }
   ],
   "source": [
    "n = int(input(\"Please Enter the number of Elements in the array : \"))\n",
    "L = [int(i) for i in input('Array element Vals : ').strip().split()]\n",
    "ele = int(input(\"Please enter the element to search : \"))\n",
    "\n",
    "index = binSearchIter(L,ele)\n"
   ]
  },
  {
   "cell_type": "code",
   "execution_count": 21,
   "metadata": {},
   "outputs": [
    {
     "name": "stdout",
     "output_type": "stream",
     "text": [
      "\n",
      "The element is present at index : 10 in the array you have passed.\n"
     ]
    }
   ],
   "source": [
    "if index == -1 :\n",
    "    print(\"\\nThe element you are searching is not present in the List\")\n",
    "else:\n",
    "    print(f\"\\nThe element is present at index : {index} in the array you have passed.\")"
   ]
  },
  {
   "cell_type": "markdown",
   "metadata": {},
   "source": [
    "### 2 D Lists "
   ]
  },
  {
   "cell_type": "raw",
   "metadata": {},
   "source": [
    "Finding the column index with maximum col vals summation"
   ]
  },
  {
   "cell_type": "code",
   "execution_count": 6,
   "metadata": {},
   "outputs": [
    {
     "name": "stdout",
     "output_type": "stream",
     "text": [
      "3 4\n",
      "14 11 21 23\n",
      "14 111 21 23\n",
      "14 11 21 23\n"
     ]
    }
   ],
   "source": [
    "x = input().strip().split()\n",
    "n,m = int(x[0]),int(x[1])\n",
    "\n",
    "L = [ [ int(x) for x in input().strip().split()] for i in range(n)]"
   ]
  },
  {
   "cell_type": "code",
   "execution_count": 7,
   "metadata": {},
   "outputs": [],
   "source": [
    "def colSumIndex(L,n,m):\n",
    "    \n",
    "    col_sum = -99\n",
    "    col_index = -1\n",
    "    \n",
    "    for j in range(m):\n",
    "        sum = 0\n",
    "        for i in range(len(L)):\n",
    "            sum += L[i][j]\n",
    "        if sum > col_sum:\n",
    "            col_sum = sum \n",
    "            col_index = j\n",
    "    return col_index"
   ]
  },
  {
   "cell_type": "code",
   "execution_count": 8,
   "metadata": {},
   "outputs": [
    {
     "data": {
      "text/plain": [
       "1"
      ]
     },
     "execution_count": 8,
     "metadata": {},
     "output_type": "execute_result"
    }
   ],
   "source": [
    "colSumIndex(L,n,m)"
   ]
  },
  {
   "cell_type": "code",
   "execution_count": 10,
   "metadata": {},
   "outputs": [
    {
     "data": {
      "text/plain": [
       "10"
      ]
     },
     "execution_count": 10,
     "metadata": {},
     "output_type": "execute_result"
    }
   ],
   "source": [
    "sum(set([1,1,2,3,3,4]))"
   ]
  },
  {
   "cell_type": "code",
   "execution_count": null,
   "metadata": {},
   "outputs": [],
   "source": []
  },
  {
   "cell_type": "code",
   "execution_count": null,
   "metadata": {},
   "outputs": [],
   "source": []
  },
  {
   "cell_type": "code",
   "execution_count": null,
   "metadata": {},
   "outputs": [],
   "source": []
  },
  {
   "cell_type": "code",
   "execution_count": null,
   "metadata": {},
   "outputs": [],
   "source": []
  },
  {
   "cell_type": "code",
   "execution_count": null,
   "metadata": {},
   "outputs": [],
   "source": []
  }
 ],
 "metadata": {
  "kernelspec": {
   "display_name": "Python 3",
   "language": "python",
   "name": "python3"
  },
  "language_info": {
   "codemirror_mode": {
    "name": "ipython",
    "version": 3
   },
   "file_extension": ".py",
   "mimetype": "text/x-python",
   "name": "python",
   "nbconvert_exporter": "python",
   "pygments_lexer": "ipython3",
   "version": "3.8.6"
  }
 },
 "nbformat": 4,
 "nbformat_minor": 4
}
