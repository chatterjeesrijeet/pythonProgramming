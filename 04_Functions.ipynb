{
 "cells": [
  {
   "cell_type": "markdown",
   "metadata": {},
   "source": [
    "### order of default and non default parameters "
   ]
  },
  {
   "cell_type": "code",
   "execution_count": 4,
   "metadata": {},
   "outputs": [
    {
     "data": {
      "text/plain": [
       "8"
      ]
     },
     "execution_count": 4,
     "metadata": {},
     "output_type": "execute_result"
    }
   ],
   "source": [
    "funcname(2,6)"
   ]
  },
  {
   "cell_type": "code",
   "execution_count": 5,
   "metadata": {},
   "outputs": [
    {
     "ename": "TypeError",
     "evalue": "funcname() missing 1 required positional argument: 'b'",
     "output_type": "error",
     "traceback": [
      "\u001b[0;31m---------------------------------------------------------------------------\u001b[0m",
      "\u001b[0;31mTypeError\u001b[0m                                 Traceback (most recent call last)",
      "\u001b[0;32m<ipython-input-5-e32e91856849>\u001b[0m in \u001b[0;36m<module>\u001b[0;34m\u001b[0m\n\u001b[0;32m----> 1\u001b[0;31m \u001b[0mfuncname\u001b[0m\u001b[0;34m(\u001b[0m\u001b[0;36m2\u001b[0m\u001b[0;34m)\u001b[0m\u001b[0;34m\u001b[0m\u001b[0;34m\u001b[0m\u001b[0m\n\u001b[0m",
      "\u001b[0;31mTypeError\u001b[0m: funcname() missing 1 required positional argument: 'b'"
     ]
    }
   ],
   "source": [
    "funcname(2)"
   ]
  },
  {
   "cell_type": "markdown",
   "metadata": {},
   "source": [
    "    Rule : Default Parameters must always come after the non-default parametrs."
   ]
  },
  {
   "cell_type": "markdown",
   "metadata": {},
   "source": [
    "### References of Variables Vs Lists passed "
   ]
  },
  {
   "cell_type": "markdown",
   "metadata": {},
   "source": [
    "                                ... variables ... "
   ]
  },
  {
   "cell_type": "code",
   "execution_count": 7,
   "metadata": {},
   "outputs": [
    {
     "name": "stdout",
     "output_type": "stream",
     "text": [
      "address of a :                140602229929744\n",
      "address of var received :     140602229929744\n",
      "address of var after update : 140602229929360\n",
      "Local Var :  -99\n",
      "Global a :  -199\n"
     ]
    }
   ],
   "source": [
    "a = -199\n",
    "print(f\"address of a :                {id(a)}\")\n",
    "\n",
    "def f(var):\n",
    "    print(f\"address of var received :     {id(var)}\")\n",
    "    var += 100\n",
    "    print(f\"address of var after update : {id(var)}\")\n",
    "    print(\"Local Var : \",var)\n",
    "    \n",
    "f(a)\n",
    "print(\"Global a : \",a)"
   ]
  },
  {
   "cell_type": "markdown",
   "metadata": {},
   "source": [
    "                                ... Lists ... "
   ]
  },
  {
   "cell_type": "code",
   "execution_count": 27,
   "metadata": {},
   "outputs": [
    {
     "name": "stdout",
     "output_type": "stream",
     "text": [
      "address of a :                140571695678272\n",
      "address of var received :     140571695678272\n",
      "address of var after update : 140571695678272\n",
      "Local Var :  [10, 2, 3]\n",
      "Global Var :  [10, 2, 3]\n"
     ]
    }
   ],
   "source": [
    " \n",
    "a = [1,2,3]\n",
    "\n",
    "print(f\"address of a :                {id(a)}\")\n",
    "\n",
    "def f(var):\n",
    "    print(f\"address of var received :     {id(var)}\")\n",
    "    var[0] += 9\n",
    "    print(f\"address of var after update : {id(var)}\")\n",
    "    print(\"Local Var : \", var)\n",
    "    del var\n",
    "    \n",
    "f(a)\n",
    "print(\"Global Var : \",a)"
   ]
  },
  {
   "cell_type": "code",
   "execution_count": null,
   "metadata": {},
   "outputs": [],
   "source": []
  },
  {
   "cell_type": "code",
   "execution_count": null,
   "metadata": {},
   "outputs": [],
   "source": []
  },
  {
   "cell_type": "code",
   "execution_count": null,
   "metadata": {},
   "outputs": [],
   "source": []
  },
  {
   "cell_type": "code",
   "execution_count": null,
   "metadata": {},
   "outputs": [],
   "source": []
  }
 ],
 "metadata": {
  "kernelspec": {
   "display_name": "Python 3",
   "language": "python",
   "name": "python3"
  },
  "language_info": {
   "codemirror_mode": {
    "name": "ipython",
    "version": 3
   },
   "file_extension": ".py",
   "mimetype": "text/x-python",
   "name": "python",
   "nbconvert_exporter": "python",
   "pygments_lexer": "ipython3",
   "version": "3.8.6"
  }
 },
 "nbformat": 4,
 "nbformat_minor": 4
}
