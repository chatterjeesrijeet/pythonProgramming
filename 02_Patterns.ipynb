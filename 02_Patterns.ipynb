{
 "cells": [
  {
   "cell_type": "markdown",
   "metadata": {},
   "source": [
    "### Code : Square Pattern"
   ]
  },
  {
   "cell_type": "raw",
   "metadata": {},
   "source": [
    "Print the following pattern for the given N number of rows.\n",
    "\n",
    "Pattern for N = 4\n",
    "\n",
    "            4444\n",
    "            4444\n",
    "            4444\n",
    "            4444\n",
    "\n",
    "Input format :\n",
    "Integer N (Total no. of rows)\n",
    "\n",
    "Output format :\n",
    "Pattern in N lines\n",
    "\n",
    "Constraints\n",
    "0 <= N <= 50\n",
    "\n",
    "Sample Input 1:     7\n",
    "Sample Output 1:\n",
    "                    7777777\n",
    "                    7777777\n",
    "                    7777777\n",
    "                    7777777\n",
    "                    7777777\n",
    "                    7777777\n",
    "                    7777777\n",
    "\n",
    "Sample Input 1:     6\n",
    "Sample Output 1:\n",
    "                    666666\n",
    "                    666666\n",
    "                    666666\n",
    "                    666666\n",
    "                    666666\n",
    "                    666666"
   ]
  },
  {
   "cell_type": "code",
   "execution_count": 1,
   "metadata": {},
   "outputs": [
    {
     "name": "stdout",
     "output_type": "stream",
     "text": [
      "5\n",
      "55555\n",
      "55555\n",
      "55555\n",
      "55555\n",
      "55555\n"
     ]
    }
   ],
   "source": [
    "## Read input as specified in the question\n",
    "## Print the required output in given format\n",
    "n = int(input())\n",
    "\n",
    "for i in range(n):\n",
    "    for i in range(n):\n",
    "        print(n, end = '')\n",
    "    print()"
   ]
  },
  {
   "cell_type": "markdown",
   "metadata": {},
   "source": [
    "### Code : Triangular Star Pattern"
   ]
  },
  {
   "cell_type": "raw",
   "metadata": {},
   "source": [
    "Print the following pattern for the given N number of rows.\n",
    "Pattern for N = 4\n",
    "*\n",
    "**\n",
    "***\n",
    "****\n",
    "Note : There are no spaces between the stars (*).\n",
    "Input format :\n",
    "Integer N (Total no. of rows)\n",
    "Output format :\n",
    "Pattern in N lines\n",
    "Constraints\n",
    "0 <= N <= 50\n",
    "Sample Input 1:\n",
    "5\n",
    "Sample Output 1:\n",
    "*\n",
    "**\n",
    "***\n",
    "****\n",
    "*****\n",
    "Sample Input 2:\n",
    "6\n",
    "Sample Output 2:\n",
    "*\n",
    "**\n",
    "***\n",
    "****\n",
    "*****\n",
    "******"
   ]
  },
  {
   "cell_type": "code",
   "execution_count": 2,
   "metadata": {},
   "outputs": [
    {
     "name": "stdout",
     "output_type": "stream",
     "text": [
      "6\n",
      "*\n",
      "**\n",
      "***\n",
      "****\n",
      "*****\n",
      "******\n"
     ]
    }
   ],
   "source": [
    "n = int(input())\n",
    "\n",
    "for i in range(n):\n",
    "    for j in range(i+1):\n",
    "        print('*',end='')\n",
    "    print()"
   ]
  },
  {
   "cell_type": "markdown",
   "metadata": {},
   "source": [
    "### Code : Triangle Number Pattern"
   ]
  },
  {
   "cell_type": "raw",
   "metadata": {},
   "source": [
    "Print the following pattern for the given N number of rows.\n",
    "\n",
    "Pattern for N = 4\n",
    "1\n",
    "22\n",
    "333\n",
    "4444\n",
    "Input format :\n",
    "Integer N (Total no. of rows)\n",
    "Output format :\n",
    "Pattern in N lines\n",
    "Constraints\n",
    "0 <= N <= 50\n",
    "Sample Input 1:\n",
    "5\n",
    "Sample Output 1:\n",
    "1\n",
    "22\n",
    "333\n",
    "4444\n",
    "55555\n",
    "Sample Input 2:\n",
    "6\n",
    "Sample Output 2:\n",
    "1\n",
    "22\n",
    "333\n",
    "4444\n",
    "55555\n",
    "666666"
   ]
  },
  {
   "cell_type": "code",
   "execution_count": 3,
   "metadata": {},
   "outputs": [
    {
     "name": "stdout",
     "output_type": "stream",
     "text": [
      "7\n",
      "1\n",
      "22\n",
      "333\n",
      "4444\n",
      "55555\n",
      "666666\n",
      "7777777\n"
     ]
    }
   ],
   "source": [
    "## Read input as specified in the question\n",
    "## Print the required output in given format\n",
    "n = int(input())\n",
    "\n",
    "for i in range(n):\n",
    "    for j in range(i+1):\n",
    "        print(i+1,end='')\n",
    "    print()"
   ]
  },
  {
   "cell_type": "markdown",
   "metadata": {},
   "source": [
    "### Code : Reverse Number Pattern"
   ]
  },
  {
   "cell_type": "raw",
   "metadata": {},
   "source": [
    "Send Feedback\n",
    "Print the following pattern for the given N number of rows.\n",
    "Pattern for N = 4\n",
    "1\n",
    "21\n",
    "321\n",
    "4321\n",
    "Input format :\n",
    "Integer N (Total no. of rows)\n",
    "Output format :\n",
    "Pattern in N lines\n",
    "Constraints\n",
    "0 <= N <= 50\n",
    "Sample Input 1:\n",
    "5\n",
    "Sample Output 1:\n",
    "1\n",
    "21\n",
    "321\n",
    "4321\n",
    "54321\n",
    "Sample Input 2:\n",
    "6\n",
    "Sample Output 2:\n",
    "1\n",
    "21\n",
    "321\n",
    "4321\n",
    "54321\n",
    "654321"
   ]
  },
  {
   "cell_type": "code",
   "execution_count": 4,
   "metadata": {},
   "outputs": [
    {
     "name": "stdout",
     "output_type": "stream",
     "text": [
      "5\n",
      "1\n",
      "21\n",
      "321\n",
      "4321\n",
      "54321\n"
     ]
    }
   ],
   "source": [
    "## Read input as specified in the question\n",
    "## Print the required output in given format\n",
    "n = int(input())\n",
    "\n",
    "for i in range(1,n+1):\n",
    "    printed_num = i\n",
    "    for j in range(1,i+1):\n",
    "        print(printed_num,end='')\n",
    "        printed_num = printed_num - 1\n",
    "    print()"
   ]
  },
  {
   "cell_type": "markdown",
   "metadata": {},
   "source": [
    "### Code : Character Pattern"
   ]
  },
  {
   "cell_type": "raw",
   "metadata": {},
   "source": [
    "Print the following pattern for the given N number of rows.\n",
    "Pattern for N = 4\n",
    "A\n",
    "BC\n",
    "CDE\n",
    "DEFG\n",
    "Input format :\n",
    "Integer N (Total no. of rows)\n",
    "Output format :\n",
    "Pattern in N lines\n",
    "Constraints\n",
    "0 <= N <= 13\n",
    "Sample Input 1:\n",
    "5\n",
    "Sample Output 1:\n",
    "A\n",
    "BC\n",
    "CDE\n",
    "DEFG\n",
    "EFGHI\n",
    "Sample Input 2:\n",
    "6\n",
    "Sample Output 2:\n",
    "A\n",
    "BC\n",
    "CDE\n",
    "DEFG\n",
    "EFGHI\n",
    "FGHIJK"
   ]
  },
  {
   "cell_type": "code",
   "execution_count": 5,
   "metadata": {},
   "outputs": [
    {
     "name": "stdout",
     "output_type": "stream",
     "text": [
      "5\n",
      "A\n",
      "BC\n",
      "CDE\n",
      "DEFG\n",
      "EFGHI\n"
     ]
    }
   ],
   "source": [
    "## Read input as specified in the question\n",
    "## Print the required output in given format\n",
    "n = int(input())\n",
    "base_no = ord('A')  #65=A\n",
    "\n",
    "for i in range(n):\n",
    "    start_char = base_no + i\n",
    "    for j in range(i+1):\n",
    "        print(chr(start_char),end = '')\n",
    "        start_char = start_char + 1\n",
    "    print()"
   ]
  },
  {
   "cell_type": "markdown",
   "metadata": {},
   "source": [
    "### Code : Interesting Alphabets"
   ]
  },
  {
   "cell_type": "code",
   "execution_count": null,
   "metadata": {},
   "outputs": [],
   "source": [
    "Print the following pattern for the given number of rows.\n",
    "Pattern for N = 5\n",
    "E\n",
    "DE\n",
    "CDE\n",
    "BCDE\n",
    "ABCDE\n",
    "Input format :\n",
    "N (Total no. of rows)\n",
    "Output format :\n",
    "Pattern in N lines\n",
    "Constraints\n",
    "0 <= N <= 26\n",
    "Sample Input 1:\n",
    "8\n",
    "Sample Output 1:\n",
    "H\n",
    "GH\n",
    "FGH\n",
    "EFGH\n",
    "DEFGH\n",
    "CDEFGH\n",
    "BCDEFGH\n",
    "ABCDEFGH\n",
    "Sample Input 2:\n",
    "7\n",
    "Sample Output 2:\n",
    "G\n",
    "FG\n",
    "EFG\n",
    "DEFG\n",
    "CDEFG\n",
    "BCDEFG\n",
    "ABCDEFG"
   ]
  },
  {
   "cell_type": "code",
   "execution_count": 6,
   "metadata": {},
   "outputs": [
    {
     "name": "stdout",
     "output_type": "stream",
     "text": [
      "4\n",
      "D\n",
      "CD\n",
      "BCD\n",
      "ABCD\n"
     ]
    }
   ],
   "source": [
    "## Read input as specified in the question.\n",
    "## Print output as specified in the question.\n",
    "\n",
    "n = int(input())\n",
    "base_no = ord('A') - 1  #65=A\n",
    "\n",
    "for i in range(n):\n",
    "    start_char = base_no + (n-i)\n",
    "    for j in range(i+1):\n",
    "        print(chr(start_char),end = '')\n",
    "        start_char = start_char + 1\n",
    "    print()\n",
    "    "
   ]
  },
  {
   "cell_type": "markdown",
   "metadata": {},
   "source": [
    "### Number Pattern 1"
   ]
  },
  {
   "cell_type": "raw",
   "metadata": {},
   "source": [
    "Print the following pattern for the given N number of rows.\n",
    "Pattern for N = 4\n",
    "1\n",
    "11\n",
    "111\n",
    "1111\n",
    "Input format :\n",
    "Integer N (Total no. of rows)\n",
    "Output format :\n",
    "Pattern in N lines\n",
    "Sample Input :\n",
    "5\n",
    "Sample Output :\n",
    "1\n",
    "11\n",
    "111\n",
    "1111\n",
    "11111"
   ]
  },
  {
   "cell_type": "code",
   "execution_count": 8,
   "metadata": {},
   "outputs": [
    {
     "name": "stdout",
     "output_type": "stream",
     "text": [
      "5\n",
      "1\n",
      "11\n",
      "111\n",
      "1111\n",
      "11111\n"
     ]
    }
   ],
   "source": [
    "\n",
    "n = int(input())\n",
    "\n",
    "for i in range(n):\n",
    "    for j in range(i+1):\n",
    "        print('1',end='')\n",
    "    print()"
   ]
  },
  {
   "cell_type": "markdown",
   "metadata": {},
   "source": [
    "### Number Pattern 2"
   ]
  },
  {
   "cell_type": "code",
   "execution_count": null,
   "metadata": {},
   "outputs": [],
   "source": [
    "Print the following pattern for the given N number of rows.\n",
    "Pattern for N = 4\n",
    "1\n",
    "11\n",
    "202\n",
    "3003\n",
    "Input format :\n",
    "Integer N (Total no. of rows)\n",
    "Contraints:\n",
    "1 <= n <= 50\n",
    "Output format :\n",
    "Pattern in N lines\n",
    "Sample Input :\n",
    "5\n",
    "Sample Output :\n",
    "1\n",
    "11\n",
    "202\n",
    "3003\n",
    "40004"
   ]
  },
  {
   "cell_type": "code",
   "execution_count": 9,
   "metadata": {},
   "outputs": [
    {
     "name": "stdout",
     "output_type": "stream",
     "text": [
      "7\n",
      "1\n",
      "11\n",
      "202\n",
      "3003\n",
      "40004\n",
      "500005\n",
      "6000006\n"
     ]
    }
   ],
   "source": [
    "## Read input as specified in the question.\n",
    "## Print output as specified in the question.\n",
    "n = int(input())\n",
    "\n",
    "for i in range(n):\n",
    "    if i == 0 :\n",
    "        print(i+1)\n",
    "        continue\n",
    "    \n",
    "    j = 0\n",
    "    while j <= i :\n",
    "        if j==0 or j == i:\n",
    "            print(i,end ='')\n",
    "        else:\n",
    "            print(0,end = '')\n",
    "        j = j + 1\n",
    "    print()"
   ]
  },
  {
   "cell_type": "markdown",
   "metadata": {},
   "source": [
    "### Number Pattern 3"
   ]
  },
  {
   "cell_type": "raw",
   "metadata": {},
   "source": [
    "Print the following pattern for the given N number of rows.\n",
    "\n",
    "Pattern for N = 4\n",
    "1\n",
    "11\n",
    "121\n",
    "1221\n",
    "\n",
    "Input format :\n",
    "Integer N (Total no. of rows)\n",
    "Output format :\n",
    "Pattern in N lines\n",
    "\n",
    "Sample Input :\n",
    "5\n",
    "Sample Output :\n",
    "1\n",
    "11\n",
    "121\n",
    "1221\n",
    "12221"
   ]
  },
  {
   "cell_type": "code",
   "execution_count": 10,
   "metadata": {},
   "outputs": [
    {
     "name": "stdout",
     "output_type": "stream",
     "text": [
      "5\n",
      "1\n",
      "11\n",
      "121\n",
      "1221\n",
      "12221\n"
     ]
    }
   ],
   "source": [
    "## Read input as specified in the question.\n",
    "## Print output as specified in the question.\n",
    "\n",
    "n = int(input())\n",
    "\n",
    "for i in range(n):\n",
    "    j = 0\n",
    "    while j <= i :\n",
    "        if j==0 or j == i:\n",
    "            print(1,end ='')\n",
    "        else:\n",
    "            print(2,end = '')\n",
    "        j = j + 1\n",
    "    print()"
   ]
  },
  {
   "cell_type": "markdown",
   "metadata": {},
   "source": [
    "### Number Pattern"
   ]
  },
  {
   "cell_type": "raw",
   "metadata": {},
   "source": [
    "Print the following pattern for the given N number of rows.\n",
    "Pattern for N = 4\n",
    "1234\n",
    "123\n",
    "12\n",
    "1\n",
    "\n",
    "Input format :\n",
    "Integer N (Total no. of rows)\n",
    "Output format :\n",
    "\n",
    "Pattern in N lines\n",
    "\n",
    "Sample Input :\n",
    "5\n",
    "Sample Output :\n",
    "12345\n",
    "1234\n",
    "123\n",
    "12\n",
    "1"
   ]
  },
  {
   "cell_type": "code",
   "execution_count": 11,
   "metadata": {},
   "outputs": [
    {
     "name": "stdout",
     "output_type": "stream",
     "text": [
      "3\n",
      "123\n",
      "12\n",
      "1\n"
     ]
    }
   ],
   "source": [
    "## Read input as specified in the question.\n",
    "## Print output as specified in the question.\n",
    "n = int(input())\n",
    "\n",
    "for i in range(n,0,-1):\n",
    "    for j in range(1,i+1):\n",
    "        print(j,end='')\n",
    "    print()"
   ]
  },
  {
   "cell_type": "markdown",
   "metadata": {},
   "source": [
    "### Alpha Pattern"
   ]
  },
  {
   "cell_type": "raw",
   "metadata": {},
   "source": [
    "Print the following pattern for the given N number of rows.\n",
    "\n",
    "Pattern for N =  3\n",
    "                 A\n",
    "                 BB\n",
    "                 CCC\n",
    "\n",
    "Input format :\n",
    "Integer N (Total no. of rows)\n",
    "Output format :\n",
    "Pattern in N lines\n",
    "\n",
    "Constraints\n",
    "0 <= N <= 26\n",
    "\n",
    "Sample Input 1:     7\n",
    "Sample Output 1:\n",
    "                    A\n",
    "                    BB\n",
    "                    CCC\n",
    "                    DDDD\n",
    "                    EEEEE\n",
    "                    FFFFFF\n",
    "                    GGGGGGG\n",
    "\n",
    "Sample Input 2:     6\n",
    "Sample Output 2:\n",
    "                    A\n",
    "                    BB\n",
    "                    CCC\n",
    "                    DDDD\n",
    "                    EEEEE\n",
    "                    FFFFFF"
   ]
  },
  {
   "cell_type": "code",
   "execution_count": 12,
   "metadata": {},
   "outputs": [
    {
     "name": "stdout",
     "output_type": "stream",
     "text": [
      "4\n",
      "A\n",
      "BB\n",
      "CCC\n",
      "DDDD\n"
     ]
    }
   ],
   "source": [
    "## Read input as specified in the question.\n",
    "## Print output as specified in the question.\n",
    "n = int(input())\n",
    "base_no = ord('A')\n",
    "for i in range(n):\n",
    "    print_no = base_no + i\n",
    "    for j in range(i+1):\n",
    "        print(chr(print_no),end='')\n",
    "    print()"
   ]
  },
  {
   "cell_type": "markdown",
   "metadata": {},
   "source": [
    "#### Star Pattern - 1 "
   ]
  },
  {
   "cell_type": "raw",
   "metadata": {},
   "source": [
    "****\n",
    "***\n",
    "**\n",
    "*"
   ]
  },
  {
   "cell_type": "code",
   "execution_count": 14,
   "metadata": {},
   "outputs": [
    {
     "name": "stdout",
     "output_type": "stream",
     "text": [
      "4\n",
      "****\n",
      "***\n",
      "**\n",
      "*\n"
     ]
    }
   ],
   "source": [
    "n = int(input())\n",
    "\n",
    "row = 1\n",
    "while row <= n:\n",
    "    col = 1 \n",
    "    while col <= (n-row+1) : \n",
    "        print('*',end = '')\n",
    "        col = col + 1 \n",
    "    row = row + 1\n",
    "    print()"
   ]
  },
  {
   "cell_type": "markdown",
   "metadata": {},
   "source": [
    "#### Star Pattern - 2 "
   ]
  },
  {
   "cell_type": "raw",
   "metadata": {},
   "source": [
    "    *\n",
    "   **\n",
    "  ***\n",
    " ****\n",
    "*****"
   ]
  },
  {
   "cell_type": "code",
   "execution_count": 15,
   "metadata": {},
   "outputs": [
    {
     "name": "stdout",
     "output_type": "stream",
     "text": [
      "6\n",
      "     *\n",
      "    **\n",
      "   ***\n",
      "  ****\n",
      " *****\n",
      "******\n"
     ]
    }
   ],
   "source": [
    "n = int(input())\n",
    "\n",
    "row = 1 \n",
    "\n",
    "while row <=  n:\n",
    "    # 1 -> 4, 2 -> 3 , 3 -> 2 ,... 5->0\n",
    "    spaceCount = 1\n",
    "    while spaceCount <= (n - row):\n",
    "        print(' ',end = '')\n",
    "        spaceCount += 1\n",
    "        \n",
    "    starCount = 1\n",
    "    while starCount <= row:\n",
    "        print('*',end = '')\n",
    "        starCount += 1\n",
    "    row = row + 1\n",
    "    print()"
   ]
  },
  {
   "cell_type": "markdown",
   "metadata": {},
   "source": [
    "### Number Pattern - 5 "
   ]
  },
  {
   "cell_type": "raw",
   "metadata": {},
   "source": [
    "   1\n",
    "  121\n",
    " 12321\n",
    "1234321"
   ]
  },
  {
   "cell_type": "code",
   "execution_count": null,
   "metadata": {},
   "outputs": [],
   "source": [
    "To make it simple lets try to print:\n",
    "   1\n",
    "  12\n",
    " 123\n",
    "1234"
   ]
  },
  {
   "cell_type": "code",
   "execution_count": 16,
   "metadata": {},
   "outputs": [
    {
     "name": "stdout",
     "output_type": "stream",
     "text": [
      "5\n",
      "    1\n",
      "   12\n",
      "  123\n",
      " 1234\n",
      "12345\n"
     ]
    }
   ],
   "source": [
    "n = int(input())\n",
    "\n",
    "row = 1 \n",
    "while row <= n:\n",
    "    spaceCount = 1\n",
    "    while spaceCount <= (n-row):\n",
    "        print(' ',end = '')\n",
    "        spaceCount += 1\n",
    "    \n",
    "    number = 1\n",
    "    while number <= row:\n",
    "        print(number, end = '')\n",
    "        number += 1\n",
    "    row += 1 \n",
    "    print()"
   ]
  },
  {
   "cell_type": "raw",
   "metadata": {},
   "source": [
    "Now coming back to our original problem :\n",
    "    \n",
    "   1\n",
    "  121\n",
    " 12321\n",
    "1234321 \n",
    "\n",
    "The only change is add few more print for earch row "
   ]
  },
  {
   "cell_type": "code",
   "execution_count": 17,
   "metadata": {},
   "outputs": [
    {
     "name": "stdout",
     "output_type": "stream",
     "text": [
      "7\n",
      "      1\n",
      "     121\n",
      "    12321\n",
      "   1234321\n",
      "  123454321\n",
      " 12345654321\n",
      "1234567654321\n"
     ]
    }
   ],
   "source": [
    "n = int(input())\n",
    "\n",
    "row = 1 \n",
    "while row <= n:\n",
    "    spaceCount = 1\n",
    "    while spaceCount <= (n-row):\n",
    "        print(' ',end = '')\n",
    "        spaceCount += 1\n",
    "    \n",
    "    number = 1\n",
    "    while number <= row:\n",
    "        print(number, end = '')\n",
    "        number += 1\n",
    "        \n",
    "    revNum = row-1  #row 2 starts with 1 , row 3 starts 2 ...so on so forth ...\n",
    "    while revNum > 0:\n",
    "        print(revNum, end = '')\n",
    "        revNum -= 1\n",
    "    row += 1 \n",
    "    print()"
   ]
  },
  {
   "cell_type": "markdown",
   "metadata": {},
   "source": [
    "### Number Pattern - 6 "
   ]
  },
  {
   "cell_type": "raw",
   "metadata": {},
   "source": [
    "    1\n",
    "   232\n",
    "  34543\n",
    " 4567654\n",
    "567898765"
   ]
  },
  {
   "cell_type": "markdown",
   "metadata": {},
   "source": [
    "                                ...  Appraoch 1  .... "
   ]
  },
  {
   "cell_type": "code",
   "execution_count": 22,
   "metadata": {},
   "outputs": [],
   "source": [
    "def pattern_print(n):\n",
    "    \n",
    "    row = 1\n",
    "    while row <= n:\n",
    "        \n",
    "        #print spaces ;\n",
    "        spacecount = 1\n",
    "        while spacecount <= (n-row):\n",
    "            print(' ',end = '')\n",
    "            spacecount += 1\n",
    "            \n",
    "        #now print nums\n",
    "        numcount = 1\n",
    "        numtoprint = row\n",
    "        while numcount <= row:\n",
    "            print(numtoprint,end = '')\n",
    "            numtoprint += 1\n",
    "            numcount += 1\n",
    "        \n",
    "        #decreasing patten of nums \n",
    "        starting_num = numtoprint - 2 \n",
    "        while starting_num >= row :\n",
    "            print(starting_num,end = '')\n",
    "            starting_num -= 1\n",
    "        \n",
    "        row = row + 1\n",
    "        print()\n",
    "    \n",
    "    return"
   ]
  },
  {
   "cell_type": "code",
   "execution_count": 27,
   "metadata": {},
   "outputs": [
    {
     "name": "stdout",
     "output_type": "stream",
     "text": [
      "     1\n",
      "    232\n",
      "   34543\n",
      "  4567654\n",
      " 567898765\n",
      "67891011109876\n"
     ]
    }
   ],
   "source": [
    "pattern_print(6)"
   ]
  },
  {
   "cell_type": "markdown",
   "metadata": {},
   "source": [
    "                                ...  Appraoch 2  .... "
   ]
  },
  {
   "cell_type": "code",
   "execution_count": null,
   "metadata": {},
   "outputs": [],
   "source": [
    "n = 5 \n",
    "number of rows = 5\n",
    "number of cols : row 1 spaces = 4 printing : 1\n",
    "                 row 2 spaces = 3 printing : 23  2\n",
    "                 row 3 spaces = 2 printing : 345 43\n",
    "                        \n"
   ]
  },
  {
   "cell_type": "code",
   "execution_count": 29,
   "metadata": {},
   "outputs": [
    {
     "name": "stdout",
     "output_type": "stream",
     "text": [
      "6\n",
      "     1\n",
      "    232\n",
      "   34543\n",
      "  4567654\n",
      " 567898765\n",
      "67891011109876\n"
     ]
    }
   ],
   "source": [
    "n = int(input())\n",
    "\n",
    "for i in range(1,n+1):\n",
    "    \n",
    "    \n",
    "    for j in range(1,n-i+1):\n",
    "        print(' ',end = '')\n",
    "        \n",
    "    \n",
    "    starting_num = i\n",
    "    for k in range(1,i+1):\n",
    "        print(starting_num,end = '')\n",
    "        starting_num += 1\n",
    "\n",
    "    starting_num -= 2\n",
    "    for l in range(1,i):\n",
    "        print(starting_num,end = '')\n",
    "        starting_num -= 1\n",
    "    \n",
    "    print()"
   ]
  },
  {
   "cell_type": "code",
   "execution_count": null,
   "metadata": {},
   "outputs": [],
   "source": []
  },
  {
   "cell_type": "code",
   "execution_count": null,
   "metadata": {},
   "outputs": [],
   "source": []
  },
  {
   "cell_type": "code",
   "execution_count": null,
   "metadata": {},
   "outputs": [],
   "source": []
  },
  {
   "cell_type": "code",
   "execution_count": null,
   "metadata": {},
   "outputs": [],
   "source": []
  },
  {
   "cell_type": "code",
   "execution_count": null,
   "metadata": {},
   "outputs": [],
   "source": []
  },
  {
   "cell_type": "code",
   "execution_count": null,
   "metadata": {},
   "outputs": [],
   "source": []
  },
  {
   "cell_type": "code",
   "execution_count": null,
   "metadata": {},
   "outputs": [],
   "source": []
  },
  {
   "cell_type": "code",
   "execution_count": null,
   "metadata": {},
   "outputs": [],
   "source": []
  },
  {
   "cell_type": "code",
   "execution_count": null,
   "metadata": {},
   "outputs": [],
   "source": []
  },
  {
   "cell_type": "code",
   "execution_count": null,
   "metadata": {},
   "outputs": [],
   "source": []
  }
 ],
 "metadata": {
  "kernelspec": {
   "display_name": "Python 3",
   "language": "python",
   "name": "python3"
  },
  "language_info": {
   "codemirror_mode": {
    "name": "ipython",
    "version": 3
   },
   "file_extension": ".py",
   "mimetype": "text/x-python",
   "name": "python",
   "nbconvert_exporter": "python",
   "pygments_lexer": "ipython3",
   "version": "3.8.6"
  }
 },
 "nbformat": 4,
 "nbformat_minor": 4
}
