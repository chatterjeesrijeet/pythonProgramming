{
 "cells": [
  {
   "cell_type": "markdown",
   "metadata": {},
   "source": [
    "### Level-wise input for BST "
   ]
  },
  {
   "cell_type": "code",
   "execution_count": 15,
   "metadata": {},
   "outputs": [],
   "source": [
    "class binaryTreeNode:\n",
    "    \n",
    "    def __init__(self,data):\n",
    "        self.data = data\n",
    "        self.left = None\n",
    "        self.right = None"
   ]
  },
  {
   "cell_type": "code",
   "execution_count": 39,
   "metadata": {},
   "outputs": [],
   "source": [
    "import queue\n",
    "\n",
    "def levelwisetreeinput():\n",
    "    \n",
    "    x = int(input(\"Please enter the root node's value : \"))\n",
    "    \n",
    "    if x== -1:\n",
    "        return None\n",
    "    \n",
    "    root = binaryTreeNode(x)\n",
    "    q = queue.Queue()\n",
    "    q.put(root)\n",
    "    \n",
    "    while q.empty()!= True :\n",
    "        \n",
    "        poppedNode = q.get()\n",
    "        \n",
    "        #take the left child :\n",
    "        x = int(input(f\"Enter the value for the left child of {poppedNode.data} : \"))\n",
    "        if x!= -1:\n",
    "            newNode = binaryTreeNode(x)\n",
    "            poppedNode.left = newNode\n",
    "            q.put(newNode)\n",
    "            \n",
    "        #Take the right child of poppedNode :\n",
    "        x = int(input(f\"Enter the value for the Right child of {poppedNode.data} : \"))\n",
    "        if x!= -1:\n",
    "            newNode = binaryTreeNode(x)\n",
    "            poppedNode.right = newNode\n",
    "            q.put(newNode)\n",
    "            \n",
    "    return root"
   ]
  },
  {
   "cell_type": "code",
   "execution_count": 30,
   "metadata": {},
   "outputs": [
    {
     "name": "stdout",
     "output_type": "stream",
     "text": [
      "Please enter the root node's value : 1\n",
      "Enter the value for the left child of 1 : 2\n",
      "Enter the value for the Right child of 1 : 3\n",
      "Enter the value for the left child of 2 : 11\n",
      "Enter the value for the Right child of 2 : -1\n",
      "Enter the value for the left child of 3 : 22\n",
      "Enter the value for the Right child of 3 : 44\n",
      "Enter the value for the left child of 11 : -1\n",
      "Enter the value for the Right child of 11 : 3\n",
      "Enter the value for the left child of 22 : -1\n",
      "Enter the value for the Right child of 22 : 33\n",
      "Enter the value for the left child of 44 : 9\n",
      "Enter the value for the Right child of 44 : -1\n",
      "Enter the value for the left child of 3 : -1\n",
      "Enter the value for the Right child of 3 : -1\n",
      "Enter the value for the left child of 33 : -1\n",
      "Enter the value for the Right child of 33 : -1\n",
      "Enter the value for the left child of 9 : 23\n",
      "Enter the value for the Right child of 9 : 23\n",
      "Enter the value for the left child of 23 : -1\n",
      "Enter the value for the Right child of 23 : -1\n",
      "Enter the value for the left child of 23 : -1\n",
      "Enter the value for the Right child of 23 : -1\n"
     ]
    }
   ],
   "source": [
    "root = levelwisetreeinput()"
   ]
  },
  {
   "cell_type": "markdown",
   "metadata": {},
   "source": [
    "## Level-wise prininting of BST "
   ]
  },
  {
   "cell_type": "code",
   "execution_count": 32,
   "metadata": {},
   "outputs": [],
   "source": [
    "def printbtreelevelwise(root):\n",
    "    \n",
    "    if root == None:\n",
    "        return None\n",
    "    \n",
    "    q = queue.Queue()\n",
    "    q.put(root)\n",
    "    \n",
    "    while q.empty() != True :\n",
    "        \n",
    "        poppedNode = q.get()\n",
    "        \n",
    "        #take the left child node\n",
    "        lchild = poppedNode.left\n",
    "        if lchild != None:\n",
    "            q.put(lchild)\n",
    "            \n",
    "        #take the right child node\n",
    "        rchild = poppedNode.right\n",
    "        if rchild != None:\n",
    "            q.put(rchild)\n",
    "        \n",
    "        #Now print the nodes' value its left child value and right child value \n",
    "        print(f\"{poppedNode.data} : \", end = ' ')\n",
    "        if lchild != None:\n",
    "            print(f\"L:{lchild.data}\",end = ' ')\n",
    "        if rchild != None:\n",
    "            print(f\"R:{rchild.data}\")\n",
    "        else:\n",
    "            print()    "
   ]
  },
  {
   "cell_type": "code",
   "execution_count": 31,
   "metadata": {},
   "outputs": [
    {
     "name": "stdout",
     "output_type": "stream",
     "text": [
      "1 :  L:2 R:3\n",
      "2 :  L:11 \n",
      "3 :  L:22 R:44\n",
      "11 :  R:3\n",
      "22 :  R:33\n",
      "44 :  L:9 \n",
      "3 :  \n",
      "33 :  \n",
      "9 :  L:23 R:23\n",
      "23 :  \n",
      "23 :  \n"
     ]
    }
   ],
   "source": [
    "printbtreelevelwise(root)"
   ]
  },
  {
   "cell_type": "markdown",
   "metadata": {},
   "source": [
    "## Whether a node present in the BST given BST and value X"
   ]
  },
  {
   "cell_type": "code",
   "execution_count": 41,
   "metadata": {},
   "outputs": [],
   "source": [
    "def checkXBST(root,X):\n",
    "    \n",
    "    if root == None:\n",
    "        return False\n",
    "    \n",
    "    if root.data == X :\n",
    "        return True\n",
    "    elif X > root.data:\n",
    "        return checkXBST(root.right,X)\n",
    "    else:\n",
    "        return checkXBST(root.left,X)"
   ]
  },
  {
   "cell_type": "code",
   "execution_count": 52,
   "metadata": {},
   "outputs": [
    {
     "name": "stdout",
     "output_type": "stream",
     "text": [
      "14 :  L:9 R:21\n",
      "9 :  L:4 R:11\n",
      "21 :  L:18 R:71\n",
      "4 :  R:7\n",
      "11 :  L:10 \n",
      "18 :  \n",
      "71 :  L:28 \n",
      "7 :  \n",
      "10 :  \n",
      "28 :  R:40\n",
      "40 :  \n",
      "\n",
      "\n",
      "True\n",
      "True\n",
      "True\n",
      "False\n",
      "True\n"
     ]
    }
   ],
   "source": [
    "# root = levelwisetreeinput()\n",
    "printbtreelevelwise(root)\n",
    "print('\\n')\n",
    "print(checkXBST(root,71))\n",
    "print(checkXBST(root,9))\n",
    "print(checkXBST(root,7))\n",
    "print(checkXBST(root,212))\n",
    "print(checkXBST(root,40))"
   ]
  },
  {
   "cell_type": "markdown",
   "metadata": {},
   "source": [
    "## Given a sorted array build a BST"
   ]
  },
  {
   "cell_type": "code",
   "execution_count": 82,
   "metadata": {},
   "outputs": [],
   "source": [
    "def buildBSTSortedarray(arr):\n",
    "    \n",
    "    if len(arr) == 0:\n",
    "        return None\n",
    "    \n",
    "    mid = len(arr)//2\n",
    "    \n",
    "    root = binaryTreeNode(arr[mid])\n",
    "    \n",
    "    \n",
    "    leftroot = buildBSTSortedarray(arr[:mid])\n",
    "    root.left = leftroot\n",
    "    \n",
    "    #check to ensure that the right side does not go out of index while doing arr[mid+1:]\n",
    "    # as mid+1 can be out of index as well \n",
    "    if mid+1 < len(arr):                              \n",
    "        rightroot = buildBSTSortedarray(arr[mid+1:])\n",
    "        root.right = rightroot\n",
    "    \n",
    "    \n",
    "    return root"
   ]
  },
  {
   "cell_type": "code",
   "execution_count": 83,
   "metadata": {},
   "outputs": [
    {
     "name": "stdout",
     "output_type": "stream",
     "text": [
      "3 :  L:2 R:4\n",
      "2 :  L:1 \n",
      "4 :  \n",
      "1 :  \n"
     ]
    }
   ],
   "source": [
    "arr = [1,2,3,4]\n",
    "root = buildBSTSortedarray(arr)\n",
    "printbtreelevelwise(root)"
   ]
  },
  {
   "cell_type": "markdown",
   "metadata": {},
   "source": [
    "## Print nodes if node value is between k1 and k2 "
   ]
  },
  {
   "cell_type": "code",
   "execution_count": 106,
   "metadata": {},
   "outputs": [],
   "source": [
    "def print_val_if_k1k2(root,k1,k2):\n",
    "    if root == None:\n",
    "        return\n",
    "    \n",
    "    if  root.data < k1 :\n",
    "        print_val_if_k1k2(root.right,k1,k2)\n",
    "    elif root.data > k2:\n",
    "        print_val_if_k1k2(root.left,k1,k2)\n",
    "    else:\n",
    "        print(root.data)\n",
    "        print_val_if_k1k2(root.right,k1,k2)\n",
    "        print_val_if_k1k2(root.left,k1,k2)"
   ]
  },
  {
   "cell_type": "code",
   "execution_count": 111,
   "metadata": {},
   "outputs": [
    {
     "name": "stdout",
     "output_type": "stream",
     "text": [
      "------------ The Tree Structure ----------\n",
      "\n",
      "14 :  L:9 R:21\n",
      "9 :  L:4 R:11\n",
      "21 :  L:18 R:71\n",
      "4 :  R:7\n",
      "11 :  L:10 \n",
      "18 :  \n",
      "71 :  L:28 \n",
      "7 :  \n",
      "10 :  \n",
      "28 :  R:40\n",
      "40 :  \n",
      "--------- The solution Output --------\n",
      "9\n",
      "10\n",
      "4\n",
      "7\n"
     ]
    }
   ],
   "source": [
    "# root = levelwisetreeinput()          \n",
    "print(\"------------ The Tree Structure ----------\\n\")\n",
    "printbtreelevelwise(root)\n",
    "print(\"--------- The solution Output --------\")\n",
    "print_val_if_k1k2(root,1,10)"
   ]
  },
  {
   "cell_type": "markdown",
   "metadata": {},
   "source": [
    "### --------------------------------------------------- BST Check ---------------------------------------------------------------"
   ]
  },
  {
   "cell_type": "markdown",
   "metadata": {},
   "source": [
    "### Whether BST or not ??? O(n^2)"
   ]
  },
  {
   "cell_type": "code",
   "execution_count": 113,
   "metadata": {},
   "outputs": [
    {
     "name": "stdout",
     "output_type": "stream",
     "text": [
      "71\n"
     ]
    }
   ],
   "source": [
    "def maxTree(root):\n",
    "    \n",
    "    if root==None:\n",
    "        return -99999\n",
    "    \n",
    "    return max(root.data,maxTree(root.left),maxTree(root.right))\n",
    "\n",
    "print(maxTree(root))"
   ]
  },
  {
   "cell_type": "code",
   "execution_count": 114,
   "metadata": {},
   "outputs": [
    {
     "name": "stdout",
     "output_type": "stream",
     "text": [
      "4\n"
     ]
    }
   ],
   "source": [
    "def minTree(root):\n",
    "    if root==None:\n",
    "        return 99999\n",
    "    \n",
    "    return min(root.data,minTree(root.left),minTree(root.right))\n",
    "\n",
    "print(minTree(root))"
   ]
  },
  {
   "cell_type": "code",
   "execution_count": 131,
   "metadata": {},
   "outputs": [],
   "source": [
    "def checkBST(root):\n",
    "    \n",
    "    if root == None or (root.left == None and root.right == None):\n",
    "        return True\n",
    "    \n",
    "    maxLeftTree = maxTree(root.left)\n",
    "    minRightTree = minTree(root.right)\n",
    "    \n",
    "    if (root.data > maxLeftTree) and (root.data <= minRightTree):\n",
    "        return (checkBST(root.left) and checkBST(root.right))\n",
    "    else:\n",
    "        return False"
   ]
  },
  {
   "cell_type": "code",
   "execution_count": 132,
   "metadata": {},
   "outputs": [
    {
     "data": {
      "text/plain": [
       "True"
      ]
     },
     "execution_count": 132,
     "metadata": {},
     "output_type": "execute_result"
    }
   ],
   "source": [
    "checkBST(root)"
   ]
  },
  {
   "cell_type": "code",
   "execution_count": 133,
   "metadata": {},
   "outputs": [
    {
     "name": "stdout",
     "output_type": "stream",
     "text": [
      "\n",
      "------------ The Tree Structure ----------\n",
      "\n",
      "21 :  L:11 R:23\n",
      "11 :  L:10 R:22\n",
      "23 :  \n",
      "10 :  \n",
      "22 :  \n",
      "--------- The solution Output --------\n",
      "False\n"
     ]
    }
   ],
   "source": [
    "# root2 = levelwisetreeinput() \n",
    "print(\"\\n------------ The Tree Structure ----------\\n\")\n",
    "printbtreelevelwise(root2)\n",
    "print(\"--------- The solution Output --------\")\n",
    "print(checkBST(root2))"
   ]
  },
  {
   "cell_type": "markdown",
   "metadata": {},
   "source": [
    "            The challenge is same as finding the diameter of the the binary Tree , although \n",
    "      we are going to every node for finding the height of the tree we going again to ask whether \n",
    "      they are BST or not !!!\n",
    "\n",
    "      So lets do that : \n",
    "            While we go to that nodes we ask for height and whether they are BST or not !!!"
   ]
  },
  {
   "cell_type": "markdown",
   "metadata": {},
   "source": [
    "### Modified whether BST or not  O(n)"
   ]
  },
  {
   "cell_type": "code",
   "execution_count": 154,
   "metadata": {},
   "outputs": [],
   "source": [
    "def checkBSTwithMinMax(root,mymin = 999999,mymax = -9999999):\n",
    "    \n",
    "    if root == None:\n",
    "        return True,999999,-9999999\n",
    "        \n",
    "    \n",
    "    leftbst,minleft,maxleft = checkBSTwithMinMax(root.left,mymin,mymax)\n",
    "    rightbst,minright,maxright = checkBSTwithMinMax(root.right,mymin,mymax)\n",
    "\n",
    "    myBSTCheck = (maxleft < root.data) and (root.data <= minright)\n",
    "    \n",
    "    mymax = max(root.data,maxleft,maxright)\n",
    "    mymin = min(root.data,minleft,minright)\n",
    "    \n",
    "    \n",
    "    return myBSTCheck,mymin,mymax"
   ]
  },
  {
   "cell_type": "code",
   "execution_count": 155,
   "metadata": {},
   "outputs": [
    {
     "name": "stdout",
     "output_type": "stream",
     "text": [
      "\n",
      "------------ The Tree Structure ----------\n",
      "\n",
      "21 :  L:11 R:23\n",
      "11 :  L:10 R:22\n",
      "23 :  \n",
      "10 :  \n",
      "22 :  \n",
      "--------- The solution Output --------\n",
      "(False, 10, 23)\n"
     ]
    }
   ],
   "source": [
    "print(\"\\n------------ The Tree Structure ----------\\n\")\n",
    "printbtreelevelwise(root2)\n",
    "print(\"--------- The solution Output --------\")\n",
    "print(checkBSTwithMinMax(root2))"
   ]
  },
  {
   "cell_type": "code",
   "execution_count": 156,
   "metadata": {},
   "outputs": [
    {
     "name": "stdout",
     "output_type": "stream",
     "text": [
      "\n",
      "------------ The Tree Structure ----------\n",
      "\n",
      "14 :  L:9 R:21\n",
      "9 :  L:4 R:11\n",
      "21 :  L:18 R:71\n",
      "4 :  R:7\n",
      "11 :  L:10 \n",
      "18 :  \n",
      "71 :  L:28 \n",
      "7 :  \n",
      "10 :  \n",
      "28 :  R:40\n",
      "40 :  \n",
      "--------- The solution Output --------\n",
      "(True, 4, 71)\n"
     ]
    }
   ],
   "source": [
    "print(\"\\n------------ The Tree Structure ----------\\n\")\n",
    "printbtreelevelwise(root)\n",
    "print(\"--------- The solution Output --------\")\n",
    "print(checkBSTwithMinMax(root))"
   ]
  },
  {
   "cell_type": "markdown",
   "metadata": {},
   "source": [
    "### modified whether BST or not "
   ]
  },
  {
   "cell_type": "code",
   "execution_count": 168,
   "metadata": {},
   "outputs": [],
   "source": [
    "def checkBSTwithRange(root,mymin=-9999,mymax=9999):\n",
    "    \n",
    "    if root == None:\n",
    "        return True\n",
    "    \n",
    "#     leftcheck = checkBSTwithRange(root.left,-9999,root.data-1)      its wrong min is what you receive from parent \n",
    "    leftcheck = checkBSTwithRange(root.left,mymin,root.data-1)\n",
    "#     rightcheck = checkBSTwithRange(root.right,root.data,9999) 3its wrong max is what you receive from parent \n",
    "    rightcheck = checkBSTwithRange(root.right,root.data,mymax)\n",
    "    \n",
    "    mycheck = (root.data > mymin) and (root.data <= mymax)\n",
    "    \n",
    "    return mycheck and leftcheck and rightcheck"
   ]
  },
  {
   "cell_type": "code",
   "execution_count": 169,
   "metadata": {},
   "outputs": [
    {
     "name": "stdout",
     "output_type": "stream",
     "text": [
      "\n",
      "------------ The Tree Structure ----------\n",
      "\n",
      "21 :  L:11 R:23\n",
      "11 :  L:10 R:22\n",
      "23 :  \n",
      "10 :  \n",
      "22 :  \n",
      "--------- The solution Output --------\n",
      "False\n"
     ]
    }
   ],
   "source": [
    "print(\"\\n------------ The Tree Structure ----------\\n\")\n",
    "printbtreelevelwise(root2)\n",
    "print(\"--------- The solution Output --------\")\n",
    "print(checkBSTwithRange(root2))"
   ]
  },
  {
   "cell_type": "code",
   "execution_count": 170,
   "metadata": {},
   "outputs": [
    {
     "name": "stdout",
     "output_type": "stream",
     "text": [
      "\n",
      "------------ The Tree Structure ----------\n",
      "\n",
      "14 :  L:9 R:21\n",
      "9 :  L:4 R:11\n",
      "21 :  L:18 R:71\n",
      "4 :  R:7\n",
      "11 :  L:10 \n",
      "18 :  \n",
      "71 :  L:28 \n",
      "7 :  \n",
      "10 :  \n",
      "28 :  R:40\n",
      "40 :  \n",
      "--------- The solution Output --------\n",
      "True\n"
     ]
    }
   ],
   "source": [
    "print(\"\\n------------ The Tree Structure ----------\\n\")\n",
    "printbtreelevelwise(root)\n",
    "print(\"--------- The solution Output --------\")\n",
    "print(checkBSTwithRange(root))"
   ]
  },
  {
   "cell_type": "markdown",
   "metadata": {},
   "source": [
    "### BST Class "
   ]
  },
  {
   "cell_type": "code",
   "execution_count": 173,
   "metadata": {},
   "outputs": [],
   "source": [
    "class bstnode:\n",
    "    \n",
    "    def __init__(self,data):\n",
    "        self.data = data\n",
    "        self.left = None\n",
    "        self.right = None"
   ]
  },
  {
   "cell_type": "code",
   "execution_count": 317,
   "metadata": {},
   "outputs": [],
   "source": [
    "class BST:\n",
    "    \n",
    "    def __init__(self):\n",
    "        self.root = None\n",
    "        self.cnt = 0\n",
    "        \n",
    "    def printTree(self):\n",
    "        return self.printTreeHelper(self.root)\n",
    "    \n",
    "    def printTreeHelper(self,root):\n",
    "        \n",
    "        if root == None:\n",
    "            return \n",
    "        \n",
    "        print(root.data, ':' ,end = ' ')\n",
    "        if root.left != None:\n",
    "            print(f\"L:{root.left.data}\",end=' ')\n",
    "        if root.right != None:\n",
    "            print(f\"R:{root.right.data}\")\n",
    "        print()\n",
    "        self.printTreeHelper(root.left)\n",
    "        self.printTreeHelper(root.right)\n",
    "     \n",
    "    def insert(self,data):                                          # T(n) = O(h)\n",
    "        self.root = self.insertHelper(self.root,data)\n",
    "        self.cnt += 1\n",
    "        return\n",
    "    \n",
    "    def insertHelper(self,root,data):\n",
    "        \n",
    "        if root == None:\n",
    "            newNode = bstnode(data)\n",
    "            return newNode\n",
    "        \n",
    "        if data < root.data :\n",
    "            root.left =  self.insertHelper(root.left,data)\n",
    "            return root\n",
    "        else:\n",
    "            root.right =  self.insertHelper(root.right,data)\n",
    "            return root\n",
    "    \n",
    "    def delete(self,x):                                                 # T(n) = O(h)\n",
    "        status,self.root = self.deleteHelper(self.root,x)\n",
    "        if status == True:\n",
    "            self.cnt -= 1\n",
    "        \n",
    "        \n",
    "    def deleteHelper(self,root,data):\n",
    "        \n",
    "        if root == None:\n",
    "            return False,None\n",
    "        \n",
    "        if data < root.data :\n",
    "            deleted,root.left = self.deleteHelper(root.left,data)\n",
    "            return deleted,root\n",
    "        elif data > root.data:\n",
    "            deleted,root.right = self.deleteHelper(root.right,data)\n",
    "            return deleted,root\n",
    "        else:\n",
    "            if (root.left == None) and (root.right == None):\n",
    "                return True,None\n",
    "            elif root.left == None:\n",
    "                return True,root.right\n",
    "            elif root.right == None:\n",
    "                return True,root.left\n",
    "            else:\n",
    "                min_val_right = self.minT(root.right)\n",
    "#                 print(f\"oo hoo {min_val_right}\")\n",
    "                root.data = min_val_right\n",
    "                _,root.right = self.deleteHelper(root.right,min_val_right)\n",
    "                return True,root\n",
    "            \n",
    "#     def maxT(self):\n",
    "#         return self.maxThelper(self.root)\n",
    "    \n",
    "    def minT(self,root):\n",
    "        if root == None:\n",
    "            return 9999999\n",
    "        return min(root.data,self.minT(root.left))\n",
    "        \n",
    "    def size(self):\n",
    "        return self.cnt"
   ]
  },
  {
   "cell_type": "code",
   "execution_count": 308,
   "metadata": {},
   "outputs": [],
   "source": [
    "t = BST()"
   ]
  },
  {
   "cell_type": "code",
   "execution_count": 309,
   "metadata": {},
   "outputs": [
    {
     "name": "stdout",
     "output_type": "stream",
     "text": [
      "8\n"
     ]
    }
   ],
   "source": [
    "t.insert(6)\n",
    "t.insert(3)\n",
    "t.insert(9)\n",
    "t.insert(10)\n",
    "t.insert(16)\n",
    "t.insert(4)\n",
    "t.insert(0)\n",
    "t.insert(15)\n",
    "print(t.size())"
   ]
  },
  {
   "cell_type": "code",
   "execution_count": 310,
   "metadata": {},
   "outputs": [
    {
     "name": "stdout",
     "output_type": "stream",
     "text": [
      "6 : L:3 R:9\n",
      "\n",
      "3 : L:0 R:4\n",
      "\n",
      "0 : \n",
      "4 : \n",
      "9 : R:10\n",
      "\n",
      "10 : R:16\n",
      "\n",
      "16 : L:15 \n",
      "15 : \n"
     ]
    }
   ],
   "source": [
    "t.printTree()"
   ]
  },
  {
   "cell_type": "code",
   "execution_count": 311,
   "metadata": {},
   "outputs": [
    {
     "name": "stdout",
     "output_type": "stream",
     "text": [
      "8\n",
      "6 : L:3 R:9\n",
      "\n",
      "3 : L:0 R:4\n",
      "\n",
      "0 : \n",
      "4 : \n",
      "9 : R:10\n",
      "\n",
      "10 : R:16\n",
      "\n",
      "16 : L:15 \n",
      "15 : \n"
     ]
    }
   ],
   "source": [
    "t.delete(334)\n",
    "print(t.size())\n",
    "t.printTree()"
   ]
  },
  {
   "cell_type": "code",
   "execution_count": 312,
   "metadata": {},
   "outputs": [
    {
     "name": "stdout",
     "output_type": "stream",
     "text": [
      "7\n",
      "6 : L:3 R:9\n",
      "\n",
      "3 : L:0 R:4\n",
      "\n",
      "0 : \n",
      "4 : \n",
      "9 : R:10\n",
      "\n",
      "10 : R:16\n",
      "\n",
      "16 : \n"
     ]
    }
   ],
   "source": [
    "t.delete(15)\n",
    "print(t.size())\n",
    "t.printTree()"
   ]
  },
  {
   "cell_type": "code",
   "execution_count": 313,
   "metadata": {},
   "outputs": [
    {
     "name": "stdout",
     "output_type": "stream",
     "text": [
      "6\n",
      "6 : L:3 R:10\n",
      "\n",
      "3 : L:0 R:4\n",
      "\n",
      "0 : \n",
      "4 : \n",
      "10 : R:16\n",
      "\n",
      "16 : \n"
     ]
    }
   ],
   "source": [
    "t.delete(9)\n",
    "print(t.size())\n",
    "t.printTree()"
   ]
  },
  {
   "cell_type": "code",
   "execution_count": 314,
   "metadata": {},
   "outputs": [
    {
     "name": "stdout",
     "output_type": "stream",
     "text": [
      "oo hoo 4\n",
      "5\n",
      "6 : L:4 R:10\n",
      "\n",
      "4 : L:0 \n",
      "0 : \n",
      "10 : R:16\n",
      "\n",
      "16 : \n"
     ]
    }
   ],
   "source": [
    "t.delete(3)\n",
    "print(t.size())\n",
    "t.printTree()"
   ]
  },
  {
   "cell_type": "code",
   "execution_count": 315,
   "metadata": {},
   "outputs": [
    {
     "name": "stdout",
     "output_type": "stream",
     "text": [
      "16\n",
      "60 : L:30 R:90\n",
      "\n",
      "30 : L:10 R:40\n",
      "\n",
      "10 : R:20\n",
      "\n",
      "20 : \n",
      "40 : L:33 \n",
      "33 : \n",
      "90 : L:80 R:200\n",
      "\n",
      "80 : L:71 R:82\n",
      "\n",
      "71 : \n",
      "82 : L:81 R:85\n",
      "\n",
      "81 : \n",
      "85 : \n",
      "200 : L:98 R:214\n",
      "\n",
      "98 : \n",
      "214 : L:211 \n",
      "211 : \n"
     ]
    }
   ],
   "source": [
    "t2 = BST()\n",
    "\n",
    "t2.insert(60)\n",
    "t2.insert(30)\n",
    "t2.insert(90)\n",
    "t2.insert(10)\n",
    "t2.insert(40)\n",
    "t2.insert(80)\n",
    "t2.insert(200)\n",
    "t2.insert(20)\n",
    "t2.insert(33)\n",
    "t2.insert(71)\n",
    "t2.insert(82)\n",
    "t2.insert(98)\n",
    "t2.insert(214)\n",
    "t2.insert(81)\n",
    "t2.insert(85)\n",
    "t2.insert(211)\n",
    "print(t2.size())\n",
    "t2.printTree()"
   ]
  },
  {
   "cell_type": "code",
   "execution_count": 316,
   "metadata": {},
   "outputs": [
    {
     "name": "stdout",
     "output_type": "stream",
     "text": [
      "oo hoo 71\n",
      "15\n",
      "71 : L:30 R:90\n",
      "\n",
      "30 : L:10 R:40\n",
      "\n",
      "10 : R:20\n",
      "\n",
      "20 : \n",
      "40 : L:33 \n",
      "33 : \n",
      "90 : L:80 R:200\n",
      "\n",
      "80 : R:82\n",
      "\n",
      "82 : L:81 R:85\n",
      "\n",
      "81 : \n",
      "85 : \n",
      "200 : L:98 R:214\n",
      "\n",
      "98 : \n",
      "214 : L:211 \n",
      "211 : \n"
     ]
    }
   ],
   "source": [
    "t2.delete(60)\n",
    "print(t2.size())\n",
    "t2.printTree()"
   ]
  },
  {
   "cell_type": "code",
   "execution_count": 319,
   "metadata": {},
   "outputs": [
    {
     "name": "stdout",
     "output_type": "stream",
     "text": [
      "Size of Tree : 8\n",
      "The tree : \n",
      "10 : L:5 R:12\n",
      "\n",
      "5 : R:7\n",
      "\n",
      "7 : L:6 R:8\n",
      "\n",
      "6 : \n",
      "8 : \n",
      "12 : L:11 R:15\n",
      "\n",
      "11 : \n",
      "15 : \n",
      "\n",
      "Size of Tree : 7\n",
      "The tree : \n",
      "11 : L:5 R:12\n",
      "\n",
      "5 : R:7\n",
      "\n",
      "7 : L:6 R:8\n",
      "\n",
      "6 : \n",
      "8 : \n",
      "12 : R:15\n",
      "\n",
      "15 : \n"
     ]
    }
   ],
   "source": [
    "t3 = BST()\n",
    "\n",
    "t3.insert(10)\n",
    "t3.insert(5)\n",
    "t3.insert(7)\n",
    "t3.insert(6)\n",
    "t3.insert(8)\n",
    "t3.insert(12)\n",
    "t3.insert(11)\n",
    "t3.insert(15)\n",
    "\n",
    "print(f\"Size of Tree : {t3.size()}\")\n",
    "print(\"The tree : \")\n",
    "t3.printTree()\n",
    "\n",
    "t3.delete(10)\n",
    "print(f\"\\nSize of Tree : {t3.size()}\")\n",
    "print(\"The tree : \")\n",
    "t3.printTree()\n"
   ]
  },
  {
   "cell_type": "markdown",
   "metadata": {},
   "source": [
    "### Convert a normal BST to Balanced BST"
   ]
  },
  {
   "cell_type": "code",
   "execution_count": null,
   "metadata": {},
   "outputs": [],
   "source": []
  },
  {
   "cell_type": "code",
   "execution_count": null,
   "metadata": {},
   "outputs": [],
   "source": []
  },
  {
   "cell_type": "code",
   "execution_count": null,
   "metadata": {},
   "outputs": [],
   "source": []
  },
  {
   "cell_type": "code",
   "execution_count": null,
   "metadata": {},
   "outputs": [],
   "source": []
  },
  {
   "cell_type": "code",
   "execution_count": null,
   "metadata": {},
   "outputs": [],
   "source": []
  },
  {
   "cell_type": "code",
   "execution_count": null,
   "metadata": {},
   "outputs": [],
   "source": []
  },
  {
   "cell_type": "code",
   "execution_count": null,
   "metadata": {},
   "outputs": [],
   "source": []
  }
 ],
 "metadata": {
  "kernelspec": {
   "display_name": "Python 3",
   "language": "python",
   "name": "python3"
  },
  "language_info": {
   "codemirror_mode": {
    "name": "ipython",
    "version": 3
   },
   "file_extension": ".py",
   "mimetype": "text/x-python",
   "name": "python",
   "nbconvert_exporter": "python",
   "pygments_lexer": "ipython3",
   "version": "3.8.6"
  }
 },
 "nbformat": 4,
 "nbformat_minor": 4
}
