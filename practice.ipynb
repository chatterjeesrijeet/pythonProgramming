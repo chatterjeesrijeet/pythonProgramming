{
 "cells": [
  {
   "cell_type": "code",
   "execution_count": 8,
   "metadata": {},
   "outputs": [],
   "source": [
    "def insersion_sort(l):\n",
    "    \n",
    "    for i in range(1,len(l)):\n",
    "        card_in_hand = l[i]\n",
    "        \n",
    "        j = i-1 \n",
    "        while j >= 0 and l[j] > card_in_hand:\n",
    "            l[j+1] = l[j]\n",
    "            j = j - 1\n",
    "        l[j+1] = card_in_hand\n",
    "    \n",
    "    print(l)\n",
    "    \n",
    "    return"
   ]
  },
  {
   "cell_type": "code",
   "execution_count": 9,
   "metadata": {},
   "outputs": [
    {
     "name": "stdout",
     "output_type": "stream",
     "text": [
      "[1, 2, 9, 4, 3]\n",
      "[1, 2, 9, 4, 3]\n",
      "[1, 2, 9, 9, 3]\n",
      "[1, 2, 4, 4, 9]\n",
      "[1, 2, 3, 4, 9]\n"
     ]
    }
   ],
   "source": [
    "insersion_sort([1,2,9,4,3])"
   ]
  },
  {
   "cell_type": "code",
   "execution_count": 10,
   "metadata": {},
   "outputs": [],
   "source": [
    "def selSort(l):\n",
    "    \n",
    "    for i in range(len(l)):\n",
    "        \n",
    "        min_val_index = i\n",
    "        \n",
    "        for j in range(i+1,len(l)):\n",
    "            if l[j] < l[min_val_index]:\n",
    "                min_val_index = j\n",
    "        \n",
    "        l[i],l[min_val_index] = l[min_val_index],l[i]\n",
    "    print(l)\n",
    "    \n",
    "    return"
   ]
  },
  {
   "cell_type": "code",
   "execution_count": 13,
   "metadata": {},
   "outputs": [
    {
     "name": "stdout",
     "output_type": "stream",
     "text": [
      "[0, 1, 1, 2, 3, 4, 9, 12, 16]\n"
     ]
    }
   ],
   "source": [
    "selSort([16,1,2,9,1,0,12,4,3])"
   ]
  },
  {
   "cell_type": "code",
   "execution_count": 76,
   "metadata": {},
   "outputs": [],
   "source": [
    "def mergeSort(l):\n",
    "    mergeSortHelper(l,0,len(l)-1)\n",
    "    print(l)\n",
    "    return"
   ]
  },
  {
   "cell_type": "code",
   "execution_count": 77,
   "metadata": {},
   "outputs": [],
   "source": [
    "def mergeSortHelper(l,si,ei):\n",
    "    \n",
    "    if si == ei:\n",
    "        return\n",
    "    \n",
    "    mid = (si+ei)//2\n",
    "    \n",
    "    mergeSortHelper(l,si,mid)\n",
    "    mergeSortHelper(l,mid+1,ei)\n",
    "    merge(l,si,mid,ei)\n",
    "#     print(l)\n",
    "    \n",
    "    return"
   ]
  },
  {
   "cell_type": "code",
   "execution_count": 78,
   "metadata": {},
   "outputs": [],
   "source": [
    "def merge(l,si,mid,ei):\n",
    "        \n",
    "    arr_1 = [l[k] for k in range(si,mid+1)]\n",
    "    arr_2 = [l[k] for k in range(mid+1,ei+1)]\n",
    "    \n",
    "    i,j,k = 0,0,si\n",
    "    \n",
    "    while i < len(arr_1) and j < len(arr_2):\n",
    "        if arr_1[i] < arr_2[j]:\n",
    "            l[k] = arr_1[i]\n",
    "            i += 1\n",
    "        else:\n",
    "            l[k] = arr_2[j]\n",
    "            j += 1\n",
    "        k += 1\n",
    "    \n",
    "    if i < len(arr_1):\n",
    "        while i < len(arr_1):\n",
    "            l[k] = arr_1[i]\n",
    "            k += 1\n",
    "            i += 1\n",
    "    if j < len(arr_2) : \n",
    "        while j < len(arr_2):\n",
    "            l[k] = arr_2[j]\n",
    "            k += 1\n",
    "            j += 1\n",
    "#     print(l[si:ei+1])\n",
    "    return \n",
    "        "
   ]
  },
  {
   "cell_type": "code",
   "execution_count": 81,
   "metadata": {},
   "outputs": [
    {
     "name": "stdout",
     "output_type": "stream",
     "text": [
      "[-3, 0, 1, 2, 2, 3, 3, 9, 10, 16, 22, 31, 72, 89]\n"
     ]
    }
   ],
   "source": [
    "mergeSort([89,-3,1,10,72,2,3,0,16,31,22,9,2,3])"
   ]
  },
  {
   "cell_type": "code",
   "execution_count": 156,
   "metadata": {},
   "outputs": [],
   "source": [
    "def quickSortMain(l):\n",
    "    quickSort(l,0,len(l)-1)\n",
    "    print(l)\n",
    "    return"
   ]
  },
  {
   "cell_type": "code",
   "execution_count": 157,
   "metadata": {},
   "outputs": [],
   "source": [
    "def quickSort(l ,si , ei):\n",
    "    \n",
    "    if si >= ei:\n",
    "        return\n",
    "    \n",
    "    index = partition(l,si,ei)\n",
    "#     print(si,ei,index)\n",
    "#     print(l)\n",
    "    \n",
    "    quickSort(l,si,index-1)\n",
    "    quickSort(l,index+1,ei)\n",
    "    \n",
    "    return \n",
    "    "
   ]
  },
  {
   "cell_type": "code",
   "execution_count": 158,
   "metadata": {},
   "outputs": [],
   "source": [
    "def partition(l,si,ei):\n",
    "    \n",
    "    if si==ei:\n",
    "        return \n",
    "    \n",
    "    ele = l[ei]\n",
    "    \n",
    "    count = 0\n",
    "    \n",
    "    for i in range(si,ei):\n",
    "        if l[i] <= ele:\n",
    "            count += 1\n",
    "    \n",
    "    \n",
    "    l[si+count],l[ei] = l[ei],l[si+count]\n",
    "    \n",
    "    i = si\n",
    "    j = si+count+1\n",
    "    \n",
    "    for i in range(si,si+count):\n",
    "        if l[i] > ele:\n",
    "            while l[j] > ele:\n",
    "                j += 1\n",
    "            l[i],l[j] = l[j],l[i]\n",
    "    \n",
    "    return si+count\n",
    "        "
   ]
  },
  {
   "cell_type": "code",
   "execution_count": 159,
   "metadata": {},
   "outputs": [
    {
     "name": "stdout",
     "output_type": "stream",
     "text": [
      "[-3, 0, 1, 2, 2, 3, 3, 9, 10, 16, 22, 31, 72, 89]\n"
     ]
    }
   ],
   "source": [
    "mergeSort([89,-3,1,10,72,2,3,0,16,31,22,9,2,3])"
   ]
  },
  {
   "cell_type": "code",
   "execution_count": 160,
   "metadata": {},
   "outputs": [
    {
     "name": "stdout",
     "output_type": "stream",
     "text": [
      "[-3, 0, 1, 2, 2, 3, 3, 9, 10, 16, 22, 31, 72, 89]\n"
     ]
    }
   ],
   "source": [
    "quickSortMain([89,-3,1,10,72,2,3,0,16,31,22,9,2,3])"
   ]
  },
  {
   "cell_type": "code",
   "execution_count": 161,
   "metadata": {},
   "outputs": [
    {
     "name": "stdout",
     "output_type": "stream",
     "text": [
      "[1, 3, 4, 11]\n"
     ]
    }
   ],
   "source": [
    "quickSortMain([4,11,3,1])"
   ]
  },
  {
   "cell_type": "code",
   "execution_count": null,
   "metadata": {},
   "outputs": [],
   "source": []
  },
  {
   "cell_type": "code",
   "execution_count": null,
   "metadata": {},
   "outputs": [],
   "source": []
  },
  {
   "cell_type": "code",
   "execution_count": null,
   "metadata": {},
   "outputs": [],
   "source": []
  },
  {
   "cell_type": "code",
   "execution_count": null,
   "metadata": {},
   "outputs": [],
   "source": []
  },
  {
   "cell_type": "code",
   "execution_count": null,
   "metadata": {},
   "outputs": [],
   "source": []
  },
  {
   "cell_type": "code",
   "execution_count": null,
   "metadata": {},
   "outputs": [],
   "source": []
  },
  {
   "cell_type": "code",
   "execution_count": null,
   "metadata": {},
   "outputs": [],
   "source": []
  }
 ],
 "metadata": {
  "kernelspec": {
   "display_name": "Python 3",
   "language": "python",
   "name": "python3"
  },
  "language_info": {
   "codemirror_mode": {
    "name": "ipython",
    "version": 3
   },
   "file_extension": ".py",
   "mimetype": "text/x-python",
   "name": "python",
   "nbconvert_exporter": "python",
   "pygments_lexer": "ipython3",
   "version": "3.8.6"
  }
 },
 "nbformat": 4,
 "nbformat_minor": 4
}
