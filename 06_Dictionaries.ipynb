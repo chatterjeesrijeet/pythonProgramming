{
 "cells": [
  {
   "cell_type": "code",
   "execution_count": 1,
   "metadata": {},
   "outputs": [],
   "source": [
    "a = {1:2,3:4,'list':[1,23],'t':(1,2,3),'dict':{1:2}}"
   ]
  },
  {
   "cell_type": "code",
   "execution_count": 3,
   "metadata": {},
   "outputs": [
    {
     "ename": "KeyError",
     "evalue": "12",
     "output_type": "error",
     "traceback": [
      "\u001b[0;31m---------------------------------------------------------------------------\u001b[0m",
      "\u001b[0;31mKeyError\u001b[0m                                  Traceback (most recent call last)",
      "\u001b[0;32m<ipython-input-3-61ca535fb105>\u001b[0m in \u001b[0;36m<module>\u001b[0;34m\u001b[0m\n\u001b[0;32m----> 1\u001b[0;31m \u001b[0;32mdel\u001b[0m \u001b[0ma\u001b[0m\u001b[0;34m[\u001b[0m\u001b[0;36m12\u001b[0m\u001b[0;34m]\u001b[0m\u001b[0;34m\u001b[0m\u001b[0;34m\u001b[0m\u001b[0m\n\u001b[0m",
      "\u001b[0;31mKeyError\u001b[0m: 12"
     ]
    }
   ],
   "source": [
    "del a[12]"
   ]
  },
  {
   "cell_type": "markdown",
   "metadata": {},
   "source": [
    "### Give a word with frequency K "
   ]
  },
  {
   "cell_type": "code",
   "execution_count": 4,
   "metadata": {},
   "outputs": [],
   "source": [
    "st = 'This is a word strings with many many words '\n",
    "wordlist = st.split()"
   ]
  },
  {
   "cell_type": "code",
   "execution_count": 5,
   "metadata": {},
   "outputs": [
    {
     "data": {
      "text/plain": [
       "['This', 'is', 'a', 'word', 'strings', 'with', 'many', 'many', 'words']"
      ]
     },
     "execution_count": 5,
     "metadata": {},
     "output_type": "execute_result"
    }
   ],
   "source": [
    "wordlist"
   ]
  },
  {
   "cell_type": "code",
   "execution_count": 6,
   "metadata": {},
   "outputs": [],
   "source": [
    "d = {}\n",
    "for word in wordlist:\n",
    "    d[word] = d.get(word,0) + 1"
   ]
  },
  {
   "cell_type": "code",
   "execution_count": 7,
   "metadata": {},
   "outputs": [
    {
     "data": {
      "text/plain": [
       "{'This': 1,\n",
       " 'is': 1,\n",
       " 'a': 1,\n",
       " 'word': 1,\n",
       " 'strings': 1,\n",
       " 'with': 1,\n",
       " 'many': 2,\n",
       " 'words': 1}"
      ]
     },
     "execution_count": 7,
     "metadata": {},
     "output_type": "execute_result"
    }
   ],
   "source": [
    "d"
   ]
  },
  {
   "cell_type": "code",
   "execution_count": 10,
   "metadata": {},
   "outputs": [],
   "source": [
    "k = 1"
   ]
  },
  {
   "cell_type": "code",
   "execution_count": 11,
   "metadata": {},
   "outputs": [
    {
     "name": "stdout",
     "output_type": "stream",
     "text": [
      "This\n",
      "is\n",
      "a\n",
      "word\n",
      "strings\n",
      "with\n",
      "words\n"
     ]
    }
   ],
   "source": [
    "for w in d:\n",
    "    if d[w]==k:\n",
    "        print(w)"
   ]
  },
  {
   "cell_type": "code",
   "execution_count": 12,
   "metadata": {},
   "outputs": [],
   "source": [
    "def kfrequencyWords(st,k):\n",
    "    wordlist = st.split()\n",
    "    d = {}\n",
    "    for word in wordlist:\n",
    "        d[word] = d.get(word,0) + 1\n",
    "    for w in d:\n",
    "        if d[w]==k:\n",
    "            print(w)"
   ]
  },
  {
   "cell_type": "code",
   "execution_count": 13,
   "metadata": {},
   "outputs": [
    {
     "name": "stdout",
     "output_type": "stream",
     "text": [
      "This\n",
      "is\n",
      "a\n",
      "word\n",
      "strings\n",
      "with\n",
      "words\n"
     ]
    }
   ],
   "source": [
    "st = 'This is a word strings with many many words'\n",
    "k = 1\n",
    "kfrequencyWords(st,k)"
   ]
  },
  {
   "cell_type": "markdown",
   "metadata": {},
   "source": [
    "### Hash Maps ###"
   ]
  },
  {
   "cell_type": "code",
   "execution_count": 3,
   "metadata": {},
   "outputs": [],
   "source": [
    "class MapNode:\n",
    "    def __init__(self,key,val):\n",
    "        self.key = key\n",
    "        self.val = val\n",
    "        self.next = None"
   ]
  },
  {
   "cell_type": "code",
   "execution_count": null,
   "metadata": {},
   "outputs": [],
   "source": [
    "class HashMap:\n",
    "    \n",
    "    def __init__(self):\n",
    "        self.bucketSize = 10\n",
    "        self.bucketList = [None for i in range(self.bucketSize)]\n",
    "        self.count = 0\n",
    "        \n",
    "    \n",
    "    def insert(self,key,value):\n",
    "        pass\n",
    "    \n",
    "    def size(self):\n",
    "        return self.count\n",
    "    \n",
    "    def search(self,key):\n",
    "        pass\n",
    "    \n",
    "    def delete(self,key):\n",
    "        pass"
   ]
  },
  {
   "cell_type": "code",
   "execution_count": 6,
   "metadata": {},
   "outputs": [],
   "source": [
    "class HashMap:\n",
    "    \n",
    "    def __init__(self):\n",
    "        self.bucketSize = 10\n",
    "        self.bucketList = [None for i in range(self.bucketSize)]\n",
    "        self.count = 0\n",
    "    \n",
    "    def findIndex(self,hc):\n",
    "        return abs(hc)%self.bucketSize\n",
    "    \n",
    "    def insert(self,key,val):\n",
    "        \n",
    "        hc = hash(key)\n",
    "        index = self.findIndex(hc)\n",
    "        \n",
    "        head = self.bucketList[index]\n",
    "        \n",
    "        while head != None:\n",
    "            if head.key == key:\n",
    "                head.val = val\n",
    "                return\n",
    "            head = head.next\n",
    "        \n",
    "        newNode = MapNode(key,val)\n",
    "        newNode.next = head\n",
    "        self.bucketList[index] = newNode\n",
    "        self.count += 1\n",
    "    \n",
    "    def size(self):\n",
    "        return self.count\n",
    "    \n",
    "    def search(self,key):\n",
    "        pass\n",
    "    \n",
    "    def delete(self,key):\n",
    "        pass"
   ]
  },
  {
   "cell_type": "code",
   "execution_count": 7,
   "metadata": {},
   "outputs": [
    {
     "name": "stdout",
     "output_type": "stream",
     "text": [
      "0\n",
      "1\n",
      "2\n",
      "2\n"
     ]
    }
   ],
   "source": [
    "myhash = HashMap()\n",
    "print(myhash.size())\n",
    "myhash.insert(12,144)\n",
    "print(myhash.size())\n",
    "myhash.insert(13,169)\n",
    "print(myhash.size())\n",
    "myhash.insert(12,145)\n",
    "print(myhash.size())"
   ]
  },
  {
   "cell_type": "raw",
   "metadata": {},
   "source": [
    "So basically insert is working fine !!! Lets now implement the search and delete function !!!"
   ]
  },
  {
   "cell_type": "code",
   "execution_count": 22,
   "metadata": {},
   "outputs": [],
   "source": [
    "class HashMap:\n",
    "    \n",
    "    def __init__(self):\n",
    "        self.bucketSize = 10\n",
    "        self.bucketList = [None for i in range(self.bucketSize)]\n",
    "        self.count = 0\n",
    "    \n",
    "    def findIndex(self,hc):\n",
    "        return abs(hc)%self.bucketSize\n",
    "    \n",
    "    def insert(self,key,val):\n",
    "        \n",
    "        hc = hash(key)\n",
    "        index = self.findIndex(hc)\n",
    "        \n",
    "        head = self.bucketList[index]\n",
    "        \n",
    "        while head != None:\n",
    "            if head.key == key:\n",
    "                head.val = val\n",
    "                return\n",
    "            head = head.next\n",
    "        \n",
    "        newNode = MapNode(key,val)\n",
    "        newNode.next = self.bucketList[index]\n",
    "        self.bucketList[index] = newNode\n",
    "        self.count += 1\n",
    "    \n",
    "    def size(self):\n",
    "        return self.count\n",
    "    \n",
    "    def search(self,key):\n",
    "        \n",
    "        hc = hash(key)\n",
    "        index = self.findIndex(hc)\n",
    "        \n",
    "        head = self.bucketList[index]\n",
    "        while head != None:\n",
    "            if head.key == key:\n",
    "                return head.val\n",
    "            head = head.next\n",
    "        return None\n",
    "    \n",
    "    def delete(self,key):\n",
    "        pass"
   ]
  },
  {
   "cell_type": "code",
   "execution_count": 25,
   "metadata": {},
   "outputs": [],
   "source": [
    "myhash = HashMap()\n",
    "myhash.insert(12,144)\n",
    "myhash.insert(13,169)\n",
    "myhash.insert(12,145)\n",
    "myhash.insert(22,124)\n",
    "myhash.insert(32,184)\n",
    "myhash.insert(42,194)"
   ]
  },
  {
   "cell_type": "code",
   "execution_count": 26,
   "metadata": {},
   "outputs": [
    {
     "name": "stdout",
     "output_type": "stream",
     "text": [
      "145\n",
      "None\n",
      "169\n",
      "124\n",
      "184\n",
      "194\n"
     ]
    }
   ],
   "source": [
    "print(myhash.search(12))\n",
    "print(myhash.search(11))\n",
    "print(myhash.search(13))\n",
    "print(myhash.search(22))\n",
    "print(myhash.search(32))\n",
    "print(myhash.search(42))"
   ]
  },
  {
   "cell_type": "raw",
   "metadata": {},
   "source": [
    "So basically search() is also working fine !!! Lets now implement the delete function !!!"
   ]
  },
  {
   "cell_type": "code",
   "execution_count": 63,
   "metadata": {},
   "outputs": [],
   "source": [
    "class HashMap:\n",
    "    \n",
    "    def __init__(self):\n",
    "        self.bucketSize = 10\n",
    "        self.bucketList = [None for i in range(self.bucketSize)]\n",
    "        self.count = 0\n",
    "    \n",
    "    def findIndex(self,hc):\n",
    "        return abs(hc)%self.bucketSize\n",
    "    \n",
    "    def insert(self,key,val):\n",
    "        \n",
    "        hc = hash(key)\n",
    "        index = self.findIndex(hc)\n",
    "        \n",
    "        head = self.bucketList[index]\n",
    "        \n",
    "        while head != None:\n",
    "            if head.key == key:\n",
    "                head.val = val\n",
    "                return\n",
    "            head = head.next\n",
    "        \n",
    "        newNode = MapNode(key,val)\n",
    "        newNode.next = self.bucketList[index]\n",
    "        self.bucketList[index] = newNode\n",
    "        self.count += 1\n",
    "    \n",
    "    def size(self):\n",
    "        return self.count\n",
    "    \n",
    "    def search(self,key):\n",
    "        \n",
    "        hc = hash(key)\n",
    "        index = self.findIndex(hc)\n",
    "        \n",
    "        head = self.bucketList[index]\n",
    "        while head != None:\n",
    "            if head.key == key:\n",
    "                return head.val\n",
    "            head = head.next\n",
    "        return None\n",
    "    \n",
    "    def delete(self,key):\n",
    "        \n",
    "        hc = hash(key)\n",
    "        index = self.findIndex(hc)\n",
    "        \n",
    "        head = self.bucketList[index]\n",
    "        prev = None\n",
    "        \n",
    "        while head != None:\n",
    "            if head.key == key:\n",
    "                deleted_val = head.val\n",
    "                if prev == None:\n",
    "                    self.bucketList[index] = head.next\n",
    "                else:\n",
    "                    prev.next = head.next\n",
    "                return deleted_val\n",
    "            prev = head\n",
    "            head = head.next\n",
    "        return None\n",
    "        "
   ]
  },
  {
   "cell_type": "code",
   "execution_count": 66,
   "metadata": {},
   "outputs": [
    {
     "name": "stdout",
     "output_type": "stream",
     "text": [
      "124\n",
      "145\n",
      "194\n",
      "184\n",
      "None\n"
     ]
    }
   ],
   "source": [
    "myhash = HashMap()\n",
    "\n",
    "myhash.insert(12,144)\n",
    "myhash.insert(13,169)\n",
    "myhash.insert(17,328)\n",
    "myhash.insert(12,145)\n",
    "myhash.insert(22,124)\n",
    "myhash.insert(32,184)\n",
    "myhash.insert(42,194)\n",
    "\n",
    "# print(myhash.search(12))\n",
    "# print(myhash.search(22))\n",
    "# print(myhash.search(222))\n",
    "\n",
    "# print(myhash.delete(222))\n",
    "print(myhash.delete(22))\n",
    "print(myhash.delete(12))\n",
    "print(myhash.delete(42))\n",
    "print(myhash.delete(32))\n",
    "print(myhash.delete(32))"
   ]
  },
  {
   "cell_type": "markdown",
   "metadata": {},
   "source": [
    "     So All hashMap functions works fine !!!"
   ]
  },
  {
   "cell_type": "markdown",
   "metadata": {},
   "source": [
    "### lets implement rehashing to ensure load :\n",
    "                1. Check for Loadfactor(n/bucketSize) after Insert \n",
    "                2. if loadfactor >= 0.7 : call rehashing() else pass "
   ]
  },
  {
   "cell_type": "code",
   "execution_count": 94,
   "metadata": {},
   "outputs": [],
   "source": [
    "class HashMap:\n",
    "    \n",
    "    def __init__(self):\n",
    "        self.bucketSize = 2\n",
    "        self.bucketList = [None for i in range(self.bucketSize)]\n",
    "        self.count = 0\n",
    "    \n",
    "    def findIndex(self,hc):\n",
    "        return abs(hc)%self.bucketSize\n",
    "    \n",
    "    def rehashing(self):\n",
    "        \n",
    "        temp = self.bucketList\n",
    "        \n",
    "        self.bucketSize = 2 * self.bucketSize\n",
    "        self.bucketList = [None for i in range(self.bucketSize)]\n",
    "        self.count = 0\n",
    "        \n",
    "        for i in range(len(temp)):\n",
    "            head = temp[i]\n",
    "            while head is not None:\n",
    "                self.insert(head.key,head.val)\n",
    "                head = head.next\n",
    "        return\n",
    "        \n",
    "    def insert(self,key,val):\n",
    "        \n",
    "        hc = hash(key)\n",
    "        index = self.findIndex(hc)\n",
    "        \n",
    "        head = self.bucketList[index]\n",
    "        \n",
    "        while head != None:\n",
    "            if head.key == key:\n",
    "                head.val = val\n",
    "                return\n",
    "            head = head.next\n",
    "        \n",
    "        newNode = MapNode(key,val)\n",
    "        newNode.next = self.bucketList[index]\n",
    "        self.bucketList[index] = newNode\n",
    "        self.count += 1\n",
    "        \n",
    "        loadfactor = self.size()/self.bucketSize\n",
    "        if loadfactor >= 0.7 :\n",
    "            print(f\"n : {self.size()} and b : {self.bucketSize} so loadfactor : {(self.size())/(self.bucketSize)}\",end = ' ')\n",
    "            print(\"So Calling Rehashing\")\n",
    "            self.rehashing()\n",
    "    \n",
    "    def size(self):\n",
    "        return self.count\n",
    "    \n",
    "    def search(self,key):\n",
    "        \n",
    "        hc = hash(key)\n",
    "        index = self.findIndex(hc)\n",
    "        \n",
    "        head = self.bucketList[index]\n",
    "        while head != None:\n",
    "            if head.key == key:\n",
    "                return head.val\n",
    "            head = head.next\n",
    "        return None\n",
    "    \n",
    "    def delete(self,key):\n",
    "        \n",
    "        hc = hash(key)\n",
    "        index = self.findIndex(hc)\n",
    "        \n",
    "        head = self.bucketList[index]\n",
    "        prev = None\n",
    "        \n",
    "        while head != None:\n",
    "            if head.key == key:\n",
    "                deleted_val = head.val\n",
    "                if prev == None:\n",
    "                    self.bucketList[index] = head.next\n",
    "                else:\n",
    "                    prev.next = head.next\n",
    "                return deleted_val\n",
    "            prev = head\n",
    "            head = head.next\n",
    "        return None\n",
    "        "
   ]
  },
  {
   "cell_type": "code",
   "execution_count": 98,
   "metadata": {},
   "outputs": [
    {
     "name": "stdout",
     "output_type": "stream",
     "text": [
      "n : 2 and b : 2 so loadfactor : 1.0 So Calling Rehashing\n",
      "2\n",
      "n : 3 and b : 4 so loadfactor : 0.75 So Calling Rehashing\n",
      "n : 6 and b : 8 so loadfactor : 0.75 So Calling Rehashing\n",
      "194\n",
      "194\n",
      "194\n",
      "194\n",
      "None\n"
     ]
    }
   ],
   "source": [
    "myhash = HashMap()\n",
    "\n",
    "myhash.insert(1,144)\n",
    "myhash.insert(2,169)\n",
    "print(myhash.size())\n",
    "myhash.insert(3,328)  #should call rehash and now size is 4 \n",
    "myhash.insert(4,145)\n",
    "myhash.insert(5,124)  #should call rehash and now size is 8\n",
    "myhash.insert(6,184)\n",
    "myhash.insert(7,194)\n",
    "myhash.insert(7,194)\n",
    "myhash.insert(7,194)\n",
    "myhash.insert(7,194)\n",
    "myhash.insert(7,194)\n",
    "myhash.insert(32,194)\n",
    "myhash.insert(42,194)\n",
    "myhash.insert(22,194)\n",
    "myhash.insert(12,194)\n",
    "\n",
    "print(myhash.delete(22))\n",
    "print(myhash.delete(12))\n",
    "print(myhash.delete(42))\n",
    "print(myhash.delete(32))\n",
    "print(myhash.delete(32))"
   ]
  },
  {
   "cell_type": "code",
   "execution_count": null,
   "metadata": {},
   "outputs": [],
   "source": []
  },
  {
   "cell_type": "code",
   "execution_count": null,
   "metadata": {},
   "outputs": [],
   "source": []
  },
  {
   "cell_type": "code",
   "execution_count": null,
   "metadata": {},
   "outputs": [],
   "source": []
  },
  {
   "cell_type": "code",
   "execution_count": null,
   "metadata": {},
   "outputs": [],
   "source": []
  },
  {
   "cell_type": "code",
   "execution_count": null,
   "metadata": {},
   "outputs": [],
   "source": []
  },
  {
   "cell_type": "code",
   "execution_count": null,
   "metadata": {},
   "outputs": [],
   "source": []
  },
  {
   "cell_type": "code",
   "execution_count": null,
   "metadata": {},
   "outputs": [],
   "source": []
  },
  {
   "cell_type": "code",
   "execution_count": null,
   "metadata": {},
   "outputs": [],
   "source": []
  },
  {
   "cell_type": "code",
   "execution_count": null,
   "metadata": {},
   "outputs": [],
   "source": []
  }
 ],
 "metadata": {
  "kernelspec": {
   "display_name": "Python 3",
   "language": "python",
   "name": "python3"
  },
  "language_info": {
   "codemirror_mode": {
    "name": "ipython",
    "version": 3
   },
   "file_extension": ".py",
   "mimetype": "text/x-python",
   "name": "python",
   "nbconvert_exporter": "python",
   "pygments_lexer": "ipython3",
   "version": "3.8.6"
  }
 },
 "nbformat": 4,
 "nbformat_minor": 4
}
