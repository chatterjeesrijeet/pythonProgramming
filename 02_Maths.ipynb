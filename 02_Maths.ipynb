{
 "cells": [
  {
   "cell_type": "markdown",
   "metadata": {},
   "source": [
    "#### Reversing a Number "
   ]
  },
  {
   "cell_type": "code",
   "execution_count": 9,
   "metadata": {},
   "outputs": [],
   "source": [
    "def numReverse(n):\n",
    "    revNum = 0 \n",
    "    while n > 0:\n",
    "        rem = n % 10\n",
    "        revNum = revNum * 10 + rem\n",
    "        n //= 10\n",
    "    return revNum"
   ]
  },
  {
   "cell_type": "code",
   "execution_count": 10,
   "metadata": {},
   "outputs": [
    {
     "name": "stdout",
     "output_type": "stream",
     "text": [
      "25321\n"
     ]
    }
   ],
   "source": [
    "print(numReverse(12352))"
   ]
  },
  {
   "cell_type": "markdown",
   "metadata": {},
   "source": [
    "#### No of Prime Numbers Till  N"
   ]
  },
  {
   "cell_type": "code",
   "execution_count": 46,
   "metadata": {},
   "outputs": [],
   "source": [
    "def primeNumbersCount_1(n):\n",
    "    \n",
    "    primecount = [0,0] + [1] * (n-2)\n",
    "    \n",
    "    for i in range(2,n):\n",
    "        for j in range(i*i,n,i):\n",
    "            primecount[j] = 0\n",
    "    \n",
    "    return sum(primecount)"
   ]
  },
  {
   "cell_type": "code",
   "execution_count": 47,
   "metadata": {},
   "outputs": [
    {
     "name": "stdout",
     "output_type": "stream",
     "text": [
      "1948\n"
     ]
    }
   ],
   "source": [
    "print(primeNumbersCount(16897))"
   ]
  },
  {
   "cell_type": "code",
   "execution_count": 51,
   "metadata": {},
   "outputs": [
    {
     "name": "stdout",
     "output_type": "stream",
     "text": [
      "84977\n",
      "544.29 secs\n"
     ]
    }
   ],
   "source": [
    "import time,numpy\n",
    "t1 = time.time()\n",
    "print(primeNumbersCount_1(1090009))\n",
    "t2 = time.time()\n",
    "print(str(numpy.round((t2-t1)*1000,2)) + ' secs')"
   ]
  },
  {
   "cell_type": "code",
   "execution_count": 52,
   "metadata": {},
   "outputs": [],
   "source": [
    "def primeNumbersCount_2(n):\n",
    "    \n",
    "    primecount = [0,0] + [1] * (n-2)\n",
    "    \n",
    "    \n",
    "    for i in range(2,n):\n",
    "        if primecount[i]:\n",
    "            primecount[i*i : n : i] = [0] * ( ( (n - i * i - 1 ) // i ) + 1 ) \n",
    "        i += 1 if i == 2 else 2\n",
    "    return sum(primecount)"
   ]
  },
  {
   "cell_type": "code",
   "execution_count": 53,
   "metadata": {},
   "outputs": [
    {
     "name": "stdout",
     "output_type": "stream",
     "text": [
      "84977\n",
      "167.04 secs\n"
     ]
    }
   ],
   "source": [
    "import time,numpy\n",
    "t1 = time.time()\n",
    "print(primeNumbersCount_2(1090009))\n",
    "t2 = time.time()\n",
    "print(str(numpy.round((t2-t1)*1000,2)) + ' secs')"
   ]
  },
  {
   "cell_type": "code",
   "execution_count": null,
   "metadata": {},
   "outputs": [],
   "source": []
  },
  {
   "cell_type": "code",
   "execution_count": null,
   "metadata": {},
   "outputs": [],
   "source": []
  },
  {
   "cell_type": "markdown",
   "metadata": {},
   "source": [
    "#### GCD or HCF of two Numbers"
   ]
  },
  {
   "cell_type": "markdown",
   "metadata": {},
   "source": [
    "    Basic Euclidean Algorithm for GCD \n",
    "\n",
    "    The algorithm is based on the below facts. \n",
    "\n",
    "        1. If we subtract a smaller number from a larger (we reduce a larger number), GCD doesn’t change. So if we keep subtracting repeatedly the larger of two, we end up with GCD.\n",
    "        2. Now instead of subtraction, if we divide the smaller number, the algorithm stops when we find remainder 0."
   ]
  },
  {
   "cell_type": "code",
   "execution_count": 20,
   "metadata": {},
   "outputs": [],
   "source": [
    "def gcd(a,b):\n",
    "    \n",
    "    '''Everything divides 0'''\n",
    "    if a == 0 :\n",
    "        return b \n",
    "    if b == 0:\n",
    "        return a\n",
    "    \n",
    "    '''base case'''\n",
    "    if a==b:\n",
    "        return a\n",
    "    \n",
    "    '''if a  is greater than b'''\n",
    "    if a > b:\n",
    "        return gcd(a-b,b)\n",
    "    return gcd(b,b-a)"
   ]
  },
  {
   "cell_type": "code",
   "execution_count": 22,
   "metadata": {},
   "outputs": [
    {
     "name": "stdout",
     "output_type": "stream",
     "text": [
      "16\n"
     ]
    }
   ],
   "source": [
    "print(gcd(48,1024))"
   ]
  },
  {
   "cell_type": "code",
   "execution_count": 25,
   "metadata": {},
   "outputs": [],
   "source": [
    "def gcdEfficient(a,b):\n",
    "    if b == 0 :\n",
    "        return a\n",
    "    return gcdEfficient(b,a%b)"
   ]
  },
  {
   "cell_type": "code",
   "execution_count": 26,
   "metadata": {},
   "outputs": [
    {
     "name": "stdout",
     "output_type": "stream",
     "text": [
      "16\n"
     ]
    }
   ],
   "source": [
    "print(gcdEfficient(48,1024))"
   ]
  },
  {
   "cell_type": "markdown",
   "metadata": {},
   "source": [
    "                                        ..................."
   ]
  },
  {
   "cell_type": "markdown",
   "metadata": {},
   "source": [
    "#### LCM of two Numbers"
   ]
  },
  {
   "cell_type": "markdown",
   "metadata": {},
   "source": [
    "    Logic : \n",
    "    \n",
    "            a x b = LCM(a, b) * GCD (a, b)\n",
    "        \n",
    "        so, LCM(a, b) = (a x b) / GCD(a, b)"
   ]
  },
  {
   "cell_type": "code",
   "execution_count": 35,
   "metadata": {},
   "outputs": [],
   "source": [
    "def gcd(a,b):\n",
    "    if a==0:\n",
    "        return b\n",
    "    return gcd(b%a,a)\n",
    "\n",
    "def lcm(a,b):\n",
    "    return int((a/(gcd(a,b)))*b)"
   ]
  },
  {
   "cell_type": "code",
   "execution_count": 36,
   "metadata": {},
   "outputs": [
    {
     "name": "stdout",
     "output_type": "stream",
     "text": [
      "65\n"
     ]
    }
   ],
   "source": [
    "print(lcm(5,13))"
   ]
  },
  {
   "cell_type": "markdown",
   "metadata": {},
   "source": [
    "                                            ..............."
   ]
  },
  {
   "cell_type": "markdown",
   "metadata": {},
   "source": [
    "#### Factorial of a Number - Recursively"
   ]
  },
  {
   "cell_type": "code",
   "execution_count": 11,
   "metadata": {},
   "outputs": [],
   "source": [
    "def fact(n):\n",
    "    if n == 0 or n == 1:\n",
    "        return 1\n",
    "    return n * fact(n-1)"
   ]
  },
  {
   "cell_type": "code",
   "execution_count": 12,
   "metadata": {},
   "outputs": [
    {
     "name": "stdout",
     "output_type": "stream",
     "text": [
      "120\n"
     ]
    }
   ],
   "source": [
    "print(fact(5))"
   ]
  },
  {
   "cell_type": "code",
   "execution_count": 13,
   "metadata": {},
   "outputs": [],
   "source": [
    "def tailrecursiveFact(n,a = 1):\n",
    "    if n == 0 or n == 1:\n",
    "        return a\n",
    "    return tailrecursiveFact(n-1,n*a)"
   ]
  },
  {
   "cell_type": "code",
   "execution_count": 14,
   "metadata": {},
   "outputs": [
    {
     "name": "stdout",
     "output_type": "stream",
     "text": [
      "120\n"
     ]
    }
   ],
   "source": [
    "print(tailrecursiveFact(5))"
   ]
  },
  {
   "cell_type": "markdown",
   "metadata": {},
   "source": [
    "    This is a very basic approach there are much more efficient memoization based approaches as well, which we will see later."
   ]
  },
  {
   "cell_type": "markdown",
   "metadata": {},
   "source": [
    "                                        ..................."
   ]
  },
  {
   "cell_type": "markdown",
   "metadata": {},
   "source": [
    "#### Nth element in fibonachhi Series "
   ]
  },
  {
   "cell_type": "markdown",
   "metadata": {},
   "source": [
    "    0, 1, 1, 2, 3, 5, 8, 13, 21, 34, 55, 89, 144,. . ."
   ]
  },
  {
   "cell_type": "code",
   "execution_count": 7,
   "metadata": {},
   "outputs": [],
   "source": [
    "def fibonacciNumber(n):\n",
    "    if n == 1:\n",
    "        return 0\n",
    "    if n == 2 :\n",
    "        return 1\n",
    "    return fibonacciNumber(n-1)+fibonacciNumber(n-2)"
   ]
  },
  {
   "cell_type": "code",
   "execution_count": 8,
   "metadata": {},
   "outputs": [
    {
     "name": "stdout",
     "output_type": "stream",
     "text": [
      "3\n"
     ]
    }
   ],
   "source": [
    "print(fibonacciNumber(5))"
   ]
  },
  {
   "cell_type": "code",
   "execution_count": null,
   "metadata": {},
   "outputs": [],
   "source": []
  },
  {
   "cell_type": "code",
   "execution_count": null,
   "metadata": {},
   "outputs": [],
   "source": []
  },
  {
   "cell_type": "code",
   "execution_count": null,
   "metadata": {},
   "outputs": [],
   "source": []
  },
  {
   "cell_type": "code",
   "execution_count": null,
   "metadata": {},
   "outputs": [],
   "source": []
  },
  {
   "cell_type": "code",
   "execution_count": null,
   "metadata": {},
   "outputs": [],
   "source": []
  },
  {
   "cell_type": "code",
   "execution_count": null,
   "metadata": {},
   "outputs": [],
   "source": []
  },
  {
   "cell_type": "code",
   "execution_count": null,
   "metadata": {},
   "outputs": [],
   "source": []
  },
  {
   "cell_type": "code",
   "execution_count": null,
   "metadata": {},
   "outputs": [],
   "source": []
  },
  {
   "cell_type": "code",
   "execution_count": null,
   "metadata": {},
   "outputs": [],
   "source": []
  }
 ],
 "metadata": {
  "kernelspec": {
   "display_name": "Python 3",
   "language": "python",
   "name": "python3"
  },
  "language_info": {
   "codemirror_mode": {
    "name": "ipython",
    "version": 3
   },
   "file_extension": ".py",
   "mimetype": "text/x-python",
   "name": "python",
   "nbconvert_exporter": "python",
   "pygments_lexer": "ipython3",
   "version": "3.8.6"
  }
 },
 "nbformat": 4,
 "nbformat_minor": 4
}
